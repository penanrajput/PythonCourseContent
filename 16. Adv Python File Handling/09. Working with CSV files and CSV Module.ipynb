{
 "cells": [
  {
   "cell_type": "markdown",
   "metadata": {
    "ExecuteTime": {
     "end_time": "2019-06-28T15:39:38.643268Z",
     "start_time": "2019-06-28T15:39:38.623266Z"
    }
   },
   "source": [
    "## Working with CSV files and CSV Module"
   ]
  },
  {
   "cell_type": "markdown",
   "metadata": {},
   "source": [
    "[1. What is a CSV file?](#section1)  \n",
    "[2. CSV Sample File.](#section2)  \n",
    "[3. Python CSV Module](#section3)  \n",
    "[4. CSV Module Functions](#section4)  \n",
    "[5. Reading CSV Files](#section5)  \n",
    "[6. Reading as a Dictionary](#section6)  \n",
    "[7. Writing to CSV Files](#section7)"
   ]
  },
  {
   "cell_type": "markdown",
   "metadata": {},
   "source": [
    "<a id=\"section1\"></a>\n",
    "**1. What is a CSV file**  \n",
    "  \n",
    "A CSV file is a type of plain text file that uses specific structuring to arrange tabular data. CSV is a common format for data interchange as it's compact, simple and general. Many online services allow its users to export tabular data from the website into a CSV file. Files of CSV will open into Excel, and nearly all databases have a tool to allow import from CSV file. The standard format is defined by rows and columns data. Moreover, each row is terminated by a newline to begin the next row. Also within the row, each column is separated by a comma."
   ]
  },
  {
   "cell_type": "markdown",
   "metadata": {
    "ExecuteTime": {
     "end_time": "2019-06-28T15:50:53.782231Z",
     "start_time": "2019-06-28T15:50:53.770237Z"
    }
   },
   "source": [
    "<a id=\"section2\"></a>\n",
    "**2. CSV Sample File.**  \n",
    "  \n",
    "Data in the form of tables is also called CSV (comma separated values) - literally \"comma-separated values.\" This is a text format intended for the presentation of tabular data. Each line of the file is one line of the table. The values of individual columns are separated by a separator symbol - a comma (,), a semicolon (;) or another symbol. CSV can be easily read and processed by Python."
   ]
  },
  {
   "cell_type": "code",
   "execution_count": 5,
   "metadata": {
    "ExecuteTime": {
     "end_time": "2019-06-28T15:49:33.004206Z",
     "start_time": "2019-06-28T15:49:32.996210Z"
    }
   },
   "outputs": [
    {
     "name": "stdout",
     "output_type": "stream",
     "text": [
      "ï»¿Programming language,Designed by,Appeared,Extension\n",
      "Python,Guido van Rossum,1991,.py\n",
      "Java,James Gosling,1995,.java\n",
      "C++,Bjarne Stroustrup,1983,.cpp\n",
      "\n"
     ]
    }
   ],
   "source": [
    "f = open(\"data.csv\")\n",
    "print(f.read())"
   ]
  },
  {
   "cell_type": "markdown",
   "metadata": {
    "ExecuteTime": {
     "end_time": "2019-06-28T15:51:47.271239Z",
     "start_time": "2019-06-28T15:51:47.259239Z"
    }
   },
   "source": [
    "<a id=\"section3\"></a>\n",
    "**3. Python CSV Module** \n",
    "  \n",
    "Python provides a CSV module to handle CSV files. To read/write data, you need to loop through rows of the CSV. You need to use the split method to get data from specified columns."
   ]
  },
  {
   "cell_type": "markdown",
   "metadata": {},
   "source": [
    "\n",
    "**4. CSV Module Functions**  \n",
    "\n",
    "In CSV module documentation you can find following functions:  \n",
    "\n",
    "csv.field_size_limit – return maximum field size  \n",
    "csv.get_dialect – get the dialect which is associated with the name  \n",
    "csv.list_dialects – show all registered dialects  \n",
    "csv.reader – read data from a csv file  \n",
    "csv.register_dialect - associate dialect with name  \n",
    "csv.writer – write data to a csv file  \n",
    "csv.unregister_dialect - delete the dialect associated with the name the dialect registry  \n",
    "csv.QUOTE_ALL - Quote everything, regardless of type.  \n",
    "csv.QUOTE_MINIMAL - Quote fields with special characters  \n",
    "csv.QUOTE_NONNUMERIC - Quote all fields that aren't numbers value  \n",
    "csv.QUOTE_NONE – Don't quote anything in output  "
   ]
  },
  {
   "cell_type": "markdown",
   "metadata": {
    "ExecuteTime": {
     "end_time": "2019-06-28T15:53:19.599692Z",
     "start_time": "2019-06-28T15:53:19.587691Z"
    }
   },
   "source": [
    "\n",
    "**5. How to Read a CSV File** \n",
    "\n",
    "To read data from CSV files, you must use the reader function to generate a reader object.  \n",
    "  \n",
    "The reader function is developed to take each row of the file and make a list of all columns. Then, you have to choose the column you want the variable data for.  \n",
    "  \n",
    "It sounds a lot more intricate than it is. Let's take a look at this example, and we will find out that working with csv file isn't so hard.  "
   ]
  },
  {
   "cell_type": "code",
   "execution_count": 2,
   "metadata": {
    "ExecuteTime": {
     "end_time": "2019-06-28T15:58:09.762254Z",
     "start_time": "2019-06-28T15:58:09.750255Z"
    }
   },
   "outputs": [
    {
     "output_type": "stream",
     "name": "stdout",
     "text": [
      "['ï»¿Programming language', 'Designed by', 'Appeared', 'Extension']\n['Python', 'Guido van Rossum', '1991', '.py']\n['Java', 'James Gosling', '1995', '.java']\n['C++', 'Bjarne Stroustrup', '1983', '.cpp']\n"
     ]
    }
   ],
   "source": [
    "import csv\n",
    "# f = open(\"data.csv\")\n",
    "with open(\"data.csv\") as f:\n",
    "    data = csv.reader(f)\n",
    "    for row in data:\n",
    "        print(row)"
   ]
  },
  {
   "cell_type": "markdown",
   "metadata": {},
   "source": [
    "<a id=\"section6\"></a>\n",
    "**6. How to Read a CSV as a Dictionary**  \n",
    "\n",
    "  You can also you use DictReader to read CSV files. The results are interpreted as a dictionary where the header row is the key, and other rows are values."
   ]
  },
  {
   "cell_type": "code",
   "execution_count": 20,
   "metadata": {
    "ExecuteTime": {
     "end_time": "2019-06-28T16:01:58.707987Z",
     "start_time": "2019-06-28T16:01:58.699964Z"
    }
   },
   "outputs": [
    {
     "name": "stdout",
     "output_type": "stream",
     "text": [
      "OrderedDict([('ï»¿Programming language', 'Python'), ('Designed by', 'Guido van Rossum'), ('Appeared', '1991'), ('Extension', '.py')])\n",
      "OrderedDict([('ï»¿Programming language', 'Java'), ('Designed by', 'James Gosling'), ('Appeared', '1995'), ('Extension', '.java')])\n",
      "OrderedDict([('ï»¿Programming language', 'C++'), ('Designed by', 'Bjarne Stroustrup'), ('Appeared', '1983'), ('Extension', '.cpp')])\n"
     ]
    }
   ],
   "source": [
    "import csv\n",
    "file = csv.DictReader(open(\"data.csv\"))\n",
    "for row in file:\n",
    "    print(row)"
   ]
  },
  {
   "cell_type": "markdown",
   "metadata": {},
   "source": [
    "<a id=\"section7\"></a>\n",
    "**7. How to write CSV File** \n",
    "  \n",
    "When you have a set of data that you would like to store in a CSV file you have to use writer() function. To iterate the data over the rows(lines), you have to use the writerow() function.  \n",
    "  \n",
    "Consider the following example. We write data into a file \"writeData.csv\" where the delimiter is an apostrophe."
   ]
  },
  {
   "cell_type": "code",
   "execution_count": 21,
   "metadata": {
    "ExecuteTime": {
     "end_time": "2019-06-28T16:04:32.652589Z",
     "start_time": "2019-06-28T16:04:32.640627Z"
    }
   },
   "outputs": [],
   "source": [
    "#import necessary modules\n",
    "import csv\n",
    "\n",
    "with open('writeData.csv', mode='w') as file:\n",
    "    writer = csv.writer(file, delimiter=',', quotechar='\"', quoting=csv.QUOTE_MINIMAL)\n",
    "\n",
    "    #way to write to csv file\n",
    "    writer.writerow(['Programming language', 'Designed by', 'Appeared', 'Extension'])\n",
    "    writer.writerow(['Python', 'Guido van Rossum', '1991', '.py'])\n",
    "    writer.writerow(['Java', 'James Gosling', '1995', '.java'])\n",
    "    writer.writerow(['C++', 'Bjarne Stroustrup', '1985', '.cpp'])"
   ]
  },
  {
   "cell_type": "code",
   "execution_count": 23,
   "metadata": {
    "ExecuteTime": {
     "end_time": "2019-06-28T16:05:57.114983Z",
     "start_time": "2019-06-28T16:05:57.106984Z"
    }
   },
   "outputs": [
    {
     "name": "stdout",
     "output_type": "stream",
     "text": [
      "Programming language,Designed by,Appeared,Extension\n",
      " \n",
      " Python,Guido van Rossum,1991,.py\n",
      " \n",
      " Java,James Gosling,1995,.java\n",
      " \n",
      " C++,Bjarne Stroustrup,1985,.cpp\n",
      " \n",
      " "
     ]
    }
   ],
   "source": [
    "f = open('writeData.csv')\n",
    "data = f.readlines()\n",
    "for item in data:\n",
    "    print(item, end=\" \")"
   ]
  },
  {
   "cell_type": "code",
   "execution_count": null,
   "metadata": {},
   "outputs": [],
   "source": []
  }
 ],
 "metadata": {
  "kernelspec": {
   "display_name": "Python 3",
   "language": "python",
   "name": "python3"
  },
  "language_info": {
   "codemirror_mode": {
    "name": "ipython",
    "version": 3
   },
   "file_extension": ".py",
   "mimetype": "text/x-python",
   "name": "python",
   "nbconvert_exporter": "python",
   "pygments_lexer": "ipython3",
   "version": "3.8.0-final"
  },
  "toc": {
   "base_numbering": 1,
   "nav_menu": {},
   "number_sections": true,
   "sideBar": true,
   "skip_h1_title": false,
   "title_cell": "Table of Contents",
   "title_sidebar": "Contents",
   "toc_cell": false,
   "toc_position": {},
   "toc_section_display": true,
   "toc_window_display": true
  },
  "varInspector": {
   "cols": {
    "lenName": 16,
    "lenType": 16,
    "lenVar": 40
   },
   "kernels_config": {
    "python": {
     "delete_cmd_postfix": "",
     "delete_cmd_prefix": "del ",
     "library": "var_list.py",
     "varRefreshCmd": "print(var_dic_list())"
    },
    "r": {
     "delete_cmd_postfix": ") ",
     "delete_cmd_prefix": "rm(",
     "library": "var_list.r",
     "varRefreshCmd": "cat(var_dic_list()) "
    }
   },
   "types_to_exclude": [
    "module",
    "function",
    "builtin_function_or_method",
    "instance",
    "_Feature"
   ],
   "window_display": false
  }
 },
 "nbformat": 4,
 "nbformat_minor": 2
}
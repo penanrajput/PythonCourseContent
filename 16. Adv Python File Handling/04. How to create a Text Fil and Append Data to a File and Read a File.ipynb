{
 "cells": [
  {
   "cell_type": "markdown",
   "metadata": {
    "ExecuteTime": {
     "end_time": "2019-06-28T09:03:16.808167Z",
     "start_time": "2019-06-28T09:03:16.805696Z"
    }
   },
   "source": [
    "### [Table of Content](https://www.guru99.com/reading-and-writing-files-in-python.html)\n",
    "#### [How to Create a Text File](#section1)\n",
    "#### [How to Write to a File](#section2)\n",
    "#### [How to Append Data to a File](#section3)\n",
    "#### [How to Read a File](#section4)\n",
    "#### [How to Read a File line by line](#section5)"
   ]
  },
  {
   "cell_type": "markdown",
   "metadata": {
    "ExecuteTime": {
     "end_time": "2019-06-28T12:39:33.296376Z",
     "start_time": "2019-06-28T12:39:33.288891Z"
    }
   },
   "source": [
    "<a id=\"section1\"></a>\n",
    "**1. How to Create a Text File**  \n",
    "We declared the variable f to open a file named textfile.txt. Open takes 2 arguments, the file that we want to open and a string that represents the kinds of permission or operation we want to do on the file\n",
    "Here we used \"w\" letter in our argument, which indicates write and the plus sign that means it will create a file if it does not exist in library\n",
    "The available option beside \"w\" are \"r\" for read and \"a\" for append and plus sign means if it is not there then create it"
   ]
  },
  {
   "cell_type": "code",
   "execution_count": 49,
   "metadata": {
    "ExecuteTime": {
     "end_time": "2019-06-28T12:42:34.818637Z",
     "start_time": "2019-06-28T12:42:34.813120Z"
    }
   },
   "outputs": [],
   "source": [
    "data = open(\"new_file.txt\", 'w')"
   ]
  },
  {
   "cell_type": "markdown",
   "metadata": {},
   "source": [
    "<a id=\"section2\"></a>\n",
    "**2. How to Write to a File**  \n",
    "We have a for loop that runs over a range of 10 numbers.\n",
    "Using the write function to enter data into the file.\n",
    "The output we want to iterate in the file is \"this is line number\", which we declare with write function and then percent d (displays integer)\n",
    "So basically we are putting in the line number that we are writing, then putting it in a carriage return and a new line character"
   ]
  },
  {
   "cell_type": "code",
   "execution_count": 1,
   "metadata": {
    "ExecuteTime": {
     "end_time": "2019-06-28T12:46:57.019774Z",
     "start_time": "2019-06-28T12:46:57.014260Z"
    }
   },
   "outputs": [],
   "source": [
    "f = open(\"new_file.txt\", 'w')\n",
    "for i in range(1, 11):\n",
    "     f.write(\"This is line %d\\r\\n\" % (i+1))\n",
    "f.close()"
   ]
  },
  {
   "cell_type": "markdown",
   "metadata": {
    "ExecuteTime": {
     "end_time": "2019-06-28T12:46:37.851837Z",
     "start_time": "2019-06-28T12:46:37.844319Z"
    }
   },
   "source": [
    "<a id=\"section3\"></a>\n",
    "**3. How to Append Data to a File**  \n",
    "Once again if you could see a plus sign in the code, it indicates that it will create a new file if it does not exist. But in our case we already have the file, so we are not required to create a new file."
   ]
  },
  {
   "cell_type": "code",
   "execution_count": 55,
   "metadata": {
    "ExecuteTime": {
     "end_time": "2019-06-28T12:53:06.736859Z",
     "start_time": "2019-06-28T12:53:06.732864Z"
    }
   },
   "outputs": [
    {
     "name": "stdout",
     "output_type": "stream",
     "text": [
      "This is line 1\n",
      "\n",
      "This is line 2\n",
      "\n",
      "This is line 3\n",
      "\n",
      "This is line 4\n",
      "\n",
      "This is line 5\n",
      "\n",
      "This is line 6\n",
      "\n",
      "This is line 7\n",
      "\n",
      "This is line 8\n",
      "\n",
      "This is line 9\n",
      "\n",
      "This is line 10\n",
      "\n",
      "\n"
     ]
    }
   ],
   "source": [
    "f = open('new_file.txt', 'a+')\n",
    "f.write(\"\\nThis is next line appended 11\\n\")\n",
    "print(data)\n",
    "f.close()"
   ]
  },
  {
   "cell_type": "markdown",
   "metadata": {},
   "source": [
    "<a id=\"section3\"></a>\n",
    "**4. How to Read a File**  \n",
    "Not only you can create .txt file from Python but you can also call .txt file in a \"read mode\"(r)."
   ]
  },
  {
   "cell_type": "code",
   "execution_count": 57,
   "metadata": {
    "ExecuteTime": {
     "end_time": "2019-06-28T13:36:11.921327Z",
     "start_time": "2019-06-28T13:36:11.906288Z"
    }
   },
   "outputs": [
    {
     "name": "stdout",
     "output_type": "stream",
     "text": [
      "This is line 1\n",
      "\n",
      "This is line 2\n",
      "\n",
      "This is line 3\n",
      "\n",
      "This is line 4\n",
      "\n",
      "This is line 5\n",
      "\n",
      "This is line 6\n",
      "\n",
      "This is line 7\n",
      "\n",
      "This is line 8\n",
      "\n",
      "This is line 9\n",
      "\n",
      "This is line 10\n",
      "\n",
      "\n",
      "This is next line appended 11\n",
      "\n"
     ]
    }
   ],
   "source": [
    "f = open('new_file.txt', 'r')\n",
    "data = f.read()\n",
    "print(data)\n",
    "f.close()"
   ]
  },
  {
   "cell_type": "markdown",
   "metadata": {
    "ExecuteTime": {
     "end_time": "2019-06-28T13:42:42.037918Z",
     "start_time": "2019-06-28T13:42:42.030897Z"
    }
   },
   "source": [
    "<a id=\"section5\"></a>\n",
    "**5. How to Read a File line by line**  \n",
    "You can also read your .txt file line by line if your data is too big to read. This code will segregate your data in easy to ready mode.\n",
    "When you run the code (f1=f.readlines()) for reading the file or document line by line, it will separate each line and present the file in a readable format. In our case the line is short and readable, the output will look similar to the read mode. But if there is a complex data file which is not readable, this piece of code could be useful."
   ]
  },
  {
   "cell_type": "code",
   "execution_count": 75,
   "metadata": {
    "ExecuteTime": {
     "end_time": "2019-06-28T13:53:35.263145Z",
     "start_time": "2019-06-28T13:53:35.256128Z"
    }
   },
   "outputs": [
    {
     "name": "stdout",
     "output_type": "stream",
     "text": [
      "This is line 1. This is me.\n",
      "\n",
      "This is line 2\n",
      "\n",
      "This is line 3\n",
      "\n",
      "This is line 4\n",
      "\n",
      "This is line 5\n",
      "\n",
      "This is line 6\n",
      "\n",
      "This is line 7\n",
      "\n",
      "This is line 8\n",
      "\n",
      "This is line 9\n",
      "\n",
      "This is line 10\n",
      "\n",
      "\n",
      "\n",
      "This is next line appended 11\n",
      "\n"
     ]
    }
   ],
   "source": [
    "f = open(\"new_file.txt\", \"r+\")\n",
    "f1 = f.readlines() ## generates list contains each line as item\n",
    "for text in f1 :\n",
    "    print(text)"
   ]
  },
  {
   "cell_type": "code",
   "execution_count": 77,
   "metadata": {
    "ExecuteTime": {
     "end_time": "2019-06-28T13:54:06.517969Z",
     "start_time": "2019-06-28T13:54:06.512454Z"
    }
   },
   "outputs": [
    {
     "name": "stdout",
     "output_type": "stream",
     "text": [
      "['This is line 1. This is me.\\n', 'This is line 2\\n', 'This is line 3\\n', 'This is line 4\\n', 'This is line 5\\n', 'This is line 6\\n', 'This is line 7\\n', 'This is line 8\\n', 'This is line 9\\n', 'This is line 10\\n', '\\n', 'This is next line appended 11\\n']\n"
     ]
    }
   ],
   "source": [
    "print(f1)"
   ]
  },
  {
   "cell_type": "code",
   "execution_count": null,
   "metadata": {},
   "outputs": [],
   "source": []
  }
 ],
 "metadata": {
  "kernelspec": {
   "display_name": "Python 3",
   "language": "python",
   "name": "python3"
  },
  "language_info": {
   "codemirror_mode": {
    "name": "ipython",
    "version": 3
   },
   "file_extension": ".py",
   "mimetype": "text/x-python",
   "name": "python",
   "nbconvert_exporter": "python",
   "pygments_lexer": "ipython3",
   "version": "3.8.0-final"
  },
  "toc": {
   "base_numbering": 1,
   "nav_menu": {
    "height": "323.011px",
    "width": "404.991px"
   },
   "number_sections": true,
   "sideBar": true,
   "skip_h1_title": false,
   "title_cell": "Table of Contents",
   "title_sidebar": "Contents",
   "toc_cell": false,
   "toc_position": {
    "height": "calc(100% - 180px)",
    "left": "10px",
    "top": "150px",
    "width": "232.718px"
   },
   "toc_section_display": true,
   "toc_window_display": true
  },
  "varInspector": {
   "cols": {
    "lenName": 16,
    "lenType": 16,
    "lenVar": 40
   },
   "kernels_config": {
    "python": {
     "delete_cmd_postfix": "",
     "delete_cmd_prefix": "del ",
     "library": "var_list.py",
     "varRefreshCmd": "print(var_dic_list())"
    },
    "r": {
     "delete_cmd_postfix": ") ",
     "delete_cmd_prefix": "rm(",
     "library": "var_list.r",
     "varRefreshCmd": "cat(var_dic_list()) "
    }
   },
   "position": {
    "height": "323.201px",
    "left": "778.854px",
    "right": "20px",
    "top": "120px",
    "width": "364.782px"
   },
   "types_to_exclude": [
    "module",
    "function",
    "builtin_function_or_method",
    "instance",
    "_Feature"
   ],
   "window_display": false
  }
 },
 "nbformat": 4,
 "nbformat_minor": 2
}
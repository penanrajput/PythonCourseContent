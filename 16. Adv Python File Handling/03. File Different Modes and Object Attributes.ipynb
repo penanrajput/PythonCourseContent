{
 "cells": [
  {
   "cell_type": "markdown",
   "metadata": {},
   "source": [
    "[GeeksForGeeks](https://www.geeksforgeeks.org/file-objects-python/)<br>\n",
    "'r' : Opens a file for reading only <br>\n",
    "'r+': Opens a file for both reading and writing<br>\n",
    "'w' : Opens a file for writing only<br>\n",
    "'w+': Open a file for writing and reading.<br>\n",
    "'a' : Opens a file for appending <br>\n",
    "'a+': Opens a file for both appending and reading<br>"
   ]
  },
  {
   "cell_type": "code",
   "execution_count": 37,
   "metadata": {
    "ExecuteTime": {
     "end_time": "2019-06-28T09:10:51.267278Z",
     "start_time": "2019-06-28T09:10:51.264310Z"
    }
   },
   "outputs": [],
   "source": [
    "# Here we used \"w\" letter in our argument, which indicates write and the plus sign that\n",
    "# means it will create a file if it does not\n",
    "# exist in library</br>"
   ]
  },
  {
   "cell_type": "code",
   "execution_count": 3,
   "metadata": {},
   "outputs": [
    {
     "data": {
      "text/plain": [
       "<_io.TextIOWrapper name='data.txt' mode='r' encoding='cp1252'>"
      ]
     },
     "execution_count": 3,
     "metadata": {},
     "output_type": "execute_result"
    }
   ],
   "source": [
    "open(\"data.txt\", \"r\")"
   ]
  },
  {
   "cell_type": "code",
   "execution_count": 4,
   "metadata": {},
   "outputs": [
    {
     "data": {
      "text/plain": [
       "<_io.TextIOWrapper name='data.txt' mode='r+' encoding='cp1252'>"
      ]
     },
     "execution_count": 4,
     "metadata": {},
     "output_type": "execute_result"
    }
   ],
   "source": [
    "open(\"data.txt\", \"r+\")"
   ]
  },
  {
   "cell_type": "code",
   "execution_count": 5,
   "metadata": {},
   "outputs": [
    {
     "data": {
      "text/plain": [
       "<_io.TextIOWrapper name='data.txt' mode='w' encoding='cp1252'>"
      ]
     },
     "execution_count": 5,
     "metadata": {},
     "output_type": "execute_result"
    }
   ],
   "source": [
    "open(\"data.txt\", \"w\")"
   ]
  },
  {
   "cell_type": "code",
   "execution_count": 6,
   "metadata": {},
   "outputs": [
    {
     "data": {
      "text/plain": [
       "<_io.TextIOWrapper name='data.txt' mode='w+' encoding='cp1252'>"
      ]
     },
     "execution_count": 6,
     "metadata": {},
     "output_type": "execute_result"
    }
   ],
   "source": [
    "open(\"data.txt\", \"w+\")"
   ]
  },
  {
   "cell_type": "code",
   "execution_count": 7,
   "metadata": {},
   "outputs": [
    {
     "data": {
      "text/plain": [
       "<_io.TextIOWrapper name='data.txt' mode='a' encoding='cp1252'>"
      ]
     },
     "execution_count": 7,
     "metadata": {},
     "output_type": "execute_result"
    }
   ],
   "source": [
    "open(\"data.txt\", \"a\")"
   ]
  },
  {
   "cell_type": "code",
   "execution_count": 8,
   "metadata": {},
   "outputs": [
    {
     "data": {
      "text/plain": [
       "<_io.TextIOWrapper name='data.txt' mode='a+' encoding='cp1252'>"
      ]
     },
     "execution_count": 8,
     "metadata": {},
     "output_type": "execute_result"
    }
   ],
   "source": [
    "open(\"data.txt\", \"a+\")"
   ]
  },
  {
   "cell_type": "markdown",
   "metadata": {},
   "source": [
    "**1. Exploring the file modes**"
   ]
  },
  {
   "cell_type": "code",
   "execution_count": 24,
   "metadata": {},
   "outputs": [],
   "source": [
    "# open file and print all the content "
   ]
  },
  {
   "cell_type": "code",
   "execution_count": 25,
   "metadata": {},
   "outputs": [
    {
     "name": "stdout",
     "output_type": "stream",
     "text": [
      "this is first line\n",
      "this is second line\n",
      "this is third line\n",
      "this is fourth line\n",
      "this is fifth line\n"
     ]
    }
   ],
   "source": [
    "data = open(\"data.txt\", \"r+\")\n",
    "text = data.read()\n",
    "print(text)\n",
    "data.close()"
   ]
  },
  {
   "cell_type": "code",
   "execution_count": 26,
   "metadata": {},
   "outputs": [],
   "source": [
    "# open file and write \"This is Sixth line\" into 'data2.txt'"
   ]
  },
  {
   "cell_type": "code",
   "execution_count": 1,
   "metadata": {},
   "outputs": [
    {
     "output_type": "stream",
     "name": "stdout",
     "text": [
      "\n"
     ]
    }
   ],
   "source": [
    "data = open(\"data2.txt\", \"a+\")\n",
    "# text = data.read()\n",
    "# print(text)\n",
    "\n",
    "data.write(\"\\nThis is sixth line\")\n",
    "\n",
    "text = data.read()\n",
    "print(text)\n",
    "\n",
    "data.close()"
   ]
  },
  {
   "cell_type": "markdown",
   "metadata": {},
   "source": [
    "**2. Printing in which type the file is opened**  \n",
    "we can find the mode using mode() function"
   ]
  },
  {
   "cell_type": "code",
   "execution_count": 2,
   "metadata": {
    "ExecuteTime": {
     "end_time": "2019-06-28T12:56:27.811695Z",
     "start_time": "2019-06-28T12:56:27.804680Z"
    }
   },
   "outputs": [
    {
     "output_type": "stream",
     "name": "stdout",
     "text": [
      "a+\n"
     ]
    }
   ],
   "source": [
    "data = open(\"new_file.txt\", \"a+\")\n",
    "print(data.mode)"
   ]
  },
  {
   "cell_type": "markdown",
   "metadata": {
    "ExecuteTime": {
     "end_time": "2019-06-28T12:58:32.053033Z",
     "start_time": "2019-06-28T12:58:32.046482Z"
    }
   },
   "source": [
    "**Exercise. Find the mode and perform the respective action**\n",
    "\n",
    "1. if mode is read, read the entire file\n",
    "2. if mode is write, write the \"Hello World\" into it\n",
    "3. if mode is append, write the \"Ths is next line\" into it\n",
    "\n",
    "create file if doesn't exist"
   ]
  },
  {
   "cell_type": "code",
   "execution_count": 3,
   "metadata": {
    "ExecuteTime": {
     "end_time": "2019-06-28T13:33:47.356992Z",
     "start_time": "2019-06-28T13:33:47.347968Z"
    }
   },
   "outputs": [
    {
     "output_type": "stream",
     "name": "stdout",
     "text": [
      "a+\n\n"
     ]
    }
   ],
   "source": [
    "f = open(\"text.txt\", \"a+\")\n",
    "print(f.mode)\n",
    "if f.mode == 'a+':\n",
    "    print(f.read())\n",
    "elif f.mode == 'w+':\n",
    "    f.write(\"Hello World\")\n",
    "elif f.mode == 'a+':\n",
    "    f.write(\"This is next line\")\n",
    "else:\n",
    "    pass"
   ]
  }
 ],
 "metadata": {
  "kernelspec": {
   "display_name": "Python 3",
   "language": "python",
   "name": "python3"
  },
  "language_info": {
   "codemirror_mode": {
    "name": "ipython",
    "version": 3
   },
   "file_extension": ".py",
   "mimetype": "text/x-python",
   "name": "python",
   "nbconvert_exporter": "python",
   "pygments_lexer": "ipython3",
   "version": "3.8.0-final"
  },
  "toc": {
   "base_numbering": 1,
   "nav_menu": {},
   "number_sections": true,
   "sideBar": true,
   "skip_h1_title": false,
   "title_cell": "Table of Contents",
   "title_sidebar": "Contents",
   "toc_cell": false,
   "toc_position": {},
   "toc_section_display": true,
   "toc_window_display": false
  },
  "varInspector": {
   "cols": {
    "lenName": 16,
    "lenType": 16,
    "lenVar": 40
   },
   "kernels_config": {
    "python": {
     "delete_cmd_postfix": "",
     "delete_cmd_prefix": "del ",
     "library": "var_list.py",
     "varRefreshCmd": "print(var_dic_list())"
    },
    "r": {
     "delete_cmd_postfix": ") ",
     "delete_cmd_prefix": "rm(",
     "library": "var_list.r",
     "varRefreshCmd": "cat(var_dic_list()) "
    }
   },
   "types_to_exclude": [
    "module",
    "function",
    "builtin_function_or_method",
    "instance",
    "_Feature"
   ],
   "window_display": false
  }
 },
 "nbformat": 4,
 "nbformat_minor": 2
}
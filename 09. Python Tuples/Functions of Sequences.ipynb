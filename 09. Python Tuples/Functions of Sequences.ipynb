{
 "cells": [
  {
   "cell_type": "markdown",
   "metadata": {
    "ExecuteTime": {
     "end_time": "2019-07-06T21:25:02.705608Z",
     "start_time": "2019-07-06T21:25:02.702138Z"
    }
   },
   "source": [
    "````\n",
    "len(seq) -> Returns the length of a sequence\n",
    "max(args) ->  Returns the maximum of a sequence or set of arguments\n",
    "min(args) ->  Returns the minimum of a sequence or set of arguments\n",
    "reversed(seq) -> Lets you iterate over a sequence in reverse\n",
    "sorted(seq) -> Returns a sorted list of the elements of seq\n",
    "\n",
    "tuple(seq) -> Converts a sequence to a tuple\n",
    "list(seq) -> Converts a sequence to a list\n",
    "````"
   ]
  },
  {
   "cell_type": "markdown",
   "metadata": {
    "ExecuteTime": {
     "end_time": "2019-07-06T21:25:10.077000Z",
     "start_time": "2019-07-06T21:25:10.058008Z"
    }
   },
   "source": [
    "* **sequences are list, tuple, dictionary, set**\n",
    "* **All things are intuitive means you don't always need examples**"
   ]
  },
  {
   "cell_type": "code",
   "execution_count": 4,
   "metadata": {
    "ExecuteTime": {
     "end_time": "2019-07-06T21:28:29.927097Z",
     "start_time": "2019-07-06T21:28:29.920505Z"
    }
   },
   "outputs": [
    {
     "data": {
      "text/plain": [
       "11000"
      ]
     },
     "execution_count": 4,
     "metadata": {},
     "output_type": "execute_result"
    }
   ],
   "source": [
    "max({1, 10, 11000})"
   ]
  },
  {
   "cell_type": "code",
   "execution_count": 7,
   "metadata": {
    "ExecuteTime": {
     "end_time": "2019-07-06T21:30:12.613373Z",
     "start_time": "2019-07-06T21:30:12.607395Z"
    }
   },
   "outputs": [
    {
     "data": {
      "text/plain": [
       "[10000, 10, 1]"
      ]
     },
     "execution_count": 7,
     "metadata": {},
     "output_type": "execute_result"
    }
   ],
   "source": [
    "list(reversed([1, 10, 10000]))"
   ]
  },
  {
   "cell_type": "code",
   "execution_count": null,
   "metadata": {},
   "outputs": [],
   "source": [
    "\n"
   ]
  }
 ],
 "metadata": {
  "kernelspec": {
   "display_name": "Python 3",
   "language": "python",
   "name": "python3"
  },
  "language_info": {
   "codemirror_mode": {
    "name": "ipython",
    "version": 3
   },
   "file_extension": ".py",
   "mimetype": "text/x-python",
   "name": "python",
   "nbconvert_exporter": "python",
   "pygments_lexer": "ipython3",
   "version": "3.7.3"
  },
  "toc": {
   "base_numbering": 1,
   "nav_menu": {},
   "number_sections": true,
   "sideBar": true,
   "skip_h1_title": false,
   "title_cell": "Table of Contents",
   "title_sidebar": "Contents",
   "toc_cell": false,
   "toc_position": {},
   "toc_section_display": true,
   "toc_window_display": false
  },
  "varInspector": {
   "cols": {
    "lenName": 16,
    "lenType": 16,
    "lenVar": 40
   },
   "kernels_config": {
    "python": {
     "delete_cmd_postfix": "",
     "delete_cmd_prefix": "del ",
     "library": "var_list.py",
     "varRefreshCmd": "print(var_dic_list())"
    },
    "r": {
     "delete_cmd_postfix": ") ",
     "delete_cmd_prefix": "rm(",
     "library": "var_list.r",
     "varRefreshCmd": "cat(var_dic_list()) "
    }
   },
   "types_to_exclude": [
    "module",
    "function",
    "builtin_function_or_method",
    "instance",
    "_Feature"
   ],
   "window_display": false
  }
 },
 "nbformat": 4,
 "nbformat_minor": 2
}
{
 "cells": [
  {
   "cell_type": "code",
   "execution_count": 3,
   "metadata": {},
   "outputs": [],
   "source": [
    "num = tuple(list(range(1,15)))"
   ]
  },
  {
   "cell_type": "code",
   "execution_count": 4,
   "metadata": {},
   "outputs": [
    {
     "data": {
      "text/plain": [
       "(1, 2, 3, 4, 5, 6, 7, 8, 9, 10, 11, 12, 13, 14)"
      ]
     },
     "execution_count": 4,
     "metadata": {},
     "output_type": "execute_result"
    }
   ],
   "source": [
    "num"
   ]
  },
  {
   "cell_type": "code",
   "execution_count": 7,
   "metadata": {},
   "outputs": [],
   "source": [
    "# Method\tDescription\n",
    "# Python Tuple count()\treturns occurrences of element in a tuple\n",
    "# Python Tuple index()\treturns smallest index of element in tuple\n",
    "# Python any()\tChecks if any Element of an Iterable is True\n",
    "# Python all()\treturns true when all elements in iterable is true\n",
    "# Python ascii()\tReturns String Containing Printable Representation\n",
    "# Python bool()\tConverts a Value to Boolean\n",
    "# Python enumerate()\tReturns an Enumerate Object\n",
    "# Python filter()\tconstructs iterator from elements which are true\n",
    "# Python iter()\treturns iterator for an object\n",
    "# Python len()\tReturns Length of an Object\n",
    "# Python max()\treturns largest element\n",
    "# Python min()\treturns smallest element\n",
    "# Python map()\tApplies Function and Returns a List\n",
    "# Python reversed()\treturns reversed iterator of a sequence\n",
    "# Python slice()\tcreates a slice object specified by range()\n",
    "# Python sorted()\treturns sorted list from a given iterable\n",
    "# Python sum()\tAdd items of an Iterable\n",
    "# Python tuple() Function\tCreates a Tuple\n",
    "# Python zip() Returns an Iterator of Tuples"
   ]
  },
  {
   "cell_type": "code",
   "execution_count": 8,
   "metadata": {},
   "outputs": [],
   "source": [
    "# tuple count "
   ]
  },
  {
   "cell_type": "code",
   "execution_count": 9,
   "metadata": {},
   "outputs": [
    {
     "data": {
      "text/plain": [
       "3"
      ]
     },
     "execution_count": 9,
     "metadata": {},
     "output_type": "execute_result"
    }
   ],
   "source": [
    "num = (4,5,6,4,7,4,6,3)\n",
    "num.count(4)"
   ]
  },
  {
   "cell_type": "code",
   "execution_count": 10,
   "metadata": {},
   "outputs": [
    {
     "data": {
      "text/plain": [
       "0"
      ]
     },
     "execution_count": 10,
     "metadata": {},
     "output_type": "execute_result"
    }
   ],
   "source": [
    "num = (4,5,6,4,7,4,6,3)\n",
    "num.index(4)"
   ]
  },
  {
   "cell_type": "code",
   "execution_count": 19,
   "metadata": {},
   "outputs": [],
   "source": [
    "# Return Value from any()\n",
    "# any() returns:\n",
    "\n",
    "# True if at least one element of an iterable is true\n",
    "# False if all elements are false or if an iterable is empty"
   ]
  },
  {
   "cell_type": "code",
   "execution_count": 23,
   "metadata": {},
   "outputs": [
    {
     "name": "stdout",
     "output_type": "stream",
     "text": [
      "True\n",
      "True\n",
      "False\n",
      "True\n"
     ]
    }
   ],
   "source": [
    "num1 = (4, 5, 0)\n",
    "num2 = (True, 56)\n",
    "num3 = (False, 0)\n",
    "num4 = (True, False)\n",
    "\n",
    "print(any(num1))\n",
    "print(any(num2))\n",
    "print(any(num3))\n",
    "print(any(num4))"
   ]
  },
  {
   "cell_type": "code",
   "execution_count": null,
   "metadata": {},
   "outputs": [],
   "source": []
  },
  {
   "cell_type": "code",
   "execution_count": 24,
   "metadata": {},
   "outputs": [
    {
     "name": "stdout",
     "output_type": "stream",
     "text": [
      "False\n",
      "True\n",
      "False\n",
      "False\n"
     ]
    }
   ],
   "source": [
    "num1 = (4, 5, 0)\n",
    "num2 = (True, 56)\n",
    "num3 = (False, 0)\n",
    "num4 = (True, False)\n",
    "\n",
    "print(all(num1))\n",
    "print(all(num2))\n",
    "print(all(num3))\n",
    "print(all(num4))"
   ]
  },
  {
   "cell_type": "code",
   "execution_count": 25,
   "metadata": {},
   "outputs": [],
   "source": [
    "# bool()"
   ]
  },
  {
   "cell_type": "code",
   "execution_count": 27,
   "metadata": {},
   "outputs": [
    {
     "data": {
      "text/plain": [
       "True"
      ]
     },
     "execution_count": 27,
     "metadata": {},
     "output_type": "execute_result"
    }
   ],
   "source": [
    "num1 = (4, 5, 0)\n",
    "bool(num1[0])"
   ]
  },
  {
   "cell_type": "code",
   "execution_count": 28,
   "metadata": {},
   "outputs": [
    {
     "data": {
      "text/plain": [
       "3"
      ]
     },
     "execution_count": 28,
     "metadata": {},
     "output_type": "execute_result"
    }
   ],
   "source": [
    "num1 = (4, 5, 0)\n",
    "len(num1)"
   ]
  },
  {
   "cell_type": "code",
   "execution_count": 29,
   "metadata": {},
   "outputs": [
    {
     "data": {
      "text/plain": [
       "5"
      ]
     },
     "execution_count": 29,
     "metadata": {},
     "output_type": "execute_result"
    }
   ],
   "source": [
    "max(num1)"
   ]
  },
  {
   "cell_type": "code",
   "execution_count": 30,
   "metadata": {},
   "outputs": [
    {
     "data": {
      "text/plain": [
       "0"
      ]
     },
     "execution_count": 30,
     "metadata": {},
     "output_type": "execute_result"
    }
   ],
   "source": [
    "min(num1)"
   ]
  },
  {
   "cell_type": "code",
   "execution_count": 33,
   "metadata": {},
   "outputs": [
    {
     "data": {
      "text/plain": [
       "[0, 5, 4]"
      ]
     },
     "execution_count": 33,
     "metadata": {},
     "output_type": "execute_result"
    }
   ],
   "source": [
    "list(reversed(num1))"
   ]
  },
  {
   "cell_type": "code",
   "execution_count": 2,
   "metadata": {},
   "outputs": [
    {
     "output_type": "stream",
     "name": "stdout",
     "text": [
      "{'name': 'PENAN', 'age': 19, 'course': 'B.Tech'}\n"
     ]
    }
   ],
   "source": [
    "# zip()\n",
    "tuple1 = (\"name\", \"age\", \"course\")\n",
    "tuple2 = (\"PENAN\", 19, \"B.Tech\")\n",
    "\n",
    "list1=list(tuple1)\n",
    "list2=list(tuple2)\n",
    "\n",
    "dict1 = zip(list1, list2)\n",
    "\n",
    "print(dict(dict1))"
   ]
  },
  {
   "cell_type": "code",
   "execution_count": 47,
   "metadata": {},
   "outputs": [
    {
     "name": "stdout",
     "output_type": "stream",
     "text": [
      "<zip object at 0x000001C36D9FCBC8>\n",
      "{'name': 'PENAN', 'age': 19, 'course': 'B.Tech'}\n"
     ]
    }
   ],
   "source": [
    "# zip()\n",
    "tuple1 = (\"name\", \"age\", \"course\")\n",
    "tuple2 = (\"PENAN\", 19, \"B.Tech\")\n",
    "\n",
    "dict1 = zip(tuple1, tuple2)\n",
    "\n",
    "print(dict1)\n",
    "print(dict(dict1))"
   ]
  },
  {
   "cell_type": "code",
   "execution_count": 49,
   "metadata": {},
   "outputs": [],
   "source": [
    "# tuple() function applies to iterable"
   ]
  },
  {
   "cell_type": "code",
   "execution_count": 51,
   "metadata": {},
   "outputs": [
    {
     "name": "stdout",
     "output_type": "stream",
     "text": [
      "('h', 'e', 'l', 'l', 'o', ' ', 'W', 'o', 'r', 'l', 'd')\n"
     ]
    }
   ],
   "source": [
    "# string into tuple \n",
    "string = \"hello World\"\n",
    "t = tuple(string)\n",
    "print(t)"
   ]
  },
  {
   "cell_type": "code",
   "execution_count": 53,
   "metadata": {},
   "outputs": [
    {
     "data": {
      "text/plain": [
       "(1, 2, 3, 4, 5)"
      ]
     },
     "execution_count": 53,
     "metadata": {},
     "output_type": "execute_result"
    }
   ],
   "source": [
    "# list into tuple\n",
    "t = tuple([1,2,3,4,5])\n",
    "t"
   ]
  },
  {
   "cell_type": "code",
   "execution_count": 55,
   "metadata": {},
   "outputs": [
    {
     "ename": "TypeError",
     "evalue": "'int' object is not iterable",
     "output_type": "error",
     "traceback": [
      "\u001b[1;31m---------------------------------------------------------------------------\u001b[0m",
      "\u001b[1;31mTypeError\u001b[0m                                 Traceback (most recent call last)",
      "\u001b[1;32m<ipython-input-55-42abc27f4af1>\u001b[0m in \u001b[0;36m<module>\u001b[1;34m\u001b[0m\n\u001b[0;32m      1\u001b[0m \u001b[1;31m# primitive datatype into tuple\u001b[0m\u001b[1;33m\u001b[0m\u001b[1;33m\u001b[0m\u001b[1;33m\u001b[0m\u001b[0m\n\u001b[1;32m----> 2\u001b[1;33m \u001b[0mt\u001b[0m \u001b[1;33m=\u001b[0m \u001b[0mtuple\u001b[0m\u001b[1;33m(\u001b[0m\u001b[1;36m56454\u001b[0m\u001b[1;33m)\u001b[0m\u001b[1;33m\u001b[0m\u001b[1;33m\u001b[0m\u001b[0m\n\u001b[0m\u001b[0;32m      3\u001b[0m \u001b[0mt\u001b[0m\u001b[1;33m\u001b[0m\u001b[1;33m\u001b[0m\u001b[0m\n",
      "\u001b[1;31mTypeError\u001b[0m: 'int' object is not iterable"
     ]
    }
   ],
   "source": [
    "# primitive datatype into tuple  doesn't work out because they are not iterable\n",
    "t = tuple(56454)"
   ]
  },
  {
   "cell_type": "code",
   "execution_count": null,
   "metadata": {},
   "outputs": [],
   "source": []
  }
 ],
 "metadata": {
  "kernelspec": {
   "display_name": "Python 3",
   "language": "python",
   "name": "python3"
  },
  "language_info": {
   "codemirror_mode": {
    "name": "ipython",
    "version": 3
   },
   "file_extension": ".py",
   "mimetype": "text/x-python",
   "name": "python",
   "nbconvert_exporter": "python",
   "pygments_lexer": "ipython3",
   "version": "3.8.0-final"
  }
 },
 "nbformat": 4,
 "nbformat_minor": 2
}
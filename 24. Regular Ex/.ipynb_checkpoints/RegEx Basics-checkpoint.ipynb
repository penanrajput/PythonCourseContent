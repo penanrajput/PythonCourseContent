{
 "cells": [
  {
   "cell_type": "code",
   "execution_count": 1,
   "metadata": {
    "ExecuteTime": {
     "end_time": "2019-07-22T14:08:27.413918Z",
     "start_time": "2019-07-22T14:08:27.410656Z"
    }
   },
   "outputs": [],
   "source": [
    "import re\n",
    "\n",
    "text_to_search = '''\n",
    "abcdefghijklmnopqurtuvwxyz\n",
    "ABCDEFGHIJKLMNOPQRSTUVWXYZ\n",
    "1234567890\n",
    "\n",
    "Ha HaHa\n",
    "\n",
    "MetaCharacters (Need to be escaped):\n",
    ". ^ $ * + ? { } [ ] \\ | ( )\n",
    "\n",
    "coreyms.com\n",
    "\n",
    "321-555-4321\n",
    "123.555.1234\n",
    "123*555*1234\n",
    "800-555-1234\n",
    "900-555-1234\n",
    "\n",
    "Mr. Schafer\n",
    "Mr Smith\n",
    "Ms Davis\n",
    "Mrs. Robinson\n",
    "Mr. T\n",
    "'''\n",
    "\n",
    "sentence = 'Start start a sentence and then bring it to an end'"
   ]
  },
  {
   "cell_type": "code",
   "execution_count": 2,
   "metadata": {
    "ExecuteTime": {
     "end_time": "2019-07-22T14:08:27.567745Z",
     "start_time": "2019-07-22T14:08:27.415923Z"
    },
    "scrolled": true
   },
   "outputs": [
    {
     "name": "stdout",
     "output_type": "stream",
     "text": [
      "<re.Match object; span=(55, 56), match='1'>\n",
      "<re.Match object; span=(56, 57), match='2'>\n",
      "<re.Match object; span=(57, 58), match='3'>\n",
      "<re.Match object; span=(58, 59), match='4'>\n",
      "<re.Match object; span=(59, 60), match='5'>\n",
      "<re.Match object; span=(60, 61), match='6'>\n",
      "<re.Match object; span=(61, 62), match='7'>\n",
      "<re.Match object; span=(62, 63), match='8'>\n",
      "<re.Match object; span=(63, 64), match='9'>\n",
      "<re.Match object; span=(64, 65), match='0'>\n",
      "<re.Match object; span=(155, 156), match='3'>\n",
      "<re.Match object; span=(156, 157), match='2'>\n",
      "<re.Match object; span=(157, 158), match='1'>\n",
      "<re.Match object; span=(159, 160), match='5'>\n",
      "<re.Match object; span=(160, 161), match='5'>\n",
      "<re.Match object; span=(161, 162), match='5'>\n",
      "<re.Match object; span=(163, 164), match='4'>\n",
      "<re.Match object; span=(164, 165), match='3'>\n",
      "<re.Match object; span=(165, 166), match='2'>\n",
      "<re.Match object; span=(166, 167), match='1'>\n",
      "<re.Match object; span=(168, 169), match='1'>\n",
      "<re.Match object; span=(169, 170), match='2'>\n",
      "<re.Match object; span=(170, 171), match='3'>\n",
      "<re.Match object; span=(172, 173), match='5'>\n",
      "<re.Match object; span=(173, 174), match='5'>\n",
      "<re.Match object; span=(174, 175), match='5'>\n",
      "<re.Match object; span=(176, 177), match='1'>\n",
      "<re.Match object; span=(177, 178), match='2'>\n",
      "<re.Match object; span=(178, 179), match='3'>\n",
      "<re.Match object; span=(179, 180), match='4'>\n",
      "<re.Match object; span=(181, 182), match='1'>\n",
      "<re.Match object; span=(182, 183), match='2'>\n",
      "<re.Match object; span=(183, 184), match='3'>\n",
      "<re.Match object; span=(185, 186), match='5'>\n",
      "<re.Match object; span=(186, 187), match='5'>\n",
      "<re.Match object; span=(187, 188), match='5'>\n",
      "<re.Match object; span=(189, 190), match='1'>\n",
      "<re.Match object; span=(190, 191), match='2'>\n",
      "<re.Match object; span=(191, 192), match='3'>\n",
      "<re.Match object; span=(192, 193), match='4'>\n",
      "<re.Match object; span=(194, 195), match='8'>\n",
      "<re.Match object; span=(195, 196), match='0'>\n",
      "<re.Match object; span=(196, 197), match='0'>\n",
      "<re.Match object; span=(198, 199), match='5'>\n",
      "<re.Match object; span=(199, 200), match='5'>\n",
      "<re.Match object; span=(200, 201), match='5'>\n",
      "<re.Match object; span=(202, 203), match='1'>\n",
      "<re.Match object; span=(203, 204), match='2'>\n",
      "<re.Match object; span=(204, 205), match='3'>\n",
      "<re.Match object; span=(205, 206), match='4'>\n",
      "<re.Match object; span=(207, 208), match='9'>\n",
      "<re.Match object; span=(208, 209), match='0'>\n",
      "<re.Match object; span=(209, 210), match='0'>\n",
      "<re.Match object; span=(211, 212), match='5'>\n",
      "<re.Match object; span=(212, 213), match='5'>\n",
      "<re.Match object; span=(213, 214), match='5'>\n",
      "<re.Match object; span=(215, 216), match='1'>\n",
      "<re.Match object; span=(216, 217), match='2'>\n",
      "<re.Match object; span=(217, 218), match='3'>\n",
      "<re.Match object; span=(218, 219), match='4'>\n"
     ]
    }
   ],
   "source": [
    "pattern = re.compile('\\d')\n",
    "\n",
    "matches = pattern.finditer(text_to_search)\n",
    "\n",
    "for match in matches:\n",
    "    print(match)"
   ]
  },
  {
   "cell_type": "code",
   "execution_count": 3,
   "metadata": {
    "ExecuteTime": {
     "end_time": "2019-07-22T14:08:27.672892Z",
     "start_time": "2019-07-22T14:08:27.570753Z"
    },
    "scrolled": true
   },
   "outputs": [
    {
     "name": "stdout",
     "output_type": "stream",
     "text": [
      "<re.Match object; span=(1, 22), match='Mr. Schafer Raujput9d'>\n",
      "<re.Match object; span=(23, 37), match='Mr Smith Kumar'>\n",
      "<re.Match object; span=(51, 68), match='Mrs. Robinson Per'>\n",
      "<re.Match object; span=(69, 77), match='Mr. T RR'>\n"
     ]
    }
   ],
   "source": [
    "text_to_search='''\n",
    "Mr. Schafer Raujput9d\n",
    "Mr Smith Kumar\n",
    "Ms Davis Roy\n",
    "Mrs. Robinson Per\n",
    "Mr. T RR\n",
    "'''\n",
    "\n",
    "pattern = re.compile('Mrs?.?\\s\\w+\\s\\w+')\n",
    "matches = pattern.finditer(text_to_search)\n",
    "\n",
    "for match in matches:\n",
    "    print(match)"
   ]
  },
  {
   "cell_type": "code",
   "execution_count": 4,
   "metadata": {
    "ExecuteTime": {
     "end_time": "2019-07-22T14:08:27.788409Z",
     "start_time": "2019-07-22T14:08:27.677892Z"
    }
   },
   "outputs": [
    {
     "name": "stdout",
     "output_type": "stream",
     "text": [
      "<re.Match object; span=(1, 19), match='Mr. Schafer Rajput'>\n",
      "<re.Match object; span=(22, 36), match='Mr Smith Kumar'>\n",
      "<re.Match object; span=(50, 67), match='Mrs. Robinson Per'>\n",
      "<re.Match object; span=(68, 76), match='Mr. T RR'>\n"
     ]
    }
   ],
   "source": [
    "text_to_search='''\n",
    "Mr. Schafer Rajput9d\n",
    "Mr Smith Kumar\n",
    "Ms Davis Roy\n",
    "Mrs. Robinson Per\n",
    "Mr. T RR\n",
    "'''\n",
    "\n",
    "pattern = re.compile('Mrs?.?\\s\\w+\\s\\w[^0-9\\s]+')\n",
    "matches = pattern.finditer(text_to_search)\n",
    "\n",
    "count = 0\n",
    "for match in matches:\n",
    "    print(match)\n"
   ]
  },
  {
   "cell_type": "code",
   "execution_count": 5,
   "metadata": {
    "ExecuteTime": {
     "end_time": "2019-07-22T14:08:28.016720Z",
     "start_time": "2019-07-22T14:08:27.790455Z"
    },
    "scrolled": true
   },
   "outputs": [
    {
     "name": "stdout",
     "output_type": "stream",
     "text": [
      "<re.Match object; span=(25, 59), match='173 Main St., Springfield RI 55924'>\n",
      "<re.Match object; span=(115, 146), match='969 High St., Atlantis VA 34075'>\n",
      "<re.Match object; span=(204, 234), match='806 1st St., Faketown AK 86847'>\n",
      "<re.Match object; span=(294, 324), match='826 Elm St., Epicburg NE 10671'>\n",
      "<re.Match object; span=(391, 424), match='212 Cedar St., Sunnydale CT 74983'>\n",
      "<re.Match object; span=(480, 516), match='519 Washington St., Olympus TN 32425'>\n",
      "<re.Match object; span=(570, 600), match='625 Oak St., Dawnstar IL 61914'>\n",
      "<re.Match object; span=(660, 694), match='890 Main St., Pythonville LA 29947'>\n",
      "<re.Match object; span=(844, 872), match='249 Elm St., Quahog OR 90938'>\n",
      "<re.Match object; span=(930, 963), match='619 Park St., Winterfell VA 99000'>\n",
      "<re.Match object; span=(1018, 1050), match='220 Cedar St., Lakeview NY 87282'>\n",
      "<re.Match object; span=(1106, 1138), match='391 High St., Smalltown WY 28362'>\n",
      "<re.Match object; span=(1286, 1317), match='433 Elm St., Westworld TX 61967'>\n",
      "<re.Match object; span=(1372, 1402), match='838 Main St., Balmora MT 56526'>\n",
      "<re.Match object; span=(1456, 1486), match='732 High St., Valyria KY 97152'>\n",
      "<re.Match object; span=(1631, 1660), match='191 Main St., Mordor IL 72160'>\n",
      "<re.Match object; span=(1714, 1753), match='607 Washington St., Blackwater NH 97183'>\n",
      "<re.Match object; span=(1807, 1836), match='478 Oak St., Bedrock IA 58176'>\n",
      "<re.Match object; span=(1891, 1919), match='906 Elm St., Mordor TX 89212'>\n",
      "<re.Match object; span=(1979, 2011), match='949 Main St., Smalltown SC 96962'>\n",
      "<re.Match object; span=(2068, 2101), match='835 Pearl St., Smalltown ND 77737'>\n",
      "<re.Match object; span=(2152, 2182), match='451 Lake St., Bedrock GA 34615'>\n",
      "<re.Match object; span=(2233, 2263), match='419 Lake St., Balmora OR 30826'>\n",
      "<re.Match object; span=(2317, 2347), match='443 Maple St., Quahog MS 29348'>\n",
      "<re.Match object; span=(2404, 2434), match='756 Hill St., Valyria KY 94854'>\n",
      "<re.Match object; span=(2492, 2522), match='216 High St., Olympus NV 21888'>\n",
      "<re.Match object; span=(2579, 2610), match='806 Lake St., Lakeview MD 59348'>\n",
      "<re.Match object; span=(2664, 2693), match='354 Hill St., Mordor FL 74122'>\n",
      "<re.Match object; span=(2751, 2785), match='805 Maple St., Winterfell NV 99431'>\n",
      "<re.Match object; span=(2843, 2876), match='418 Park St., Metropolis ID 16576'>\n",
      "<re.Match object; span=(3031, 3064), match='122 High St., Metropolis ME 29540'>\n",
      "<re.Match object; span=(3211, 3245), match='332 Main St., Pythonville OH 78172'>\n",
      "<re.Match object; span=(3303, 3336), match='858 Hill St., Blackwater NC 79714'>\n",
      "<re.Match object; span=(3391, 3421), match='441 Elm St., Atlantis MS 87195'>\n",
      "<re.Match object; span=(3471, 3501), match='404 Oak St., Atlantis ND 85386'>\n",
      "<re.Match object; span=(3733, 3761), match='151 Lake St., Eerie SD 17880'>\n",
      "<re.Match object; span=(3821, 3850), match='504 Lake St., Gotham PA 46692'>\n",
      "<re.Match object; span=(4075, 4105), match='117 High St., Bedrock NE 11899'>\n",
      "<re.Match object; span=(4159, 4190), match='650 Oak St., Smalltown TN 43281'>\n",
      "<re.Match object; span=(4244, 4274), match='377 Pine St., Valyria NC 78036'>\n",
      "<re.Match object; span=(4336, 4367), match='416 Pearl St., Valyria AK 62260'>\n",
      "<re.Match object; span=(4517, 4549), match='288 Hill St., Smalltown AZ 18586'>\n",
      "<re.Match object; span=(4607, 4641), match='286 High St., Springfield IA 16272'>\n",
      "<re.Match object; span=(4695, 4724), match='278 Main St., Gotham KY 89569'>\n",
      "<re.Match object; span=(4878, 4909), match='775 High St., Faketown PA 89260'>\n",
      "<re.Match object; span=(4964, 4997), match='885 Main St., Blackwater OH 61275'>\n",
      "<re.Match object; span=(5053, 5084), match='528 Hill St., Atlantis NH 88289'>\n",
      "<re.Match object; span=(5142, 5174), match='117 Cedar St., Thundera NM 75205'>\n",
      "<re.Match object; span=(5229, 5257), match='115 Oak St., Gotham UT 36433'>\n",
      "<re.Match object; span=(5311, 5345), match='743 Lake St., Springfield MS 25473'>\n",
      "<re.Match object; span=(5401, 5434), match='381 Hill St., Blackwater CT 30958'>\n",
      "<re.Match object; span=(5494, 5526), match='125 Main St., Smalltown MT 62155'>\n",
      "<re.Match object; span=(5585, 5614), match='292 Hill St., Gotham WV 57680'>\n",
      "<re.Match object; span=(5675, 5705), match='514 Park St., Balmora NV 55462'>\n",
      "<re.Match object; span=(5764, 5795), match='776 Hill St., Dawnstar MA 51312'>\n",
      "<re.Match object; span=(5849, 5880), match='421 Elm St., Smalltown NV 72025'>\n",
      "<re.Match object; span=(5940, 5972), match='937 Cedar St., Thundera WA 78862'>\n",
      "<re.Match object; span=(6030, 6061), match='417 Pine St., Lakeview MD 13147'>\n",
      "<re.Match object; span=(6118, 6152), match='478 Park St., Springfield NM 92369'>\n",
      "<re.Match object; span=(6294, 6327), match='557 Pearl St., Westworld KS 23225'>\n",
      "<re.Match object; span=(6381, 6411), match='855 Hill St., Olympus HI 81427'>\n",
      "<re.Match object; span=(6466, 6499), match='980 Maple St., Smalltown MO 96421'>\n",
      "<re.Match object; span=(6551, 6584), match='676 Hill St., Blackwater AR 96698'>\n",
      "<re.Match object; span=(6640, 6670), match='588 Pine St., Olympus FL 98412'>\n",
      "<re.Match object; span=(6732, 6763), match='351 Elm St., Sunnydale GA 26245'>\n",
      "<re.Match object; span=(6824, 6854), match='948 Cedar St., Quahog DE 56449'>\n",
      "<re.Match object; span=(6910, 6939), match='381 Hill St., Quahog AL 97503'>\n",
      "<re.Match object; span=(6992, 7025), match='496 Cedar St., Sunnydale RI 49113'>\n",
      "<re.Match object; span=(7082, 7114), match='736 Cedar St., Lakeview KY 47472'>\n",
      "<re.Match object; span=(7173, 7202), match='678 Lake St., Mordor MN 11845'>\n",
      "<re.Match object; span=(7264, 7296), match='289 Park St., Sunnydale WA 74526'>\n",
      "<re.Match object; span=(7357, 7393), match='245 Washington St., Bedrock IL 26941'>\n",
      "<re.Match object; span=(7448, 7479), match='573 Elm St., Sunnydale IL 47182'>\n",
      "<re.Match object; span=(7536, 7569), match='851 Lake St., Metropolis PA 22772'>\n",
      "<re.Match object; span=(7628, 7658), match='489 Oak St., Atlantis HI 73725'>\n",
      "<re.Match object; span=(7714, 7747), match='371 Pearl St., Smalltown SC 47466'>\n",
      "<re.Match object; span=(7800, 7830), match='504 Oak St., Faketown PA 73860'>\n",
      "<re.Match object; span=(7885, 7915), match='667 High St., Balmora IN 82473'>\n",
      "<re.Match object; span=(7974, 8006), match='266 Pine St., Westworld DC 58720'>\n",
      "<re.Match object; span=(8152, 8184), match='491 Elm St., Metropolis PA 31836'>\n",
      "<re.Match object; span=(8332, 8362), match='956 Park St., Valyria CT 81541'>\n",
      "<re.Match object; span=(8502, 8532), match='789 Maple St., Mordor IN 22215'>\n",
      "<re.Match object; span=(8587, 8617), match='439 Hill St., Olympus NV 39308'>\n",
      "<re.Match object; span=(8764, 8803), match='207 Washington St., Blackwater MA 24886'>\n",
      "84\n"
     ]
    }
   ],
   "source": [
    "# To address from file\n",
    "file = open(\"data.txt\", 'r')\n",
    "\n",
    "text_to_search= file.read()\n",
    "\n",
    "pattern = re.compile('\\d\\d\\d[ ]\\w+\\sSt\\.,\\s\\w+\\s[A-Z]+\\s\\d+')\n",
    "matches = pattern.finditer(text_to_search)\n",
    "\n",
    "count = 0\n",
    "for match in matches:\n",
    "    print(match)\n",
    "    count += 1\n",
    "print(count)"
   ]
  },
  {
   "cell_type": "code",
   "execution_count": 6,
   "metadata": {
    "ExecuteTime": {
     "end_time": "2019-07-22T14:08:28.093853Z",
     "start_time": "2019-07-22T14:08:28.018727Z"
    }
   },
   "outputs": [
    {
     "name": "stdout",
     "output_type": "stream",
     "text": [
      "<re.Match object; span=(1, 7), match='66666A'>\n",
      "1\n"
     ]
    }
   ],
   "source": [
    "#length is 5 and 'A'\n",
    "\n",
    "text_to_search='''\n",
    "66666A\n",
    "345343\n",
    "243433\n",
    "324234\n",
    "3434\n",
    "343434\n",
    "'''\n",
    "pattern = re.compile('\\d\\d\\d\\d\\d[A-Z]')\n",
    "matches = pattern.finditer(text_to_search)\n",
    "\n",
    "count = 0\n",
    "for match in matches:\n",
    "    print(match)\n",
    "    count += 1\n",
    "print(count)"
   ]
  },
  {
   "cell_type": "code",
   "execution_count": 7,
   "metadata": {
    "ExecuteTime": {
     "end_time": "2019-07-22T14:08:28.211165Z",
     "start_time": "2019-07-22T14:08:28.095835Z"
    }
   },
   "outputs": [
    {
     "name": "stdout",
     "output_type": "stream",
     "text": [
      "<re.Match object; span=(8, 14), match='345343'>\n",
      "<re.Match object; span=(15, 21), match='243433'>\n",
      "<re.Match object; span=(22, 28), match='324234'>\n",
      "<re.Match object; span=(34, 40), match='343434'>\n",
      "4\n"
     ]
    }
   ],
   "source": [
    "#length is 6 only\n",
    "\n",
    "text_to_search='''\n",
    "66666A\n",
    "345343\n",
    "243433\n",
    "324234\n",
    "3434\n",
    "343434\n",
    "'''\n",
    "pattern = re.compile('\\d\\d\\d\\d\\d\\d')\n",
    "matches = pattern.finditer(text_to_search)\n",
    "\n",
    "count = 0\n",
    "for match in matches:\n",
    "    print(match)\n",
    "    count += 1\n",
    "print(count)"
   ]
  },
  {
   "cell_type": "code",
   "execution_count": 8,
   "metadata": {
    "ExecuteTime": {
     "end_time": "2019-07-22T14:08:28.327808Z",
     "start_time": "2019-07-22T14:08:28.214175Z"
    }
   },
   "outputs": [
    {
     "name": "stdout",
     "output_type": "stream",
     "text": [
      "<re.Match object; span=(8, 14), match='345343'>\n",
      "<re.Match object; span=(15, 21), match='243433'>\n",
      "<re.Match object; span=(22, 28), match='324234'>\n",
      "<re.Match object; span=(34, 40), match='343434'>\n",
      "4\n"
     ]
    }
   ],
   "source": [
    "#length is 6 only\n",
    "\n",
    "text_to_search='''\n",
    "66666A\n",
    "345343\n",
    "243433\n",
    "324234\n",
    "3434\n",
    "343434\n",
    "'''\n",
    "pattern = re.compile('\\d\\d\\d\\d\\d\\d')\n",
    "matches = pattern.finditer(text_to_search)\n",
    "\n",
    "count = 0\n",
    "for match in matches:\n",
    "    print(match)\n",
    "    count += 1\n",
    "print(count)"
   ]
  },
  {
   "cell_type": "code",
   "execution_count": 9,
   "metadata": {
    "ExecuteTime": {
     "end_time": "2019-07-22T14:08:28.431699Z",
     "start_time": "2019-07-22T14:08:28.329859Z"
    }
   },
   "outputs": [
    {
     "name": "stdout",
     "output_type": "stream",
     "text": [
      "<re.Match object; span=(7, 13), match='235435'>\n",
      "<re.Match object; span=(14, 20), match='345343'>\n",
      "<re.Match object; span=(21, 27), match='243433'>\n",
      "<re.Match object; span=(28, 34), match='324234'>\n",
      "<re.Match object; span=(40, 46), match='343434'>\n",
      "5\n"
     ]
    }
   ],
   "source": [
    "# number in which there is character 'A'\n",
    "# expected Result  66666A235435\n",
    "\n",
    "text_to_search='''\n",
    "66666A235435\n",
    "345343\n",
    "243433\n",
    "324234\n",
    "3434\n",
    "343434\n",
    "'''\n",
    "pattern = re.compile('\\d\\d\\d\\d\\d\\d')\n",
    "matches = pattern.finditer(text_to_search)\n",
    "\n",
    "count = 0\n",
    "for match in matches:\n",
    "    print(match)\n",
    "    count += 1\n",
    "print(count)"
   ]
  },
  {
   "cell_type": "code",
   "execution_count": 10,
   "metadata": {
    "ExecuteTime": {
     "end_time": "2019-07-22T14:08:28.536867Z",
     "start_time": "2019-07-22T14:08:28.433705Z"
    }
   },
   "outputs": [
    {
     "name": "stdout",
     "output_type": "stream",
     "text": [
      "<re.Match object; span=(1, 6), match='66666'>\n",
      "<re.Match object; span=(9, 11), match='54'>\n",
      "<re.Match object; span=(12, 13), match='5'>\n",
      "<re.Match object; span=(15, 17), match='45'>\n",
      "<re.Match object; span=(18, 19), match='4'>\n",
      "<re.Match object; span=(21, 25), match='4444'>\n",
      "<re.Match object; span=(26, 30), match='5555'>\n",
      "<re.Match object; span=(31, 35), match='6666'>\n",
      "<re.Match object; span=(37, 38), match='4'>\n",
      "<re.Match object; span=(39, 40), match='4'>\n",
      "<re.Match object; span=(45, 46), match='4'>\n",
      "<re.Match object; span=(48, 49), match='4'>\n",
      "<re.Match object; span=(51, 52), match='4'>\n",
      "<re.Match object; span=(53, 54), match='4'>\n",
      "<re.Match object; span=(56, 57), match='4'>\n",
      "<re.Match object; span=(58, 59), match='4'>\n",
      "<re.Match object; span=(60, 61), match='4'>\n",
      "17\n"
     ]
    }
   ],
   "source": [
    "# number in all numbers are same\n",
    "# expected Result  4444\n",
    "# 5555\n",
    "# 6666\n",
    "\n",
    "text_to_search='''\n",
    "66666A235435\n",
    "345343\n",
    "4444\n",
    "5555\n",
    "6666\n",
    "243433\n",
    "324234\n",
    "3434\n",
    "343434\n",
    "'''\n",
    "pattern = re.compile('[4|5|6]+')\n",
    "matches = pattern.finditer(text_to_search)\n",
    "\n",
    "count = 0\n",
    "for match in matches:\n",
    "    print(match)\n",
    "    count += 1\n",
    "print(count)"
   ]
  },
  {
   "cell_type": "code",
   "execution_count": 11,
   "metadata": {
    "ExecuteTime": {
     "end_time": "2019-07-22T14:08:28.664205Z",
     "start_time": "2019-07-22T14:08:28.544890Z"
    }
   },
   "outputs": [
    {
     "name": "stdout",
     "output_type": "stream",
     "text": [
      "<re.Match object; span=(21, 27), match='44444\\n'>\n",
      "<re.Match object; span=(27, 32), match='5555\\n'>\n",
      "<re.Match object; span=(32, 37), match='6666\\n'>\n",
      "3\n"
     ]
    }
   ],
   "source": [
    "# number in all numbers are same\n",
    "# expected Result  4444\n",
    "# 5555\n",
    "# 6666\n",
    "\n",
    "text_to_search='''\n",
    "66666A235435\n",
    "345343\n",
    "44444\n",
    "5555\n",
    "6666\n",
    "243433\n",
    "324234\n",
    "3434\n",
    "343434\n",
    "'''\n",
    "pattern = re.compile('(5|4|6){4,6}[^\\w]')\n",
    "matches = pattern.finditer(text_to_search)\n",
    "\n",
    "count = 0\n",
    "for match in matches:\n",
    "    print(match)\n",
    "    count += 1\n",
    "print(count)"
   ]
  },
  {
   "cell_type": "code",
   "execution_count": 12,
   "metadata": {
    "ExecuteTime": {
     "end_time": "2019-07-22T14:08:28.792912Z",
     "start_time": "2019-07-22T14:08:28.668217Z"
    }
   },
   "outputs": [
    {
     "name": "stdout",
     "output_type": "stream",
     "text": [
      "<re.Match object; span=(8, 13), match='35435'>\n",
      "<re.Match object; span=(14, 20), match='345343'>\n",
      "<re.Match object; span=(21, 26), match='44444'>\n",
      "<re.Match object; span=(27, 31), match='5555'>\n",
      "<re.Match object; span=(38, 43), match='43433'>\n",
      "<re.Match object; span=(44, 45), match='3'>\n",
      "<re.Match object; span=(46, 47), match='4'>\n",
      "<re.Match object; span=(48, 50), match='34'>\n",
      "<re.Match object; span=(51, 55), match='3434'>\n",
      "<re.Match object; span=(56, 62), match='343434'>\n",
      "10\n"
     ]
    }
   ],
   "source": [
    "# number in all numbers are same\n",
    "# expected Result  345343\n",
    "\n",
    "text_to_search='''\n",
    "66666A235435\n",
    "345343\n",
    "44444\n",
    "5555\n",
    "6666\n",
    "243433\n",
    "324234\n",
    "3434\n",
    "343434\n",
    "'''\n",
    "pattern = re.compile('[345]+')\n",
    "matches = pattern.finditer(text_to_search)\n",
    "\n",
    "count = 0\n",
    "for match in matches:\n",
    "    print(match)\n",
    "    count += 1\n",
    "print(count)"
   ]
  },
  {
   "cell_type": "code",
   "execution_count": 13,
   "metadata": {
    "ExecuteTime": {
     "end_time": "2019-07-22T14:08:28.908275Z",
     "start_time": "2019-07-22T14:08:28.795925Z"
    }
   },
   "outputs": [
    {
     "name": "stdout",
     "output_type": "stream",
     "text": [
      "<re.Match object; span=(35, 38), match='66\\n'>\n",
      "<re.Match object; span=(38, 47), match='66666666\\n'>\n",
      "2\n"
     ]
    }
   ],
   "source": [
    "# number in all numbers are same\n",
    "# expected Result  345343\n",
    "\n",
    "text_to_search='''\n",
    "66666A235435\n",
    "345343\n",
    "44444\n",
    "5555\n",
    "66A66\n",
    "66666666\n",
    "243433\n",
    "324234\n",
    "3434\n",
    "343434\n",
    "'''\n",
    "pattern = re.compile('6+[^\\w]')\n",
    "matches = pattern.finditer(text_to_search)\n",
    "\n",
    "count = 0\n",
    "for match in matches:\n",
    "    print(match)\n",
    "    count += 1\n",
    "print(count)"
   ]
  },
  {
   "cell_type": "code",
   "execution_count": 14,
   "metadata": {
    "ExecuteTime": {
     "end_time": "2019-07-22T14:08:29.024039Z",
     "start_time": "2019-07-22T14:08:28.911282Z"
    }
   },
   "outputs": [
    {
     "name": "stdout",
     "output_type": "stream",
     "text": [
      "<re.Match object; span=(61, 65), match='3434'>\n",
      "<re.Match object; span=(66, 72), match='343434'>\n",
      "2\n"
     ]
    }
   ],
   "source": [
    "# number in all numbers are same\n",
    "# expected Result  345343\n",
    "\n",
    "text_to_search='''\n",
    "66666A235435\n",
    "345343\n",
    "44444\n",
    "5555\n",
    "66A66\n",
    "66666666\n",
    "243433\n",
    "324234\n",
    "3434\n",
    "343434\n",
    "'''\n",
    "pattern = re.compile(r\"(34)\\1+\")\n",
    "matches = pattern.finditer(text_to_search)\n",
    "\n",
    "count = 0\n",
    "for match in matches:\n",
    "    print(match)\n",
    "    count += 1\n",
    "print(count)"
   ]
  },
  {
   "cell_type": "code",
   "execution_count": 15,
   "metadata": {
    "ExecuteTime": {
     "end_time": "2019-07-22T14:08:29.152593Z",
     "start_time": "2019-07-22T14:08:29.027004Z"
    }
   },
   "outputs": [
    {
     "name": "stdout",
     "output_type": "stream",
     "text": [
      "<re.Match object; span=(1, 6), match='66666'>\n",
      "<re.Match object; span=(32, 34), match='66'>\n",
      "<re.Match object; span=(35, 37), match='66'>\n",
      "<re.Match object; span=(38, 46), match='66666666'>\n",
      "4\n"
     ]
    }
   ],
   "source": [
    "# number in all numbers are same\n",
    "# expected Result  345343\n",
    "\n",
    "text_to_search='''\n",
    "66666A235435\n",
    "345343\n",
    "44444\n",
    "5555\n",
    "66A66\n",
    "66666666\n",
    "243433\n",
    "324234\n",
    "3434\n",
    "343434\n",
    "'''\n",
    "pattern = re.compile(r\"(6)\\1+\")\n",
    "matches = pattern.finditer(text_to_search)\n",
    "\n",
    "count = 0\n",
    "for match in matches:\n",
    "    print(match)\n",
    "    count += 1\n",
    "print(count)"
   ]
  },
  {
   "cell_type": "code",
   "execution_count": 16,
   "metadata": {
    "ExecuteTime": {
     "end_time": "2019-07-22T14:08:29.267921Z",
     "start_time": "2019-07-22T14:08:29.155642Z"
    }
   },
   "outputs": [
    {
     "name": "stdout",
     "output_type": "stream",
     "text": [
      "<re.Match object; span=(1, 6), match='66666'>\n",
      "<re.Match object; span=(32, 34), match='66'>\n",
      "<re.Match object; span=(35, 37), match='66'>\n",
      "<re.Match object; span=(38, 46), match='66666666'>\n",
      "4\n"
     ]
    }
   ],
   "source": [
    "# number in all numbers are same\n",
    "# expected Result  345343\n",
    "\n",
    "text_to_search='''\n",
    "66666A235435\n",
    "345343\n",
    "44444\n",
    "5555\n",
    "66A66\n",
    "66666666\n",
    "243433\n",
    "324234\n",
    "3434\n",
    "343434\n",
    "'''\n",
    "pattern = re.compile(r\"(6)\\1+\")\n",
    "matches = pattern.finditer(text_to_search)\n",
    "\n",
    "count = 0\n",
    "for match in matches:\n",
    "    print(match)\n",
    "    count += 1\n",
    "print(count)"
   ]
  },
  {
   "cell_type": "code",
   "execution_count": 17,
   "metadata": {
    "ExecuteTime": {
     "end_time": "2019-07-22T14:08:29.386570Z",
     "start_time": "2019-07-22T14:08:29.270912Z"
    }
   },
   "outputs": [
    {
     "name": "stdout",
     "output_type": "stream",
     "text": [
      "<re.Match object; span=(0, 0), match=''>\n",
      "<re.Match object; span=(1, 1), match=''>\n",
      "<re.Match object; span=(2, 2), match=''>\n",
      "<re.Match object; span=(3, 3), match=''>\n",
      "<re.Match object; span=(4, 4), match=''>\n",
      "<re.Match object; span=(5, 5), match=''>\n",
      "<re.Match object; span=(6, 6), match=''>\n",
      "<re.Match object; span=(7, 7), match=''>\n",
      "<re.Match object; span=(8, 8), match=''>\n",
      "<re.Match object; span=(9, 9), match=''>\n",
      "<re.Match object; span=(10, 10), match=''>\n",
      "<re.Match object; span=(11, 11), match=''>\n",
      "<re.Match object; span=(12, 12), match=''>\n",
      "<re.Match object; span=(13, 13), match=''>\n",
      "<re.Match object; span=(14, 14), match=''>\n",
      "<re.Match object; span=(15, 15), match=''>\n",
      "<re.Match object; span=(16, 16), match=''>\n",
      "<re.Match object; span=(17, 17), match=''>\n",
      "<re.Match object; span=(18, 18), match=''>\n",
      "<re.Match object; span=(19, 19), match=''>\n",
      "<re.Match object; span=(20, 20), match=''>\n",
      "<re.Match object; span=(21, 21), match=''>\n",
      "<re.Match object; span=(22, 22), match=''>\n",
      "<re.Match object; span=(23, 23), match=''>\n",
      "<re.Match object; span=(24, 24), match=''>\n",
      "<re.Match object; span=(25, 25), match=''>\n",
      "<re.Match object; span=(26, 26), match=''>\n",
      "<re.Match object; span=(27, 27), match=''>\n",
      "<re.Match object; span=(28, 28), match=''>\n",
      "<re.Match object; span=(29, 29), match=''>\n",
      "<re.Match object; span=(30, 30), match=''>\n",
      "31\n"
     ]
    }
   ],
   "source": [
    "# number in all numbers are same\n",
    "# expected Result  345343\n",
    "\n",
    "text_to_search='''\n",
    "aaaaabbbbbaaaaccccccdddddaaa\n",
    "'''\n",
    "pattern = re.compile(r\"\")\n",
    "matches = pattern.finditer(text_to_search)\n",
    "\n",
    "count = 0\n",
    "for match in matches:\n",
    "    print(match)\n",
    "    count += 1\n",
    "print(count)"
   ]
  },
  {
   "cell_type": "code",
   "execution_count": 18,
   "metadata": {
    "ExecuteTime": {
     "end_time": "2019-07-22T14:08:29.511728Z",
     "start_time": "2019-07-22T14:08:29.391584Z"
    }
   },
   "outputs": [
    {
     "name": "stdout",
     "output_type": "stream",
     "text": [
      "['23', '55']\n"
     ]
    }
   ],
   "source": [
    "import re\n",
    "ptr = 'R23C55'\n",
    "\n",
    "pattern = re.compile(\"\\d+\")\n",
    "\n",
    "l = re.findall(pattern, ptr)\n",
    "\n",
    "print(l)\n"
   ]
  }
 ],
 "metadata": {
  "kernelspec": {
   "display_name": "Python 3",
   "language": "python",
   "name": "python3"
  },
  "language_info": {
   "codemirror_mode": {
    "name": "ipython",
    "version": 3
   },
   "file_extension": ".py",
   "mimetype": "text/x-python",
   "name": "python",
   "nbconvert_exporter": "python",
   "pygments_lexer": "ipython3",
   "version": "3.7.3"
  },
  "toc": {
   "base_numbering": 1,
   "nav_menu": {},
   "number_sections": true,
   "sideBar": true,
   "skip_h1_title": false,
   "title_cell": "Table of Contents",
   "title_sidebar": "Contents",
   "toc_cell": false,
   "toc_position": {},
   "toc_section_display": true,
   "toc_window_display": false
  },
  "varInspector": {
   "cols": {
    "lenName": 16,
    "lenType": 16,
    "lenVar": 40
   },
   "kernels_config": {
    "python": {
     "delete_cmd_postfix": "",
     "delete_cmd_prefix": "del ",
     "library": "var_list.py",
     "varRefreshCmd": "print(var_dic_list())"
    },
    "r": {
     "delete_cmd_postfix": ") ",
     "delete_cmd_prefix": "rm(",
     "library": "var_list.r",
     "varRefreshCmd": "cat(var_dic_list()) "
    }
   },
   "types_to_exclude": [
    "module",
    "function",
    "builtin_function_or_method",
    "instance",
    "_Feature"
   ],
   "window_display": false
  }
 },
 "nbformat": 4,
 "nbformat_minor": 2
}

{
 "cells": [
  {
   "cell_type": "code",
   "execution_count": 1,
   "metadata": {},
   "outputs": [
    {
     "name": "stdout",
     "output_type": "stream",
     "text": [
      "[0, 10, 20, 30, 40]\n",
      "[5, 10, 20, 30, 40]\n"
     ]
    }
   ],
   "source": [
    "# list always pass by reference : \n",
    "def test(x):\n",
    "    x[0]=5\n",
    "a = [0, 10, 20, 30, 40]\n",
    "print(a)\n",
    "test(a)\n",
    "print(a)"
   ]
  },
  {
   "cell_type": "code",
   "execution_count": null,
   "metadata": {},
   "outputs": [],
   "source": [
    "# # Pass by Value:\n",
    "# primitive datatypes(int, float, string, tuple)\n",
    "# tuple, \n",
    "    \n",
    "# # Pass by Reference (Mutable):\n",
    "# mutable datatypes(list, set, dictionary)    "
   ]
  },
  {
   "cell_type": "code",
   "execution_count": 6,
   "metadata": {},
   "outputs": [
    {
     "name": "stdout",
     "output_type": "stream",
     "text": [
      "['penan', 'chetan']\n",
      "['penan', 'chetan']\n",
      "True\n",
      "['penan', 'chetan', 'ABC']\n",
      "['penan', 'chetan', 'ABC']\n",
      "True\n",
      "List is always pass by reference\n"
     ]
    }
   ],
   "source": [
    "a = [\"penan\", \"chetan\"]\n",
    "b=a\n",
    "print(a)\n",
    "print(b)\n",
    "print(id(a)==id(b))\n",
    "\n",
    "b.append(\"ABC\")\n",
    "print(a)\n",
    "print(b)\n",
    "print(id(a)==id(b))\n",
    "print(\"List is always pass by reference\")"
   ]
  },
  {
   "cell_type": "code",
   "execution_count": 7,
   "metadata": {},
   "outputs": [
    {
     "name": "stdout",
     "output_type": "stream",
     "text": [
      "['penan', 'chetan']\n",
      "['penan', 'chetan']\n",
      "False\n",
      "['penan', 'chetan']\n",
      "['penan', 'chetan', 'ABC']\n",
      "False\n",
      "List is always pass by value\n"
     ]
    }
   ],
   "source": [
    "# make list : pass by value\n",
    "a = [\"penan\", \"chetan\"]\n",
    "b=a[:]\n",
    "print(a)\n",
    "print(b)\n",
    "print(id(a)==id(b))\n",
    "\n",
    "b.append(\"ABC\")\n",
    "print(a)\n",
    "print(b)\n",
    "print(id(a)==id(b))\n",
    "print(\"List is always pass by value\")"
   ]
  },
  {
   "cell_type": "code",
   "execution_count": 9,
   "metadata": {},
   "outputs": [
    {
     "name": "stdout",
     "output_type": "stream",
     "text": [
      "True\n",
      "True\n",
      "False\n"
     ]
    }
   ],
   "source": [
    "a = [\"PENAN\", \"CHETAN\"]\n",
    "b=a\n",
    "print(id(a)==id(b))\n",
    "\n",
    "b.append(\"ABC\")\n",
    "print(id(a)==id(b))\n",
    "\n",
    "b = [\"ABC\", \"DEF\"]\n",
    "print(id(a)==id(b))"
   ]
  },
  {
   "cell_type": "code",
   "execution_count": 1,
   "metadata": {},
   "outputs": [
    {
     "output_type": "stream",
     "name": "stdout",
     "text": [
      "{0, 40, 10, 20, 30}\n{0, 5, 40, 10, 20, 30}\n"
     ]
    }
   ],
   "source": [
    "# set always pass by reference : \n",
    "def test(x):\n",
    "    x.add(5)\n",
    "a = {0, 10, 20, 30, 40}\n",
    "print(a)\n",
    "test(a)\n",
    "print(a)"
   ]
  },
  {
   "cell_type": "code",
   "execution_count": 16,
   "metadata": {},
   "outputs": [
    {
     "name": "stdout",
     "output_type": "stream",
     "text": [
      "{'ABC': 5, 'DEF': 10, 'EFG': 15}\n",
      "{'ABC': 5, 'DEF': 10, 'EFG': 15, 'PQR': 50}\n"
     ]
    }
   ],
   "source": [
    "## dictionary\n",
    "# dictionary always pass by reference\n",
    "def test(x):\n",
    "    x[\"PQR\"]= 50\n",
    "a={\"ABC\":5, \"DEF\":10, \"EFG\":15}\n",
    "print(a)\n",
    "test(a)\n",
    "print(a)"
   ]
  },
  {
   "cell_type": "code",
   "execution_count": null,
   "metadata": {},
   "outputs": [],
   "source": []
  }
 ],
 "metadata": {
  "kernelspec": {
   "display_name": "Python 3",
   "language": "python",
   "name": "python3"
  },
  "language_info": {
   "codemirror_mode": {
    "name": "ipython",
    "version": 3
   },
   "file_extension": ".py",
   "mimetype": "text/x-python",
   "name": "python",
   "nbconvert_exporter": "python",
   "pygments_lexer": "ipython3",
   "version": "3.8.0-final"
  }
 },
 "nbformat": 4,
 "nbformat_minor": 2
}
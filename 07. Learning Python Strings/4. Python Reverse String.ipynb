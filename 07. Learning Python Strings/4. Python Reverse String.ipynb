{
 "cells": [
  {
   "source": [
    "### https://www.journaldev.com/23647/python-reverse-string\n",
    "1. Python Reverse String using Slicing\n",
    "2. Python Reverse String using For Loop\n",
    "3. Python Reverse String using While Loop\n",
    "4. Python Reverse String using join() and reversed()\n",
    "5. Python Reverse String using List reverse()\n",
    "6. Python Reverse String using Recursion"
   ],
   "cell_type": "markdown",
   "metadata": {}
  },
  {
   "source": [
    "### ALGORITHM\tTIMEIT EXECUTION TIME (BEST OF 5)\tSLOWNESS\n",
    "1. Slicing\t0.449 usec\t1x\n",
    "5. List reverse()\t2.46 usec\t5.48x\n",
    "4. reversed() + join()\t2.49 usec\t5.55x\n",
    "2. for loop\t5.5 usec\t12.25x\n",
    "3. while loop\t9.4 usec\t20.94x\n",
    "6. Recursion\t24.3 usec\t54.12x"
   ],
   "cell_type": "markdown",
   "metadata": {}
  },
  {
   "source": [
    "## 1. Python Reverse String using Slicing"
   ],
   "cell_type": "markdown",
   "metadata": {}
  },
  {
   "cell_type": "code",
   "execution_count": 8,
   "metadata": {},
   "outputs": [
    {
     "data": {
      "text/plain": [
       "'TEKCIRC FO LICNUOC LANOITANRETNI'"
      ]
     },
     "execution_count": 8,
     "metadata": {},
     "output_type": "execute_result"
    }
   ],
   "source": [
    "str = \"INTERNATIONAL COUNCIL OF CRICKET\"\n",
    "str[::-1]"
   ]
  },
  {
   "source": [
    "## 2. Python Reverse String using for loop"
   ],
   "cell_type": "markdown",
   "metadata": {}
  },
  {
   "cell_type": "code",
   "execution_count": 14,
   "metadata": {},
   "outputs": [
    {
     "name": "stdout",
     "output_type": "stream",
     "text": [
      "TEKCIRC FO LICNUOC LANOITANRETNI\n"
     ]
    }
   ],
   "source": [
    "# NOT IDEAL\n",
    "rev = ''\n",
    "for char in str[::-1]:\n",
    "    rev = rev + char\n",
    "print(rev)"
   ]
  },
  {
   "cell_type": "code",
   "execution_count": 15,
   "metadata": {},
   "outputs": [
    {
     "name": "stdout",
     "output_type": "stream",
     "text": [
      "TEKCIRC FO LICNUOC LANOITANRETNI\n"
     ]
    }
   ],
   "source": [
    "# IDEAL \n",
    "rev = ''\n",
    "for char in str:\n",
    "    rev = char + rev\n",
    "print(rev)"
   ]
  },
  {
   "source": [
    "## 3. Python Reverse String using While Loop\n"
   ],
   "cell_type": "markdown",
   "metadata": {}
  },
  {
   "cell_type": "code",
   "execution_count": 31,
   "metadata": {},
   "outputs": [
    {
     "name": "stdout",
     "output_type": "stream",
     "text": [
      "TEKCIRC FO LICNUOC LANOITANRETNI\n",
      "Wall time: 0 ns\n"
     ]
    }
   ],
   "source": [
    "%%time\n",
    "str=\"INTERNATIONAL COUNCIL OF CRICKET\"\n",
    "i = 0\n",
    "rev = ''\n",
    "while i<len(str):\n",
    "    rev = str[i]+rev\n",
    "    i=i+1\n",
    "print(rev)"
   ]
  },
  {
   "source": [
    "## 4.  Python Reverse String using join() and reversed()"
   ],
   "cell_type": "markdown",
   "metadata": {}
  },
  {
   "cell_type": "code",
   "execution_count": null,
   "metadata": {},
   "outputs": [],
   "source": [
    "str=\"INTERNATIONAL COUNCIL OF CRICKET\""
   ]
  },
  {
   "cell_type": "code",
   "execution_count": 5,
   "metadata": {},
   "outputs": [
    {
     "data": {
      "text/plain": [
       "'TEKCIRC FO LICNUOC LANOITANRETNI'"
      ]
     },
     "execution_count": 5,
     "metadata": {},
     "output_type": "execute_result"
    }
   ],
   "source": [
    "\"\".join(reversed(str))"
   ]
  },
  {
   "source": [
    "## 5. Python Reverse String using List reverse()"
   ],
   "cell_type": "markdown",
   "metadata": {}
  },
  {
   "cell_type": "code",
   "execution_count": 9,
   "metadata": {},
   "outputs": [
    {
     "data": {
      "text/plain": [
       "'INTERNATIONAL COUNCIL OF CRICKET'"
      ]
     },
     "execution_count": 9,
     "metadata": {},
     "output_type": "execute_result"
    }
   ],
   "source": [
    "str"
   ]
  },
  {
   "cell_type": "code",
   "execution_count": 10,
   "metadata": {},
   "outputs": [
    {
     "name": "stdout",
     "output_type": "stream",
     "text": [
      "['I', 'N', 'T', 'E', 'R', 'N', 'A', 'T', 'I', 'O', 'N', 'A', 'L', ' ', 'C', 'O', 'U', 'N', 'C', 'I', 'L', ' ', 'O', 'F', ' ', 'C', 'R', 'I', 'C', 'K', 'E', 'T']\n"
     ]
    }
   ],
   "source": [
    "list1 = list(str)\n",
    "print(list1)"
   ]
  },
  {
   "cell_type": "code",
   "execution_count": 12,
   "metadata": {},
   "outputs": [
    {
     "name": "stdout",
     "output_type": "stream",
     "text": [
      "['T', 'E', 'K', 'C', 'I', 'R', 'C', ' ', 'F', 'O', ' ', 'L', 'I', 'C', 'N', 'U', 'O', 'C', ' ', 'L', 'A', 'N', 'O', 'I', 'T', 'A', 'N', 'R', 'E', 'T', 'N', 'I']\n"
     ]
    }
   ],
   "source": [
    "list1.reverse()\n",
    "print(list1)"
   ]
  },
  {
   "cell_type": "code",
   "execution_count": 16,
   "metadata": {},
   "outputs": [
    {
     "name": "stdout",
     "output_type": "stream",
     "text": [
      "TEKCIRC FO LICNUOC LANOITANRETNI\n"
     ]
    }
   ],
   "source": [
    "list2 = \"\".join(list1)\n",
    "print(list2) ## solution"
   ]
  },
  {
   "source": [
    "## 6. Python Reverse String using Recursion"
   ],
   "cell_type": "markdown",
   "metadata": {}
  },
  {
   "cell_type": "code",
   "execution_count": null,
   "metadata": {},
   "outputs": [],
   "source": [
    "str = \"INTERNATIONAL COUNCIL OF CRICKET\""
   ]
  },
  {
   "cell_type": "code",
   "execution_count": 30,
   "metadata": {},
   "outputs": [
    {
     "name": "stdout",
     "output_type": "stream",
     "text": [
      "TEKCIRC FO LICNUOC LANOITANRETNI\n",
      "Wall time: 0 ns\n"
     ]
    }
   ],
   "source": [
    "%%time\n",
    "def reverse_string(str, i):\n",
    "    if(i<len(str)):\n",
    "        return reverse_string(str, i + 1) + str[i]\n",
    "    else:\n",
    "        return ''\n",
    "rev = ''\n",
    "str=\"INTERNATIONAL COUNCIL OF CRICKET\"\n",
    "rev = reverse_string(str, 0)\n",
    "\n",
    "print(rev)"
   ]
  },
  {
   "cell_type": "code",
   "execution_count": null,
   "metadata": {
    "scrolled": true
   },
   "outputs": [],
   "source": []
  }
 ],
 "metadata": {
  "kernelspec": {
   "display_name": "Python 3",
   "language": "python",
   "name": "python3"
  },
  "language_info": {
   "codemirror_mode": {
    "name": "ipython",
    "version": 3
   },
   "file_extension": ".py",
   "mimetype": "text/x-python",
   "name": "python",
   "nbconvert_exporter": "python",
   "pygments_lexer": "ipython3",
   "version": "3.8.0-final"
  }
 },
 "nbformat": 4,
 "nbformat_minor": 2
}
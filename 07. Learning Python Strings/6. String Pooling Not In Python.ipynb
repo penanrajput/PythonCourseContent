{
 "metadata": {
  "language_info": {
   "codemirror_mode": {
    "name": "ipython",
    "version": 3
   },
   "file_extension": ".py",
   "mimetype": "text/x-python",
   "name": "python",
   "nbconvert_exporter": "python",
   "pygments_lexer": "ipython3",
   "version": "3.8.0-final"
  },
  "orig_nbformat": 2,
  "kernelspec": {
   "name": "python3",
   "display_name": "Python 3"
  }
 },
 "nbformat": 4,
 "nbformat_minor": 2,
 "cells": [
  {
   "cell_type": "code",
   "execution_count": 17,
   "metadata": {},
   "outputs": [
    {
     "output_type": "stream",
     "name": "stdout",
     "text": [
      "True\nTrue\nTrue\n0x2b0ebad7a70\n0x2b0ebad7a70\n"
     ]
    }
   ],
   "source": [
    "# String Pool in Python is a pool of Strings stored in Java Heap Memory\n",
    "\n",
    "# Condition : When new variable is declared with same string value, then it is given the same memoey address of avaiable string\n",
    "\n",
    "# static declaration, it works\n",
    "str1 = \"apples\"\n",
    "str2 = \"apples\"\n",
    "print(str1 == str2)\n",
    "print(id(str1) == id(str2))\n",
    "print(str1 is str2)\n",
    "\n",
    "print(hex(id(str1)))\n",
    "print(hex(id(str2)))"
   ]
  },
  {
   "cell_type": "code",
   "execution_count": 18,
   "metadata": {},
   "outputs": [
    {
     "output_type": "stream",
     "name": "stdout",
     "text": [
      "True\nTrue\nTrue\n0x2b0ecd56c70\n0x2b0ecd56c70\n"
     ]
    }
   ],
   "source": [
    "# dynamic declaration, it works\n",
    "# (But in Java, dyanamic declaration does not follow String pooling)\n",
    "\n",
    "str3 = str(\"mangos\")\n",
    "str4 = str(\"mangos\")\n",
    "print(id(str3) == id(str4))\n",
    "print(str3 == str4)\n",
    "print(str3 is str4)\n",
    "\n",
    "print(hex(id(str3)))\n",
    "print(hex(id(str4)))"
   ]
  },
  {
   "cell_type": "code",
   "execution_count": 20,
   "metadata": {},
   "outputs": [],
   "source": [
    "# For java go to java Folder, to know about String pooling"
   ]
  },
  {
   "cell_type": "code",
   "execution_count": null,
   "metadata": {},
   "outputs": [],
   "source": []
  }
 ]
}
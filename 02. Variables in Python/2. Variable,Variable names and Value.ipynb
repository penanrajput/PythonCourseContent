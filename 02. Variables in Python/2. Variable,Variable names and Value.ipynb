{
 "cells": [
  {
   "cell_type": "code",
   "execution_count": 1,
   "metadata": {},
   "outputs": [
    {
     "name": "stdout",
     "output_type": "stream",
     "text": [
      "Rahul Subramanium\n",
      "3.14\n"
     ]
    }
   ],
   "source": [
    "'''\n",
    "Rules of naming Constants and Variables\n",
    "Variables should be in Camel Case. \n",
    "E.g. camelCase = 10\n",
    "varFloat = 3.4\n",
    "\n",
    "Constants should be in Capital case\n",
    "E.g. PI = 3.14\n",
    "GRAVITY = 9.8\n",
    "'''\n",
    "\n",
    "candidateName = \"Rahul Subramanium\"\n",
    "PI = 3.14\n",
    "\n",
    "print(candidateName)\n",
    "print(PI)"
   ]
  },
  {
   "cell_type": "code",
   "execution_count": 2,
   "metadata": {},
   "outputs": [
    {
     "name": "stdout",
     "output_type": "stream",
     "text": [
      "Penan Rajput\n",
      "20\n",
      "Chopda, Jalgaon\n"
     ]
    }
   ],
   "source": [
    "'''\n",
    "Now Variables should be MeaningFul \n",
    "E.g. ( not allowed ) c, v ,d\n",
    "(allowed ) candidateName, candidateAge, candidateAddress\n",
    "'''\n",
    "candidateName = \"Penan Rajput\"\n",
    "candidateAge = 20\n",
    "candidateAddress = \"Chopda, Jalgaon\"\n",
    "\n",
    "print(candidateName)\n",
    "print(candidateAge)\n",
    "print(candidateAddress)"
   ]
  }
 ],
 "metadata": {
  "kernelspec": {
   "display_name": "Python 3",
   "language": "python",
   "name": "python3"
  },
  "language_info": {
   "codemirror_mode": {
    "name": "ipython",
    "version": 3
   },
   "file_extension": ".py",
   "mimetype": "text/x-python",
   "name": "python",
   "nbconvert_exporter": "python",
   "pygments_lexer": "ipython3",
   "version": "3.7.3"
  }
 },
 "nbformat": 4,
 "nbformat_minor": 2
}

{
 "cells": [
  {
   "cell_type": "code",
   "execution_count": null,
   "metadata": {},
   "outputs": [],
   "source": [
    "# # math function\n",
    "# acos (x)\n",
    "# Return the arc cosine of x.\n",
    "\n",
    "# asin (x)\n",
    "# Return the arc sine of x.\n",
    "\n",
    "# atan (x)\n",
    "# Return the arc tangent of x.\n",
    "\n",
    "# atan2 (y, x)\n",
    "# Return atan(y / x).\n",
    "\n",
    "# ceil (x)\n",
    "# Return the ceiling of x as a real.\n",
    "\n",
    "# cos (x)\n",
    "# Return the cosine of x.\n",
    "\n",
    "# cosh (x)\n",
    "# Return the hyperbolic cosine of x.\n",
    "\n",
    "# exp (x)\n",
    "# Return e**x.\n",
    "\n",
    "# fabs (x)\n",
    "# Return the absolute value of the real x.\n",
    "\n",
    "# floor (x)\n",
    "# Return the floor of x as a real.\n",
    "\n",
    "\n",
    "# log (x)\n",
    "# Return the natural logarithm of x.\n",
    "\n",
    "# log10 (x)\n",
    "# Return the base-10 logarithm of x.\n",
    "\n",
    "# pow (x, y)\n",
    "# Return x**y.\n",
    "\n",
    "# sin (x)\n",
    "# Return the sine of x.\n",
    "\n",
    "# sinh (x)\n",
    "# Return the hyperbolic sine of x.\n",
    "\n",
    "# sqrt (x)\n",
    "# Return the square root of x.\n",
    "\n",
    "# tan (x)\n",
    "# Return the tangent of x.\n",
    "\n",
    "# tanh (x)\n",
    "# Return the hyperbolic tangent of x.\n",
    "\n",
    "\n",
    "# pi\n",
    "# The mathematical constant pi.\n",
    "\n",
    "# e\n",
    "# The mathematical constant e."
   ]
  },
  {
   "cell_type": "code",
   "execution_count": null,
   "metadata": {},
   "outputs": [
    {
     "data": {
      "text/plain": [
       "-0.6669380616522619"
      ]
     },
     "metadata": {},
     "output_type": "display_data"
    }
   ],
   "source": [
    "import math\n",
    "math.cos(40)"
   ]
  },
  {
   "cell_type": "code",
   "execution_count": null,
   "metadata": {},
   "outputs": [
    {
     "data": {
      "text/plain": [
       "3.141592653589793"
      ]
     },
     "metadata": {},
     "output_type": "display_data"
    }
   ],
   "source": [
    "math.pi"
   ]
  },
  {
   "cell_type": "code",
   "execution_count": null,
   "metadata": {},
   "outputs": [
    {
     "data": {
      "text/plain": [
       "2.718281828459045"
      ]
     },
     "metadata": {},
     "output_type": "display_data"
    }
   ],
   "source": [
    "math.e"
   ]
  },
  {
   "cell_type": "code",
   "execution_count": null,
   "metadata": {},
   "outputs": [
    {
     "data": {
      "text/plain": [
       "2.0"
      ]
     },
     "metadata": {},
     "output_type": "display_data"
    }
   ],
   "source": [
    "math.sqrt(4)"
   ]
  },
  {
   "cell_type": "code",
   "execution_count": null,
   "metadata": {},
   "outputs": [
    {
     "data": {
      "text/plain": [
       "64.0"
      ]
     },
     "metadata": {},
     "output_type": "display_data"
    }
   ],
   "source": [
    "math.pow(4,3)"
   ]
  },
  {
   "cell_type": "code",
   "execution_count": null,
   "metadata": {},
   "outputs": [
    {
     "data": {
      "text/plain": [
       "5.017279836814924"
      ]
     },
     "metadata": {},
     "output_type": "display_data"
    }
   ],
   "source": [
    "math.log(151)"
   ]
  },
  {
   "cell_type": "code",
   "execution_count": null,
   "metadata": {},
   "outputs": [
    {
     "data": {
      "text/plain": [
       "2.1789769472931693"
      ]
     },
     "metadata": {},
     "output_type": "display_data"
    }
   ],
   "source": [
    "math.log10(151)"
   ]
  },
  {
   "cell_type": "markdown",
   "metadata": {},
   "source": [
    "# important"
   ]
  },
  {
   "cell_type": "code",
   "execution_count": null,
   "metadata": {},
   "outputs": [
    {
     "data": {
      "text/plain": [
       "5"
      ]
     },
     "metadata": {},
     "output_type": "display_data"
    }
   ],
   "source": [
    "math.ceil(4.40315)"
   ]
  },
  {
   "cell_type": "code",
   "execution_count": null,
   "metadata": {},
   "outputs": [
    {
     "data": {
      "text/plain": [
       "4"
      ]
     },
     "metadata": {},
     "output_type": "display_data"
    }
   ],
   "source": [
    "math.floor(4.40315)"
   ]
  },
  {
   "cell_type": "code",
   "execution_count": null,
   "metadata": {},
   "outputs": [
    {
     "data": {
      "text/plain": [
       "5"
      ]
     },
     "metadata": {},
     "output_type": "display_data"
    }
   ],
   "source": [
    "math.ceil(4.55550)"
   ]
  },
  {
   "cell_type": "code",
   "execution_count": null,
   "metadata": {},
   "outputs": [
    {
     "data": {
      "text/plain": [
       "4"
      ]
     },
     "metadata": {},
     "output_type": "display_data"
    }
   ],
   "source": [
    "math.floor(4.515451)"
   ]
  }
 ],
 "metadata": {
  "language_info": {
   "name": "python"
  },
  "orig_nbformat": 4
 },
 "nbformat": 4,
 "nbformat_minor": 2
}

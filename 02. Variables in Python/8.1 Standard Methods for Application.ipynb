{
 "cells": [
  {
   "cell_type": "markdown",
   "metadata": {},
   "source": [
    "### Some Standard Functions\n",
    "#### Useful Functions\n",
    "\n",
    "\n",
    "* bool()\n",
    "```\n",
    "True/False bool(object)\n",
    "pass : object \n",
    "return : [False, True]\n",
    "```\n",
    "\n",
    "\n",
    "* chr()\t    \n",
    "char chr(ascii-integer)\n",
    "\n",
    "\n",
    "* ord()\t  \n",
    "```  \n",
    "integer ord(character)\n",
    "pass : character\n",
    "return : integer\n",
    "```\n",
    "\n",
    "* bin()\t    Converts an integer to a binary string\n",
    "* hex()\t    Converts an integer to a hexadecimal string\n",
    "* oct()\t    Converts an integer to an octal string\n",
    "\n",
    "* complex()\tReturns a complex number constructed from arguments\n",
    "\n",
    "\n",
    "* repr()\tReturns a string containing a printable representation of an object\n",
    "\n",
    "\n",
    "#### Useless Functions\n",
    "* ascii()\tReturns a string containing a printable representation of an object\n"
   ]
  },
  {
   "cell_type": "code",
   "execution_count": 2,
   "metadata": {},
   "outputs": [
    {
     "data": {
      "text/plain": [
       "'0b1010'"
      ]
     },
     "execution_count": 2,
     "metadata": {},
     "output_type": "execute_result"
    }
   ],
   "source": [
    "bin(10)"
   ]
  },
  {
   "cell_type": "code",
   "execution_count": 5,
   "metadata": {},
   "outputs": [
    {
     "data": {
      "text/plain": [
       "True"
      ]
     },
     "execution_count": 5,
     "metadata": {},
     "output_type": "execute_result"
    }
   ],
   "source": [
    "bool(10)"
   ]
  },
  {
   "cell_type": "code",
   "execution_count": 8,
   "metadata": {},
   "outputs": [
    {
     "data": {
      "text/plain": [
       "'g'"
      ]
     },
     "execution_count": 8,
     "metadata": {},
     "output_type": "execute_result"
    }
   ],
   "source": [
    "chr(103)"
   ]
  },
  {
   "cell_type": "markdown",
   "metadata": {},
   "source": []
  }
 ],
 "metadata": {
  "interpreter": {
   "hash": "d1c065f673b176935b101a95e5c76789facfbff7b0613e6410f374bbe336fdf4"
  },
  "kernelspec": {
   "display_name": "Python 3.10.2 64-bit",
   "language": "python",
   "name": "python3"
  },
  "language_info": {
   "codemirror_mode": {
    "name": "ipython",
    "version": 3
   },
   "file_extension": ".py",
   "mimetype": "text/x-python",
   "name": "python",
   "nbconvert_exporter": "python",
   "pygments_lexer": "ipython3",
   "version": "3.10.2"
  },
  "orig_nbformat": 4
 },
 "nbformat": 4,
 "nbformat_minor": 2
}

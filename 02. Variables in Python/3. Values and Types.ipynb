{
 "cells": [
  {
   "cell_type": "code",
   "execution_count": 1,
   "metadata": {},
   "outputs": [
    {
     "data": {
      "text/plain": [
       "int"
      ]
     },
     "execution_count": 1,
     "metadata": {},
     "output_type": "execute_result"
    }
   ],
   "source": [
    "# change the type of variable\n",
    "var = 10\n",
    "type(var)"
   ]
  },
  {
   "cell_type": "code",
   "execution_count": 2,
   "metadata": {},
   "outputs": [
    {
     "data": {
      "text/plain": [
       "float"
      ]
     },
     "execution_count": 2,
     "metadata": {},
     "output_type": "execute_result"
    }
   ],
   "source": [
    "# change the type of variable\n",
    "var = 10\n",
    "var = 1.1 #dynamically typed variable \n",
    "type(var)"
   ]
  },
  {
   "cell_type": "code",
   "execution_count": 22,
   "metadata": {},
   "outputs": [
    {
     "output_type": "stream",
     "name": "stdout",
     "text": [
      "Variable\t\t\tType------------\n5485485405415\t\t\t<class 'int'>\n10.54548489459\t\t\t<class 'float'>\n{1: 'A'}\t\t\t<class 'dict'>\n{1, 2, 3, 4, 6}\t\t\t<class 'set'>\n('Cat', 'Dog')\t\t\t<class 'tuple'>\nTiger Is Animal\t\t\t<class 'str'>\n"
     ]
    }
   ],
   "source": [
    "a = 5485485405415\n",
    "b = 10.54548489459\n",
    "e = 'h'\n",
    "c = {1: \"A\"}\n",
    "d = {1, 2, 3, 4, 6}\n",
    "e = \"Cat\", \"Dog\"\n",
    "f = \"Tiger Is Animal\"\n",
    "\n",
    "print(\"Variable\\t\\t\\tType------------\")\n",
    "elements = [a, b, c, d, e, f]\n",
    "for element in elements:\n",
    "    print(f\"{element}\\t\\t\\t{type(element)}\")\n"
   ]
  }
 ],
 "metadata": {
  "kernelspec": {
   "display_name": "Python 3",
   "language": "python",
   "name": "python3"
  },
  "language_info": {
   "codemirror_mode": {
    "name": "ipython",
    "version": 3
   },
   "file_extension": ".py",
   "mimetype": "text/x-python",
   "name": "python",
   "nbconvert_exporter": "python",
   "pygments_lexer": "ipython3",
   "version": "3.8.0-final"
  }
 },
 "nbformat": 4,
 "nbformat_minor": 2
}
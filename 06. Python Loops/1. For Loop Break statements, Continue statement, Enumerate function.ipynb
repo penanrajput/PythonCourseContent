{
 "cells": [
  {
   "cell_type": "code",
   "execution_count": 1,
   "metadata": {},
   "outputs": [
    {
     "name": "stdout",
     "output_type": "stream",
     "text": [
      "i =:  0\n",
      "i =:  1\n",
      "i =:  2\n",
      "i =:  3\n",
      "i =:  4\n",
      "i =:  5\n",
      "i =:  6\n"
     ]
    }
   ],
   "source": [
    "for i in range(7):\n",
    "    print(\"i =: \",i)"
   ]
  },
  {
   "cell_type": "code",
   "execution_count": 2,
   "metadata": {},
   "outputs": [
    {
     "name": "stdout",
     "output_type": "stream",
     "text": [
      "i =:  0\n",
      "i =:  1\n",
      "i =:  2\n",
      "i =:  3\n",
      "i =:  4\n",
      "i =:  5\n",
      "i =:  6\n"
     ]
    }
   ],
   "source": [
    "for i in range(0, 7):\n",
    "    print(\"i =: \",i)"
   ]
  },
  {
   "cell_type": "code",
   "execution_count": 4,
   "metadata": {},
   "outputs": [],
   "source": [
    "str = \"RAJU RASTOGI\""
   ]
  },
  {
   "cell_type": "code",
   "execution_count": 5,
   "metadata": {},
   "outputs": [
    {
     "data": {
      "text/plain": [
       "12"
      ]
     },
     "execution_count": 5,
     "metadata": {},
     "output_type": "execute_result"
    }
   ],
   "source": [
    "len(str)"
   ]
  },
  {
   "cell_type": "code",
   "execution_count": 6,
   "metadata": {},
   "outputs": [
    {
     "name": "stdout",
     "output_type": "stream",
     "text": [
      "i =>:  0    R\n",
      "i =>:  1    A\n",
      "i =>:  2    J\n",
      "i =>:  3    U\n",
      "i =>:  4     \n",
      "i =>:  5    R\n",
      "i =>:  6    A\n",
      "i =>:  7    S\n",
      "i =>:  8    T\n",
      "i =>:  9    O\n",
      "i =>:  10    G\n",
      "i =>:  11    I\n"
     ]
    }
   ],
   "source": [
    "for i in range(len(str)):\n",
    "    print(\"i =>: \", i, \"  \", str[i])"
   ]
  },
  {
   "cell_type": "code",
   "execution_count": 9,
   "metadata": {},
   "outputs": [
    {
     "name": "stdout",
     "output_type": "stream",
     "text": [
      "i =>:   0  R\n",
      "i =>:   1  A\n",
      "i =>:   2  J\n",
      "i =>:   3  U\n",
      "i =>:   4   \n",
      "i =>:   5  R\n",
      "i =>:   6  A\n",
      "i =>:   7  S\n",
      "i =>:   8  T\n",
      "i =>:   9  O\n",
      "i =>:  10  G\n",
      "i =>:  11  I\n"
     ]
    }
   ],
   "source": [
    "for i in range(len(str)):\n",
    "    print(\"i =>: %3d  %c\" %(i, str[i]))"
   ]
  },
  {
   "cell_type": "code",
   "execution_count": 11,
   "metadata": {},
   "outputs": [
    {
     "name": "stdout",
     "output_type": "stream",
     "text": [
      "i =>:   0  R \t\ti =>:   1  A \t\ti =>:   2  J \t\ti =>:   3  U \t\ti =>:   4    \t\ti =>:   5  R \t\ti =>:   6  A \t\ti =>:   7  S \t\ti =>:   8  T \t\ti =>:   9  O \t\ti =>:  10  G \t\ti =>:  11  I \t\t"
     ]
    }
   ],
   "source": [
    "for i in range(len(str)):\n",
    "    print(\"i =>: %3d  %c\" %(i, str[i]), end=\" \\t\\t\")"
   ]
  },
  {
   "cell_type": "code",
   "execution_count": 12,
   "metadata": {},
   "outputs": [],
   "source": [
    "for i in range(5):\n",
    "    pass"
   ]
  },
  {
   "cell_type": "code",
   "execution_count": 14,
   "metadata": {},
   "outputs": [
    {
     "name": "stdout",
     "output_type": "stream",
     "text": [
      "i :  0\n",
      "i :  1\n",
      "i :  2\n",
      "i :  3\n",
      "i :  4\n"
     ]
    }
   ],
   "source": [
    "# Terminates the loop statement and transfers execution to \n",
    "# the statement immediately following the loop.\n",
    "for i in range(7):\n",
    "    if(i==5):\n",
    "        break\n",
    "    print(\"i : \", i)"
   ]
  },
  {
   "cell_type": "code",
   "execution_count": 15,
   "metadata": {},
   "outputs": [
    {
     "name": "stdout",
     "output_type": "stream",
     "text": [
      "i :  0\n",
      "i :  1\n",
      "i :  2\n",
      "i :  3\n",
      "i :  4\n",
      "i :  6\n"
     ]
    }
   ],
   "source": [
    "# Causes the loop to skip the remainder of its body and \n",
    "# immediately retest its condition prior to reiterating.\n",
    "for i in range(7):\n",
    "    if(i==5):\n",
    "        continue\n",
    "    print(\"i : \", i)"
   ]
  },
  {
   "cell_type": "code",
   "execution_count": 16,
   "metadata": {},
   "outputs": [
    {
     "name": "stdout",
     "output_type": "stream",
     "text": [
      "i :  0\n",
      "i :  1\n",
      "i :  2\n",
      "i :  3\n",
      "i :  4\n",
      "i :  5\n",
      "i :  6\n"
     ]
    }
   ],
   "source": [
    "\n",
    "\n",
    "for i in range(7):\n",
    "    if(i==5):\n",
    "        pass\n",
    "    print(\"i : \", i)"
   ]
  },
  {
   "cell_type": "code",
   "execution_count": 17,
   "metadata": {},
   "outputs": [
    {
     "name": "stdout",
     "output_type": "stream",
     "text": [
      "i :  0\n",
      "i :  1\n",
      "i :  2\n",
      "i :  3\n",
      "i :  4\n",
      "i :  6\n"
     ]
    }
   ],
   "source": [
    "# The pass statement in Python is used when a statement is required \n",
    "# syntactically but you do not want any command or code to execute.\n",
    "for i in range(7):\n",
    "    if(i==5):\n",
    "        pass\n",
    "    else:\n",
    "        print(\"i : \", i)"
   ]
  },
  {
   "cell_type": "code",
   "execution_count": 10,
   "metadata": {},
   "outputs": [
    {
     "name": "stdout",
     "output_type": "stream",
     "text": [
      "    1      2      3      4      5      6      7      8      9     10  \n",
      "    2      4      6      8     10     12     14     16     18     20  \n",
      "    3      6      9     12     15     18     21     24     27     30  \n",
      "    4      8     12     16     20     24     28     32     36     40  \n",
      "    5     10     15     20     25     30     35     40     45     50  \n",
      "    6     12     18     24     30     36     42     48     54     60  \n",
      "    7     14     21     28     35     42     49     56     63     70  \n",
      "    8     16     24     32     40     48     56     64     72     80  \n",
      "    9     18     27     36     45     54     63     72     81     90  \n",
      "   10     20     30     40     50     60     70     80     90    100  \n"
     ]
    }
   ],
   "source": [
    "for i in range(1,11):\n",
    "    for j in range(1,11):\n",
    "        print(\"%5d \" %(i*j), end=\" \")\n",
    "    print()"
   ]
  },
  {
   "cell_type": "code",
   "execution_count": 14,
   "metadata": {},
   "outputs": [
    {
     "name": "stdout",
     "output_type": "stream",
     "text": [
      "sum is 55\n"
     ]
    }
   ],
   "source": [
    "# sum = 1 + 2 + 3 + 4 + 5 + ..... + n\n",
    "n = 10\n",
    "sum = 0\n",
    "for i in range(1, n+1):\n",
    "    sum = sum + i\n",
    "print(f\"sum is {sum}\")"
   ]
  },
  {
   "cell_type": "code",
   "execution_count": 17,
   "metadata": {},
   "outputs": [
    {
     "name": "stdout",
     "output_type": "stream",
     "text": [
      "sum is 650\n"
     ]
    }
   ],
   "source": [
    "# sum = 1^2 + 2^2 + 3^2 + 4^2 + 5^2 + ..... + n^2\n",
    "n = 12\n",
    "sum = 0\n",
    "for i in range(1, n+1):\n",
    "    sum = sum + i**2\n",
    "print(f\"sum is {sum}\")"
   ]
  },
  {
   "cell_type": "code",
   "execution_count": null,
   "metadata": {},
   "outputs": [],
   "source": []
  }
 ],
 "metadata": {
  "kernelspec": {
   "display_name": "Python 3",
   "language": "python",
   "name": "python3"
  },
  "language_info": {
   "codemirror_mode": {
    "name": "ipython",
    "version": 3
   },
   "file_extension": ".py",
   "mimetype": "text/x-python",
   "name": "python",
   "nbconvert_exporter": "python",
   "pygments_lexer": "ipython3",
   "version": "3.7.3"
  }
 },
 "nbformat": 4,
 "nbformat_minor": 2
}

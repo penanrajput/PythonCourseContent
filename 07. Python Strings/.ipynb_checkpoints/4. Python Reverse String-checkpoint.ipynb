{
 "cells": [
  {
   "cell_type": "code",
   "execution_count": 3,
   "metadata": {},
   "outputs": [],
   "source": [
    "# https://www.journaldev.com/23647/python-reverse-string\n",
    "# 1.1 Python Reverse String using Slicing\n",
    "# 1.2 Python Reverse String using For Loop\n",
    "# 1.3 Python Reverse String using While Loop\n",
    "# 1.4 Python Reverse String using join() and reversed()\n",
    "# 1.5 Python Reverse String using List reverse()\n",
    "# 1.6 Python Reverse String using Recursion"
   ]
  },
  {
   "cell_type": "code",
   "execution_count": 6,
   "metadata": {},
   "outputs": [],
   "source": [
    "# Python Reverse String using Slicing"
   ]
  },
  {
   "cell_type": "code",
   "execution_count": 8,
   "metadata": {},
   "outputs": [
    {
     "data": {
      "text/plain": [
       "'TEKCIRC FO LICNUOC LANOITANRETNI'"
      ]
     },
     "execution_count": 8,
     "metadata": {},
     "output_type": "execute_result"
    }
   ],
   "source": [
    "str = \"INTERNATIONAL COUNCIL OF CRICKET\"\n",
    "str[::-1]"
   ]
  },
  {
   "cell_type": "code",
   "execution_count": 10,
   "metadata": {},
   "outputs": [],
   "source": [
    "# Python Reverse String using Slicing"
   ]
  },
  {
   "cell_type": "code",
   "execution_count": 14,
   "metadata": {},
   "outputs": [
    {
     "name": "stdout",
     "output_type": "stream",
     "text": [
      "TEKCIRC FO LICNUOC LANOITANRETNI\n"
     ]
    }
   ],
   "source": [
    "# NOT IDEAL\n",
    "rev = ''\n",
    "for char in str[::-1]:\n",
    "    rev = rev + char\n",
    "print(rev)"
   ]
  },
  {
   "cell_type": "code",
   "execution_count": 15,
   "metadata": {},
   "outputs": [
    {
     "name": "stdout",
     "output_type": "stream",
     "text": [
      "TEKCIRC FO LICNUOC LANOITANRETNI\n"
     ]
    }
   ],
   "source": [
    "# IDEAL \n",
    "rev = ''\n",
    "for char in str:\n",
    "    rev = char + rev\n",
    "print(rev)"
   ]
  },
  {
   "cell_type": "code",
   "execution_count": 1,
   "metadata": {},
   "outputs": [],
   "source": [
    "# Python Reverse String using While Loop\n",
    "str=\"INTERNATIONAL COUNCIL OF CRICKET\""
   ]
  },
  {
   "cell_type": "code",
   "execution_count": 31,
   "metadata": {},
   "outputs": [
    {
     "name": "stdout",
     "output_type": "stream",
     "text": [
      "TEKCIRC FO LICNUOC LANOITANRETNI\n",
      "Wall time: 0 ns\n"
     ]
    }
   ],
   "source": [
    "%%time\n",
    "i = 0\n",
    "rev = ''\n",
    "while i<len(str):\n",
    "    rev = str[i]+rev\n",
    "    i=i+1\n",
    "print(rev)"
   ]
  },
  {
   "cell_type": "code",
   "execution_count": 4,
   "metadata": {},
   "outputs": [],
   "source": [
    "# Python Reverse String using join() and reversed()\n",
    "str=\"INTERNATIONAL COUNCIL OF CRICKET\""
   ]
  },
  {
   "cell_type": "code",
   "execution_count": 5,
   "metadata": {},
   "outputs": [
    {
     "data": {
      "text/plain": [
       "'TEKCIRC FO LICNUOC LANOITANRETNI'"
      ]
     },
     "execution_count": 5,
     "metadata": {},
     "output_type": "execute_result"
    }
   ],
   "source": [
    "\"\".join(reversed(str))"
   ]
  },
  {
   "cell_type": "code",
   "execution_count": 7,
   "metadata": {},
   "outputs": [],
   "source": [
    "# Python Reverse String using List reverse()"
   ]
  },
  {
   "cell_type": "code",
   "execution_count": 9,
   "metadata": {},
   "outputs": [
    {
     "data": {
      "text/plain": [
       "'INTERNATIONAL COUNCIL OF CRICKET'"
      ]
     },
     "execution_count": 9,
     "metadata": {},
     "output_type": "execute_result"
    }
   ],
   "source": [
    "str"
   ]
  },
  {
   "cell_type": "code",
   "execution_count": 10,
   "metadata": {},
   "outputs": [
    {
     "name": "stdout",
     "output_type": "stream",
     "text": [
      "['I', 'N', 'T', 'E', 'R', 'N', 'A', 'T', 'I', 'O', 'N', 'A', 'L', ' ', 'C', 'O', 'U', 'N', 'C', 'I', 'L', ' ', 'O', 'F', ' ', 'C', 'R', 'I', 'C', 'K', 'E', 'T']\n"
     ]
    }
   ],
   "source": [
    "list1 = list(str)\n",
    "print(list1)"
   ]
  },
  {
   "cell_type": "code",
   "execution_count": 12,
   "metadata": {},
   "outputs": [
    {
     "name": "stdout",
     "output_type": "stream",
     "text": [
      "['T', 'E', 'K', 'C', 'I', 'R', 'C', ' ', 'F', 'O', ' ', 'L', 'I', 'C', 'N', 'U', 'O', 'C', ' ', 'L', 'A', 'N', 'O', 'I', 'T', 'A', 'N', 'R', 'E', 'T', 'N', 'I']\n"
     ]
    }
   ],
   "source": [
    "list1.reverse()\n",
    "print(list1)"
   ]
  },
  {
   "cell_type": "code",
   "execution_count": 16,
   "metadata": {},
   "outputs": [
    {
     "name": "stdout",
     "output_type": "stream",
     "text": [
      "TEKCIRC FO LICNUOC LANOITANRETNI\n"
     ]
    }
   ],
   "source": [
    "list2 = \"\".join(list1)\n",
    "print(list2) ## solution"
   ]
  },
  {
   "cell_type": "code",
   "execution_count": 17,
   "metadata": {},
   "outputs": [],
   "source": [
    "# Python Reverse String using Recursion\n",
    "str = \"INTERNATIONAL COUNCIL OF CRICKET\""
   ]
  },
  {
   "cell_type": "code",
   "execution_count": 30,
   "metadata": {},
   "outputs": [
    {
     "name": "stdout",
     "output_type": "stream",
     "text": [
      "TEKCIRC FO LICNUOC LANOITANRETNI\n",
      "Wall time: 0 ns\n"
     ]
    }
   ],
   "source": [
    "%%time\n",
    "def reverse_string(str, i):\n",
    "    if(i<len(str)):\n",
    "        return reverse_string(str, i + 1) + str[i]\n",
    "    else:\n",
    "        return ''\n",
    "rev = ''\n",
    "str=\"INTERNATIONAL COUNCIL OF CRICKET\"\n",
    "rev = reverse_string(str, 0)\n",
    "\n",
    "print(rev)"
   ]
  },
  {
   "cell_type": "code",
   "execution_count": 35,
   "metadata": {},
   "outputs": [],
   "source": [
    "# ALGORITHM\tTIMEIT EXECUTION TIME (BEST OF 5)\tSLOWNESS\n",
    "# Slicing\t0.449 usec\t1x\n",
    "# List reverse()\t2.46 usec\t5.48x\n",
    "# reversed() + join()\t2.49 usec\t5.55x\n",
    "# for loop\t5.5 usec\t12.25x\n",
    "# while loop\t9.4 usec\t20.94x\n",
    "# Recursion\t24.3 usec\t54.12x"
   ]
  },
  {
   "cell_type": "code",
   "execution_count": null,
   "metadata": {
    "scrolled": true
   },
   "outputs": [],
   "source": []
  }
 ],
 "metadata": {
  "kernelspec": {
   "display_name": "Python 3",
   "language": "python",
   "name": "python3"
  },
  "language_info": {
   "codemirror_mode": {
    "name": "ipython",
    "version": 3
   },
   "file_extension": ".py",
   "mimetype": "text/x-python",
   "name": "python",
   "nbconvert_exporter": "python",
   "pygments_lexer": "ipython3",
   "version": "3.7.3"
  }
 },
 "nbformat": 4,
 "nbformat_minor": 2
}

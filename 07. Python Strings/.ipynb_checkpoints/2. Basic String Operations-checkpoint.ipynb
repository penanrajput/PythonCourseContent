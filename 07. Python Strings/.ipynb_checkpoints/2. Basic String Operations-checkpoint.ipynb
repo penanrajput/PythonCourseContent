{
 "cells": [
  {
   "cell_type": "code",
   "execution_count": 6,
   "metadata": {},
   "outputs": [
    {
     "name": "stdout",
     "output_type": "stream",
     "text": [
      "False\n"
     ]
    }
   ],
   "source": [
    "# comparing two strings\n",
    "str1 = \"NATIONAL\"\n",
    "str2 = \"INTERNATIONAL\"\n",
    "print(str1 == str2)"
   ]
  },
  {
   "cell_type": "code",
   "execution_count": 7,
   "metadata": {},
   "outputs": [
    {
     "name": "stdout",
     "output_type": "stream",
     "text": [
      "TWO STRINGS ARE NOT EQUAL\n"
     ]
    }
   ],
   "source": [
    "if(str1 == str2):\n",
    "    print(\"TWO STRINGS ARE EQUAL\")\n",
    "else:\n",
    "    print(\"TWO STRINGS ARE NOT EQUAL\")"
   ]
  },
  {
   "cell_type": "code",
   "execution_count": 8,
   "metadata": {},
   "outputs": [
    {
     "name": "stdout",
     "output_type": "stream",
     "text": [
      "TWO STRINGS ARE EQUAL\n"
     ]
    }
   ],
   "source": [
    "str1 = \"NATIONAL\"\n",
    "str2 = \"NATIONAL\"\n",
    "if(str1 == str2):\n",
    "    print(\"TWO STRINGS ARE EQUAL\")\n",
    "else:\n",
    "    print(\"TWO STRINGS ARE NOT EQUAL\")"
   ]
  },
  {
   "cell_type": "code",
   "execution_count": null,
   "metadata": {},
   "outputs": [],
   "source": [
    "# Finding the index from value\n"
   ]
  }
 ],
 "metadata": {
  "kernelspec": {
   "display_name": "Python 3",
   "language": "python",
   "name": "python3"
  },
  "language_info": {
   "codemirror_mode": {
    "name": "ipython",
    "version": 3
   },
   "file_extension": ".py",
   "mimetype": "text/x-python",
   "name": "python",
   "nbconvert_exporter": "python",
   "pygments_lexer": "ipython3",
   "version": "3.7.3"
  }
 },
 "nbformat": 4,
 "nbformat_minor": 2
}

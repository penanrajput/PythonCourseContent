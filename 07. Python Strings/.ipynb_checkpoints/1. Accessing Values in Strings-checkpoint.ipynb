{
 "cells": [
  {
   "cell_type": "code",
   "execution_count": 1,
   "metadata": {},
   "outputs": [
    {
     "name": "stdout",
     "output_type": "stream",
     "text": [
      "ABBBBCCC\n"
     ]
    }
   ],
   "source": [
    "str = \"ABBBBCCC\"\n",
    "print(str)"
   ]
  },
  {
   "cell_type": "code",
   "execution_count": 3,
   "metadata": {},
   "outputs": [
    {
     "name": "stdout",
     "output_type": "stream",
     "text": [
      "str[0] = A \n",
      "str[1] = B \n",
      "str[2] = B \n",
      "str[3] = B \n",
      "str[4] = B \n",
      "str[5] = C \n",
      "str[6] = C \n",
      "str[7] = C \n"
     ]
    }
   ],
   "source": [
    "#  Accessing every element in string \n",
    "# method : Indexing\n",
    "for i in range(0, len(str)):\n",
    "    print(f\"str[{i}] = {str[i]} \")"
   ]
  },
  {
   "cell_type": "code",
   "execution_count": 8,
   "metadata": {},
   "outputs": [
    {
     "name": "stdout",
     "output_type": "stream",
     "text": [
      "str[0] = A\n",
      "str[1] = B\n",
      "str[2] = B\n",
      "str[3] = B\n",
      "str[4] = B\n",
      "str[5] = C\n",
      "str[6] = C\n",
      "str[7] = C\n"
     ]
    }
   ],
   "source": [
    "# for loop Iteration method\n",
    "j=0\n",
    "for i in str:\n",
    "    print(f\"str[{j}] = {i}\")\n",
    "    j=j+1"
   ]
  },
  {
   "cell_type": "code",
   "execution_count": 10,
   "metadata": {},
   "outputs": [],
   "source": [
    "# http://www.iitk.ac.in/esc101/05Aug/tutorial/figures/java/objects-charAt.gif"
   ]
  },
  {
   "cell_type": "code",
   "execution_count": 11,
   "metadata": {},
   "outputs": [],
   "source": [
    "# : operators"
   ]
  },
  {
   "cell_type": "code",
   "execution_count": 12,
   "metadata": {},
   "outputs": [
    {
     "name": "stdout",
     "output_type": "stream",
     "text": [
      "str[5:} =  NATIONAL COUNCIL OF CRICKET\n",
      "str[:5} =  INTER\n",
      "str[5:15] =  NATIONAL C\n"
     ]
    }
   ],
   "source": [
    "str=\"INTERNATIONAL COUNCIL OF CRICKET\"\n",
    "print(\"str[5:} = \",str[5:])\n",
    "print(\"str[:5} = \",str[:5])\n",
    "print(\"str[5:15] = \", str[5:15])"
   ]
  },
  {
   "cell_type": "code",
   "execution_count": 5,
   "metadata": {},
   "outputs": [
    {
     "data": {
      "text/plain": [
       "'INTERNATIONAL'"
      ]
     },
     "execution_count": 5,
     "metadata": {},
     "output_type": "execute_result"
    }
   ],
   "source": [
    "# BUilt in function [ string.index(value) ] to access the string index\n",
    "str = \"INTERNATIONAL\"\n",
    "str"
   ]
  },
  {
   "cell_type": "code",
   "execution_count": 7,
   "metadata": {},
   "outputs": [
    {
     "data": {
      "text/plain": [
       "'INTERNATIONAL'"
      ]
     },
     "execution_count": 7,
     "metadata": {},
     "output_type": "execute_result"
    }
   ],
   "source": [
    "str"
   ]
  },
  {
   "cell_type": "code",
   "execution_count": null,
   "metadata": {},
   "outputs": [],
   "source": []
  }
 ],
 "metadata": {
  "kernelspec": {
   "display_name": "Python 3",
   "language": "python",
   "name": "python3"
  },
  "language_info": {
   "codemirror_mode": {
    "name": "ipython",
    "version": 3
   },
   "file_extension": ".py",
   "mimetype": "text/x-python",
   "name": "python",
   "nbconvert_exporter": "python",
   "pygments_lexer": "ipython3",
   "version": "3.7.3"
  }
 },
 "nbformat": 4,
 "nbformat_minor": 2
}

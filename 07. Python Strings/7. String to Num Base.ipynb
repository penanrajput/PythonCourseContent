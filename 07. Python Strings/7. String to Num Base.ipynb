{
 "cells": [
  {
   "cell_type": "code",
   "execution_count": 10,
   "metadata": {},
   "outputs": [
    {
     "name": "stdout",
     "output_type": "stream",
     "text": [
      "original string =  123\n",
      "Base 6 to Base 10 =  51\n",
      "Base 8 to Base 10 =  83\n",
      "Base 12 to Base 10 =  171\n"
     ]
    }
   ],
   "source": [
    "num = '123'\n",
    "print(\"original string = \", int(num))\n",
    "\n",
    "print(\"Base 6 to Base 10 = \", int(num, base=6))\n",
    "print(\"Base 8 to Base 10 = \", int(num, base=8))\n",
    "print(\"Base 12 to Base 10 = \", int(num, base=12))"
   ]
  },
  {
   "cell_type": "code",
   "execution_count": null,
   "metadata": {},
   "outputs": [],
   "source": []
  }
 ],
 "metadata": {
  "interpreter": {
   "hash": "d1c065f673b176935b101a95e5c76789facfbff7b0613e6410f374bbe336fdf4"
  },
  "kernelspec": {
   "display_name": "Python 3.10.2 64-bit",
   "language": "python",
   "name": "python3"
  },
  "language_info": {
   "codemirror_mode": {
    "name": "ipython",
    "version": 3
   },
   "file_extension": ".py",
   "mimetype": "text/x-python",
   "name": "python",
   "nbconvert_exporter": "python",
   "pygments_lexer": "ipython3",
   "version": "3.10.2"
  },
  "orig_nbformat": 4
 },
 "nbformat": 4,
 "nbformat_minor": 2
}

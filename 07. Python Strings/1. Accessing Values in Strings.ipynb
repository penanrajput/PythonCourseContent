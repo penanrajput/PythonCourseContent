{
 "cells": [
  {
   "cell_type": "code",
   "execution_count": 1,
   "metadata": {},
   "outputs": [
    {
     "name": "stdout",
     "output_type": "stream",
     "text": [
      "ABBBBCCC\n"
     ]
    }
   ],
   "source": [
    "str = \"ABBBBCCC\"\n",
    "print(str)"
   ]
  },
  {
   "cell_type": "code",
   "execution_count": 3,
   "metadata": {},
   "outputs": [
    {
     "name": "stdout",
     "output_type": "stream",
     "text": [
      "str[0] = A \n",
      "str[1] = B \n",
      "str[2] = B \n",
      "str[3] = B \n",
      "str[4] = B \n",
      "str[5] = C \n",
      "str[6] = C \n",
      "str[7] = C \n"
     ]
    }
   ],
   "source": [
    "#  Accessing every element in string \n",
    "# method : Indexing\n",
    "for i in range(0, len(str)):\n",
    "    print(f\"str[{i}] = {str[i]} \")"
   ]
  },
  {
   "cell_type": "code",
   "execution_count": 8,
   "metadata": {},
   "outputs": [
    {
     "name": "stdout",
     "output_type": "stream",
     "text": [
      "str[0] = A\n",
      "str[1] = B\n",
      "str[2] = B\n",
      "str[3] = B\n",
      "str[4] = B\n",
      "str[5] = C\n",
      "str[6] = C\n",
      "str[7] = C\n"
     ]
    }
   ],
   "source": [
    "# for loop Iteration method\n",
    "j=0\n",
    "for i in str:\n",
    "    print(f\"str[{j}] = {i}\")\n",
    "    j=j+1"
   ]
  },
  {
   "cell_type": "markdown",
   "metadata": {},
   "source": [
    "![title](objects-charAt.gif)"
   ]
  },
  {
   "cell_type": "code",
   "execution_count": 1,
   "metadata": {},
   "outputs": [],
   "source": [
    "# Indexing using : operators"
   ]
  },
  {
   "cell_type": "code",
   "execution_count": 12,
   "metadata": {},
   "outputs": [
    {
     "name": "stdout",
     "output_type": "stream",
     "text": [
      "str[5:} =  NATIONAL COUNCIL OF CRICKET\n",
      "str[:5} =  INTER\n",
      "str[5:15] =  NATIONAL C\n"
     ]
    }
   ],
   "source": [
    "str=\"INTERNATIONAL COUNCIL OF CRICKET\"\n",
    "print(\"str[5:} = \",str[5:])\n",
    "print(\"str[:5} = \",str[:5])\n",
    "print(\"str[5:15] = \", str[5:15])"
   ]
  },
  {
   "cell_type": "code",
   "execution_count": 13,
   "metadata": {},
   "outputs": [],
   "source": [
    "# skip the steps in : operator"
   ]
  },
  {
   "cell_type": "code",
   "execution_count": 7,
   "metadata": {},
   "outputs": [
    {
     "data": {
      "text/plain": [
       "'INTERNATIONAL'"
      ]
     },
     "execution_count": 7,
     "metadata": {},
     "output_type": "execute_result"
    }
   ],
   "source": [
    "str"
   ]
  },
  {
   "cell_type": "code",
   "execution_count": 8,
   "metadata": {},
   "outputs": [
    {
     "data": {
      "text/plain": [
       "'TRAINL'"
      ]
     },
     "execution_count": 8,
     "metadata": {},
     "output_type": "execute_result"
    }
   ],
   "source": [
    "str[2::2]"
   ]
  },
  {
   "cell_type": "code",
   "execution_count": 9,
   "metadata": {
    "scrolled": true
   },
   "outputs": [
    {
     "data": {
      "text/plain": [
       "'TRA'"
      ]
     },
     "execution_count": 9,
     "metadata": {},
     "output_type": "execute_result"
    }
   ],
   "source": [
    "str[2:8:2]"
   ]
  },
  {
   "cell_type": "code",
   "execution_count": 10,
   "metadata": {},
   "outputs": [
    {
     "data": {
      "text/plain": [
       "13"
      ]
     },
     "execution_count": 10,
     "metadata": {},
     "output_type": "execute_result"
    }
   ],
   "source": [
    "len(str)"
   ]
  },
  {
   "cell_type": "code",
   "execution_count": 12,
   "metadata": {},
   "outputs": [
    {
     "data": {
      "text/plain": [
       "'TRAINL'"
      ]
     },
     "execution_count": 12,
     "metadata": {},
     "output_type": "execute_result"
    }
   ],
   "source": [
    "str[2:13:2]"
   ]
  },
  {
   "cell_type": "code",
   "execution_count": 18,
   "metadata": {},
   "outputs": [],
   "source": [
    "# Access in reverse order"
   ]
  },
  {
   "cell_type": "code",
   "execution_count": 19,
   "metadata": {},
   "outputs": [],
   "source": [
    "n = len(str)"
   ]
  },
  {
   "cell_type": "code",
   "execution_count": 23,
   "metadata": {},
   "outputs": [],
   "source": [
    "n = -n"
   ]
  },
  {
   "cell_type": "code",
   "execution_count": 24,
   "metadata": {},
   "outputs": [
    {
     "data": {
      "text/plain": [
       "'I'"
      ]
     },
     "execution_count": 24,
     "metadata": {},
     "output_type": "execute_result"
    }
   ],
   "source": [
    "str[-13]"
   ]
  },
  {
   "cell_type": "code",
   "execution_count": 25,
   "metadata": {},
   "outputs": [
    {
     "data": {
      "text/plain": [
       "'INTERNATIONAL'"
      ]
     },
     "execution_count": 25,
     "metadata": {},
     "output_type": "execute_result"
    }
   ],
   "source": [
    "str"
   ]
  },
  {
   "cell_type": "code",
   "execution_count": 26,
   "metadata": {},
   "outputs": [
    {
     "data": {
      "text/plain": [
       "'N'"
      ]
     },
     "execution_count": 26,
     "metadata": {},
     "output_type": "execute_result"
    }
   ],
   "source": [
    "str[-12]"
   ]
  },
  {
   "cell_type": "code",
   "execution_count": 29,
   "metadata": {},
   "outputs": [
    {
     "name": "stdout",
     "output_type": "stream",
     "text": [
      "I\n",
      "N\n",
      "T\n",
      "E\n",
      "R\n",
      "N\n",
      "A\n",
      "T\n",
      "I\n",
      "O\n",
      "N\n",
      "A\n",
      "L\n"
     ]
    }
   ],
   "source": [
    "for i in range(0, len(str)):\n",
    "    print(str[i])"
   ]
  },
  {
   "cell_type": "code",
   "execution_count": 31,
   "metadata": {},
   "outputs": [
    {
     "name": "stdout",
     "output_type": "stream",
     "text": [
      " -13 : I\n",
      " -12 : N\n",
      " -11 : T\n",
      " -10 : E\n",
      " -9 : R\n",
      " -8 : N\n",
      " -7 : A\n",
      " -6 : T\n",
      " -5 : I\n",
      " -4 : O\n",
      " -3 : N\n",
      " -2 : A\n",
      " -1 : L\n"
     ]
    }
   ],
   "source": [
    "for i in range(-len(str), 0):\n",
    "    print(f\" {i} : {str[i]}\")"
   ]
  },
  {
   "cell_type": "code",
   "execution_count": 35,
   "metadata": {},
   "outputs": [
    {
     "name": "stdout",
     "output_type": "stream",
     "text": [
      " 0 : I\n",
      " -1 : L\n",
      " -2 : A\n",
      " -3 : N\n",
      " -4 : O\n",
      " -5 : I\n",
      " -6 : T\n",
      " -7 : A\n",
      " -8 : N\n",
      " -9 : R\n",
      " -10 : E\n",
      " -11 : T\n",
      " -12 : N\n",
      " -13 : I\n"
     ]
    }
   ],
   "source": [
    "for i in range(0, -len(str)-1, -1): # IMPORTANT\n",
    "    print(f\" {i} : {str[i]}\")"
   ]
  },
  {
   "cell_type": "code",
   "execution_count": null,
   "metadata": {},
   "outputs": [],
   "source": []
  }
 ],
 "metadata": {
  "kernelspec": {
   "display_name": "Python 3",
   "language": "python",
   "name": "python3"
  },
  "language_info": {
   "codemirror_mode": {
    "name": "ipython",
    "version": 3
   },
   "file_extension": ".py",
   "mimetype": "text/x-python",
   "name": "python",
   "nbconvert_exporter": "python",
   "pygments_lexer": "ipython3",
   "version": "3.10.2"
  }
 },
 "nbformat": 4,
 "nbformat_minor": 2
}

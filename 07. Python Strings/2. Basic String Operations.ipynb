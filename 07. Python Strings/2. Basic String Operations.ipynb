{
 "cells": [
  {
   "cell_type": "code",
   "execution_count": 6,
   "metadata": {},
   "outputs": [
    {
     "name": "stdout",
     "output_type": "stream",
     "text": [
      "False\n"
     ]
    }
   ],
   "source": [
    "# comparing two strings\n",
    "str1 = \"NATIONAL\"\n",
    "str2 = \"INTERNATIONAL\"\n",
    "print(str1 == str2)"
   ]
  },
  {
   "cell_type": "code",
   "execution_count": 7,
   "metadata": {},
   "outputs": [
    {
     "name": "stdout",
     "output_type": "stream",
     "text": [
      "TWO STRINGS ARE NOT EQUAL\n"
     ]
    }
   ],
   "source": [
    "if(str1 == str2):\n",
    "    print(\"TWO STRINGS ARE EQUAL\")\n",
    "else:\n",
    "    print(\"TWO STRINGS ARE NOT EQUAL\")"
   ]
  },
  {
   "cell_type": "code",
   "execution_count": 8,
   "metadata": {},
   "outputs": [
    {
     "name": "stdout",
     "output_type": "stream",
     "text": [
      "TWO STRINGS ARE EQUAL\n"
     ]
    }
   ],
   "source": [
    "str1 = \"NATIONAL\"\n",
    "str2 = \"NATIONAL\"\n",
    "if(str1 == str2):\n",
    "    print(\"TWO STRINGS ARE EQUAL\")\n",
    "else:\n",
    "    print(\"TWO STRINGS ARE NOT EQUAL\")"
   ]
  },
  {
   "cell_type": "code",
   "execution_count": 9,
   "metadata": {},
   "outputs": [
    {
     "name": "stdout",
     "output_type": "stream",
     "text": [
      "str :  INTERNATIONAL\n",
      "4\n"
     ]
    }
   ],
   "source": [
    "# Finding the index from value\n",
    "str = \"INTERNATIONAL\"\n",
    "print(\"str : \", str)\n",
    "print(str.index('R'))"
   ]
  },
  {
   "cell_type": "code",
   "execution_count": 10,
   "metadata": {},
   "outputs": [
    {
     "name": "stdout",
     "output_type": "stream",
     "text": [
      "R is at index :  4\n"
     ]
    }
   ],
   "source": [
    "print(\"R is at index : \", str.index(\"R\"))"
   ]
  },
  {
   "cell_type": "code",
   "execution_count": 12,
   "metadata": {
    "scrolled": true
   },
   "outputs": [
    {
     "name": "stdout",
     "output_type": "stream",
     "text": [
      " I is at index : 0\n",
      " N is at index : 1\n",
      " T is at index : 2\n",
      " E is at index : 3\n",
      " R is at index : 4\n",
      " N is at index : 1\n",
      " A is at index : 6\n",
      " T is at index : 2\n",
      " I is at index : 0\n",
      " O is at index : 9\n",
      " N is at index : 1\n",
      " A is at index : 6\n",
      " L is at index : 12\n",
      "   is at index : 13\n",
      " C is at index : 14\n",
      " O is at index : 9\n",
      " U is at index : 16\n",
      " N is at index : 1\n",
      " C is at index : 14\n",
      " I is at index : 0\n",
      " L is at index : 12\n",
      "   is at index : 13\n",
      " O is at index : 9\n",
      " F is at index : 23\n",
      "   is at index : 13\n",
      " C is at index : 14\n",
      " R is at index : 4\n",
      " I is at index : 0\n",
      " C is at index : 14\n",
      " K is at index : 29\n",
      " E is at index : 3\n",
      " T is at index : 2\n"
     ]
    }
   ],
   "source": [
    "str = \"INTERNATIONAL COUNCIL OF CRICKET\"\n",
    "for i in str:\n",
    "    print(f\" {i} is at index : {str.index(i)}\")"
   ]
  },
  {
   "cell_type": "code",
   "execution_count": 15,
   "metadata": {},
   "outputs": [
    {
     "data": {
      "text/plain": [
       "'INTERNATIONAL COUNCIL OF CRICKET'"
      ]
     },
     "execution_count": 15,
     "metadata": {},
     "output_type": "execute_result"
    }
   ],
   "source": [
    "# Using str.find(character(s)) function\n",
    "str"
   ]
  },
  {
   "cell_type": "code",
   "execution_count": 14,
   "metadata": {},
   "outputs": [
    {
     "data": {
      "text/plain": [
       "4"
      ]
     },
     "execution_count": 14,
     "metadata": {},
     "output_type": "execute_result"
    }
   ],
   "source": [
    "str.find(\"R\")"
   ]
  },
  {
   "cell_type": "code",
   "execution_count": 16,
   "metadata": {},
   "outputs": [
    {
     "data": {
      "text/plain": [
       "4"
      ]
     },
     "execution_count": 16,
     "metadata": {},
     "output_type": "execute_result"
    }
   ],
   "source": [
    "str.find(\"RNA\")"
   ]
  },
  {
   "cell_type": "code",
   "execution_count": 17,
   "metadata": {},
   "outputs": [
    {
     "data": {
      "text/plain": [
       "4"
      ]
     },
     "execution_count": 17,
     "metadata": {},
     "output_type": "execute_result"
    }
   ],
   "source": [
    "str.index(\"RNA\")"
   ]
  },
  {
   "cell_type": "code",
   "execution_count": 18,
   "metadata": {},
   "outputs": [
    {
     "data": {
      "text/plain": [
       "'111xxxxxxx'"
      ]
     },
     "execution_count": 18,
     "metadata": {},
     "output_type": "execute_result"
    }
   ],
   "source": [
    "# fiiling the characters \n",
    "# left pad justified \n",
    "\"111\".ljust(10,'x')"
   ]
  },
  {
   "cell_type": "code",
   "execution_count": 19,
   "metadata": {},
   "outputs": [
    {
     "data": {
      "text/plain": [
       "'xxxxxxx111'"
      ]
     },
     "execution_count": 19,
     "metadata": {},
     "output_type": "execute_result"
    }
   ],
   "source": [
    "# right pad justified\n",
    "\"111\".rjust(10,'x')"
   ]
  },
  {
   "cell_type": "code",
   "execution_count": 24,
   "metadata": {},
   "outputs": [
    {
     "data": {
      "text/plain": [
       "'xxdogxx'"
      ]
     },
     "execution_count": 24,
     "metadata": {},
     "output_type": "execute_result"
    }
   ],
   "source": [
    "# \"dog\" => \"xxdogxx\"\n",
    "\"dog\".rjust(5,'x').ljust(7,'x')"
   ]
  },
  {
   "cell_type": "code",
   "execution_count": 25,
   "metadata": {},
   "outputs": [],
   "source": [
    "# reversing the string"
   ]
  },
  {
   "cell_type": "code",
   "execution_count": 26,
   "metadata": {},
   "outputs": [
    {
     "ename": "AttributeError",
     "evalue": "'str' object has no attribute 'reverse'",
     "output_type": "error",
     "traceback": [
      "\u001b[1;31m---------------------------------------------------------------------------\u001b[0m",
      "\u001b[1;31mAttributeError\u001b[0m                            Traceback (most recent call last)",
      "\u001b[1;32m<ipython-input-26-408642aa77b0>\u001b[0m in \u001b[0;36m<module>\u001b[1;34m\u001b[0m\n\u001b[1;32m----> 1\u001b[1;33m \u001b[0mstr\u001b[0m\u001b[1;33m.\u001b[0m\u001b[0mreverse\u001b[0m\u001b[1;33m(\u001b[0m\u001b[1;33m)\u001b[0m\u001b[1;33m\u001b[0m\u001b[1;33m\u001b[0m\u001b[0m\n\u001b[0m",
      "\u001b[1;31mAttributeError\u001b[0m: 'str' object has no attribute 'reverse'"
     ]
    }
   ],
   "source": [
    "str.reverse()"
   ]
  },
  {
   "cell_type": "code",
   "execution_count": null,
   "metadata": {},
   "outputs": [],
   "source": []
  },
  {
   "cell_type": "code",
   "execution_count": null,
   "metadata": {},
   "outputs": [],
   "source": []
  }
 ],
 "metadata": {
  "kernelspec": {
   "display_name": "Python 3",
   "language": "python",
   "name": "python3"
  },
  "language_info": {
   "codemirror_mode": {
    "name": "ipython",
    "version": 3
   },
   "file_extension": ".py",
   "mimetype": "text/x-python",
   "name": "python",
   "nbconvert_exporter": "python",
   "pygments_lexer": "ipython3",
   "version": "3.7.3"
  }
 },
 "nbformat": 4,
 "nbformat_minor": 2
}

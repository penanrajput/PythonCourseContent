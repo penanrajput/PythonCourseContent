{
 "cells": [
  {
   "cell_type": "code",
   "execution_count": null,
   "metadata": {},
   "outputs": [],
   "source": [
    "# https://www.journaldev.com/24530/python-string-splitlines"
   ]
  },
  {
   "cell_type": "code",
   "execution_count": 24,
   "metadata": {},
   "outputs": [
    {
     "data": {
      "text/plain": [
       "'Android/nPython/nJava'"
      ]
     },
     "execution_count": 24,
     "metadata": {},
     "output_type": "execute_result"
    }
   ],
   "source": [
    "str=\"Android/nPython/nJava\"\n",
    "str"
   ]
  },
  {
   "cell_type": "code",
   "execution_count": 2,
   "metadata": {},
   "outputs": [
    {
     "data": {
      "text/plain": [
       "['Android', 'Python', 'Java']"
      ]
     },
     "execution_count": 2,
     "metadata": {},
     "output_type": "execute_result"
    }
   ],
   "source": [
    "str.split('/n')"
   ]
  },
  {
   "cell_type": "code",
   "execution_count": 3,
   "metadata": {},
   "outputs": [
    {
     "data": {
      "text/plain": [
       "'Android/nPython/nJava'"
      ]
     },
     "execution_count": 3,
     "metadata": {},
     "output_type": "execute_result"
    }
   ],
   "source": [
    "str"
   ]
  },
  {
   "cell_type": "code",
   "execution_count": 6,
   "metadata": {},
   "outputs": [],
   "source": [
    "list1 = str.split('/n')"
   ]
  },
  {
   "cell_type": "code",
   "execution_count": 7,
   "metadata": {},
   "outputs": [
    {
     "data": {
      "text/plain": [
       "['Android', 'Python', 'Java']"
      ]
     },
     "execution_count": 7,
     "metadata": {},
     "output_type": "execute_result"
    }
   ],
   "source": [
    "list1"
   ]
  },
  {
   "cell_type": "code",
   "execution_count": 12,
   "metadata": {},
   "outputs": [],
   "source": [
    "# only split first two\n",
    "# let's go into syntax of split to achieve this\n",
    "# str.split(sep=None, maxsplit=-1)"
   ]
  },
  {
   "cell_type": "code",
   "execution_count": 22,
   "metadata": {},
   "outputs": [
    {
     "name": "stdout",
     "output_type": "stream",
     "text": [
      "['Android', 'Python/nJava']\n"
     ]
    }
   ],
   "source": [
    "list1 = str.split('/n', 1)\n",
    "print(list1)"
   ]
  },
  {
   "cell_type": "code",
   "execution_count": null,
   "metadata": {},
   "outputs": [],
   "source": [
    "# Multiline string split example"
   ]
  },
  {
   "cell_type": "code",
   "execution_count": 18,
   "metadata": {},
   "outputs": [],
   "source": [
    "# # Example \n",
    "# input Hi There\\nHow are you?\\nI am fine\n",
    "# output \n",
    "# Hi There\n",
    "# How are you?\n",
    "# I am fine"
   ]
  },
  {
   "cell_type": "code",
   "execution_count": 19,
   "metadata": {},
   "outputs": [],
   "source": [
    "s = \"Hi There\\nHow are you?\\nI am fine\""
   ]
  },
  {
   "cell_type": "code",
   "execution_count": 20,
   "metadata": {},
   "outputs": [
    {
     "data": {
      "text/plain": [
       "'Hi There\\nHow are you?\\nI am fine'"
      ]
     },
     "execution_count": 20,
     "metadata": {},
     "output_type": "execute_result"
    }
   ],
   "source": [
    "s"
   ]
  },
  {
   "cell_type": "code",
   "execution_count": 21,
   "metadata": {},
   "outputs": [
    {
     "name": "stdout",
     "output_type": "stream",
     "text": [
      "Hi There\n",
      "How are you?\n",
      "I am fine\n"
     ]
    }
   ],
   "source": [
    "list1 = s.split(\"\\n\")\n",
    "for i in list1:\n",
    "    print(i)"
   ]
  },
  {
   "cell_type": "code",
   "execution_count": null,
   "metadata": {},
   "outputs": [],
   "source": [
    "# Multi-Character separator example"
   ]
  },
  {
   "cell_type": "code",
   "execution_count": 23,
   "metadata": {},
   "outputs": [
    {
     "name": "stdout",
     "output_type": "stream",
     "text": [
      "['Hi', 'Hello', 'Adios']\n"
     ]
    }
   ],
   "source": [
    "# input:  'Hi||Hello||Adios'\n",
    "# Output: ['Hi', 'Hello', 'Adios']\n",
    "s = 'Hi||Hello||Adios'\n",
    "list1 = s.split(\"||\")\n",
    "print(list1)"
   ]
  },
  {
   "cell_type": "code",
   "execution_count": 24,
   "metadata": {},
   "outputs": [],
   "source": [
    "# str.split() function example\n",
    "# We can use split() function directly from str class too."
   ]
  },
  {
   "cell_type": "code",
   "execution_count": 2,
   "metadata": {},
   "outputs": [
    {
     "name": "stdout",
     "output_type": "stream",
     "text": [
      "['Hi', 'Hello', 'Adios']\n"
     ]
    }
   ],
   "source": [
    "print(str.split(\"Hi||Hello||Adios\", \"||\"))"
   ]
  },
  {
   "cell_type": "code",
   "execution_count": 3,
   "metadata": {},
   "outputs": [],
   "source": [
    "# CSV String Split Example with User Input"
   ]
  },
  {
   "cell_type": "code",
   "execution_count": 12,
   "metadata": {},
   "outputs": [
    {
     "name": "stdout",
     "output_type": "stream",
     "text": [
      "input csv data : 23,PENAN,19 40,CHETAN,52 56,RAHUL,85\n"
     ]
    }
   ],
   "source": [
    "data = input(\"input csv data : \")\n",
    "sp_data = data.split(\" \")"
   ]
  },
  {
   "cell_type": "code",
   "execution_count": 13,
   "metadata": {},
   "outputs": [
    {
     "data": {
      "text/plain": [
       "['23,PENAN,19', '40,CHETAN,52', '56,RAHUL,85']"
      ]
     },
     "execution_count": 13,
     "metadata": {},
     "output_type": "execute_result"
    }
   ],
   "source": [
    "sp_data"
   ]
  },
  {
   "cell_type": "code",
   "execution_count": 14,
   "metadata": {},
   "outputs": [
    {
     "data": {
      "text/plain": [
       "['23', 'PENAN', '19']"
      ]
     },
     "execution_count": 14,
     "metadata": {},
     "output_type": "execute_result"
    }
   ],
   "source": [
    "sp_data[0].split(\",\")"
   ]
  },
  {
   "cell_type": "code",
   "execution_count": 15,
   "metadata": {},
   "outputs": [
    {
     "data": {
      "text/plain": [
       "'23,PENAN,19'"
      ]
     },
     "execution_count": 15,
     "metadata": {},
     "output_type": "execute_result"
    }
   ],
   "source": [
    "sp_data[0]"
   ]
  },
  {
   "cell_type": "code",
   "execution_count": 19,
   "metadata": {},
   "outputs": [],
   "source": [
    "#rsplit() is similar to split() by all types (above) and output\n",
    "# difference is that it splts string from BACK to FRONT"
   ]
  },
  {
   "cell_type": "code",
   "execution_count": 17,
   "metadata": {},
   "outputs": [
    {
     "data": {
      "text/plain": [
       "'23,PENAN,19 40,CHETAN,52 56,RAHUL,85'"
      ]
     },
     "execution_count": 17,
     "metadata": {},
     "output_type": "execute_result"
    }
   ],
   "source": [
    "data"
   ]
  },
  {
   "cell_type": "code",
   "execution_count": 18,
   "metadata": {},
   "outputs": [
    {
     "data": {
      "text/plain": [
       "['23,PENAN,19', '40,CHETAN,52', '56,RAHUL,85']"
      ]
     },
     "execution_count": 18,
     "metadata": {},
     "output_type": "execute_result"
    }
   ],
   "source": [
    "data.rsplit(\" \")"
   ]
  },
  {
   "cell_type": "code",
   "execution_count": 20,
   "metadata": {},
   "outputs": [],
   "source": [
    "#summary all types for split()"
   ]
  },
  {
   "cell_type": "code",
   "execution_count": 22,
   "metadata": {},
   "outputs": [
    {
     "name": "stdout",
     "output_type": "stream",
     "text": [
      "['Python', 'is', 'Awesome']\n",
      "['Python', 'is Awesome']\n",
      "['Java', 'Python', 'iOS', 'Android']\n",
      "Hi There\n",
      "How are you?\n",
      "I am fine\n",
      "['Hi', 'Hello', 'Adios']\n",
      "['', 'B', 'C', 'D']\n",
      "['', 'B', 'CAD']\n",
      "Input Data Length = 3\n",
      "List of inputs = ['Rahul', '36', '45']\n"
     ]
    }
   ],
   "source": [
    "# split() example\n",
    "s = 'Python is Awesome'\n",
    "str_list = s.split(sep=' ')\n",
    "print(str_list)\n",
    "\n",
    "str_list = s.split(sep=' ', maxsplit=1)\n",
    "print(str_list)\n",
    "\n",
    "s = '  Java  Python iOS    Android  '\n",
    "str_list = s.split()\n",
    "print(str_list)\n",
    "\n",
    "multiline_str = 'Hi There\\nHow are you?\\nI am fine'\n",
    "multiline_str_split_list = multiline_str.split(sep='\\n')\n",
    "for s in multiline_str_split_list:\n",
    "    print(s)\n",
    "\n",
    "s = 'Hi||Hello||Adios'\n",
    "str_list = s.split('||')\n",
    "print(str_list)\n",
    "\n",
    "# using split() with str class\n",
    "print(str.split('ABACAD', sep='A'))\n",
    "print(str.split('ABACAD', sep='A', maxsplit=2))\n",
    "\n",
    "# csv and user input example\n",
    "# input_csv = input('Please enter CSV Data\\n')\n",
    "input_csv = \"Rahul,36,45\"\n",
    "input_csv_split_list = input_csv.split(sep=',')\n",
    "print('Input Data Length =', len(input_csv_split_list))\n",
    "print('List of inputs =', input_csv_split_list)"
   ]
  },
  {
   "cell_type": "code",
   "execution_count": null,
   "metadata": {},
   "outputs": [],
   "source": []
  },
  {
   "cell_type": "code",
   "execution_count": null,
   "metadata": {},
   "outputs": [],
   "source": []
  }
 ],
 "metadata": {
  "kernelspec": {
   "display_name": "Python 3",
   "language": "python",
   "name": "python3"
  },
  "language_info": {
   "codemirror_mode": {
    "name": "ipython",
    "version": 3
   },
   "file_extension": ".py",
   "mimetype": "text/x-python",
   "name": "python",
   "nbconvert_exporter": "python",
   "pygments_lexer": "ipython3",
   "version": "3.7.3"
  }
 },
 "nbformat": 4,
 "nbformat_minor": 2
}

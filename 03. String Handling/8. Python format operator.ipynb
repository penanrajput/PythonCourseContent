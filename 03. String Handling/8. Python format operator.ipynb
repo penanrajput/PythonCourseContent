{
 "cells": [
  {
   "cell_type": "markdown",
   "metadata": {},
   "source": [
    "format method over + concanate string  \n",
    "* {} place holder easy to use\n",
    "* you can do advaced formating with {} placeholder   \n",
    "i.e. :02 means zero padding, :.2f means 2 dot after decimal"
   ]
  },
  {
   "cell_type": "code",
   "execution_count": 3,
   "metadata": {
    "ExecuteTime": {
     "end_time": "2019-07-06T21:51:02.835842Z",
     "start_time": "2019-07-06T21:51:02.828867Z"
    }
   },
   "outputs": [
    {
     "name": "stdout",
     "output_type": "stream",
     "text": [
      "My name is Penan Rajput and age is 19\n",
      "My name is Penan Rajput and age is 19\n"
     ]
    }
   ],
   "source": [
    "first, last, age = \"Penan\", \"Rajput\", 19\n",
    "\n",
    "statement = \"My name is {} {} and age is {}\".format(first, last, age)\n",
    "print(statement)\n",
    "\n",
    "statement = \"My name is {0} {1} and age is {2}\".format(first, last, age)\n",
    "print(statement)"
   ]
  },
  {
   "cell_type": "code",
   "execution_count": 48,
   "metadata": {},
   "outputs": [
    {
     "name": "stdout",
     "output_type": "stream",
     "text": [
      "My name is Penan Rajput\n",
      "My age is 23\n",
      "The value of pi is 3.141592653589793\n",
      "My name is Penan and age is 23 and Nickname is Penan\n",
      "My name is Penan and age is 23\n",
      "My name is Penan and age is 23\n"
     ]
    }
   ],
   "source": [
    "# Normal formatting of all datatype\n",
    "first, last  = \"Penan\", \"Rajput\"\n",
    "sentence = \"My name is {} {}\".format(first, last)\n",
    "print(sentence)\n",
    "\n",
    "age = 23 \n",
    "sentence = \"My age is {}\".format(age)\n",
    "print(sentence)\n",
    "\n",
    "pi = 3.14159265358979323\n",
    "\n",
    "sentence = \"The value of pi is {}\".format(pi)\n",
    "print(sentence)\n",
    "\n",
    "\n",
    "name = \"Penan\"\n",
    "age = '23'\n",
    "\n",
    "sentence = \"My name is {} and age is {} and Nickname is {}\".format(name,age,name)\n",
    "print(sentence)\n",
    "\n",
    "# Dictionary\n",
    "person = {'name':'Penan', \"age\":'23'}\n",
    "sentence = \"My name is {} and age is {}\".format(person['name'], person['age'])\n",
    "print(sentence)\n",
    "\n",
    "# List\n",
    "l = [\"Penan\", 23]\n",
    "sentence = \"My name is {} and age is {}\".format(l[0], l[1])\n",
    "print(sentence)\n",
    "\n",
    "# class \n",
    "class Person:\n",
    "    def __init__(self, name, age):\n",
    "        self.name = name\n",
    "        self.age = age\n",
    "    \n",
    "p1 = Person(\"Penan\", '23')\n",
    "sentence = 'My name is {} and age is {}'.format(p1.name, p1.age)\n",
    "print(sentence)\n",
    "\n",
    "# Date\n",
    "import datetime\n",
    "date = datetime.datetime(2017,12,1)\n",
    "print(\"Birthdate is {}\".format(date))"
   ]
  },
  {
   "cell_type": "code",
   "execution_count": 37,
   "metadata": {},
   "outputs": [
    {
     "name": "stdout",
     "output_type": "stream",
     "text": [
      "40 * 100 is 4000\n"
     ]
    }
   ],
   "source": [
    "# Direct mathematical calculational\n",
    "sentence = \"40 * 100 is {}\".format(40*100)\n",
    "print(sentence)"
   ]
  },
  {
   "cell_type": "code",
   "execution_count": 26,
   "metadata": {},
   "outputs": [
    {
     "name": "stdout",
     "output_type": "stream",
     "text": [
      "value is 01\n",
      "value is 02\n",
      "value is 03\n",
      "value is 04\n",
      "value is 05\n",
      "value is 06\n",
      "value is 07\n",
      "value is 08\n",
      "value is 09\n",
      "value is 10\n"
     ]
    }
   ],
   "source": [
    "# Integer 0's padding\n",
    "for _ in range(1, 11):\n",
    "    sentence = 'value is {:02}'.format(_)\n",
    "    print(sentence)"
   ]
  },
  {
   "cell_type": "code",
   "execution_count": 18,
   "metadata": {},
   "outputs": [
    {
     "name": "stdout",
     "output_type": "stream",
     "text": [
      "The value of pi is 3.14\n",
      "The value of pi is 3.142\n",
      "The value of pi is 3.1416\n"
     ]
    }
   ],
   "source": [
    "# Float \n",
    "pi = 3.14159265358979323\n",
    "\n",
    "sentence = \"The value of pi is {:.2f}\".format(pi)\n",
    "print(sentence)\n",
    "\n",
    "sentence = \"The value of pi is {:.3f}\".format(pi)\n",
    "print(sentence)\n",
    "\n",
    "sentence = \"The value of pi is {:.4f}\".format(pi)\n",
    "print(sentence)"
   ]
  },
  {
   "cell_type": "code",
   "execution_count": 21,
   "metadata": {},
   "outputs": [
    {
     "name": "stdout",
     "output_type": "stream",
     "text": [
      "My name is Penan and age is 23 and name is Penan\n"
     ]
    }
   ],
   "source": [
    "# String  {0} {1} {0}\n",
    "\n",
    "name = \"Penan\"\n",
    "age = '23'\n",
    "\n",
    "sentence = \"My name is {0} and age is {1} and Nickname is {0}\".format(name,age)\n",
    "print(sentence)"
   ]
  },
  {
   "cell_type": "code",
   "execution_count": 34,
   "metadata": {},
   "outputs": [
    {
     "name": "stdout",
     "output_type": "stream",
     "text": [
      "the value is 1,000,000\n",
      "the value is 1,000,000.00\n"
     ]
    }
   ],
   "source": [
    "# comma separated values\n",
    "sentence = \"the value is {:,}\".format(1000**2)\n",
    "print(sentence)\n",
    "\n",
    "sentence = \"the value is {:,.2f}\".format(1000**2)\n",
    "print(sentence)"
   ]
  },
  {
   "cell_type": "code",
   "execution_count": 42,
   "metadata": {},
   "outputs": [
    {
     "name": "stdout",
     "output_type": "stream",
     "text": [
      "My name is Penan and age is 23\n",
      "My name is Penan and age is 23\n"
     ]
    }
   ],
   "source": [
    "# Dictionary\n",
    "person = {'name':'Penan', \"age\":'23'}\n",
    "sentence = \"My name is {0[name]} and age is {1[age]}\".format(person, person)\n",
    "print(sentence)\n",
    "\n",
    "# more simpler\n",
    "person = {'name':'Penan', \"age\":'23'}\n",
    "sentence = \"My name is {0[name]} and age is {0[age]}\".format(person)\n",
    "print(sentence)"
   ]
  },
  {
   "cell_type": "code",
   "execution_count": 50,
   "metadata": {},
   "outputs": [
    {
     "name": "stdout",
     "output_type": "stream",
     "text": [
      "My name is Jenn and age is 23\n",
      "My name is Jenn and age is 23\n"
     ]
    }
   ],
   "source": [
    "# List\n",
    "l = [\"Jenn\", 23]\n",
    "sentence = \"My name is {0[0]} and age is {1[1]}\".format(l, l)\n",
    "print(sentence)\n",
    "\n",
    "# more simpler\n",
    "l = [\"Jenn\", 23]\n",
    "sentence = \"My name is {0[0]} and age is {0[1]}\".format(l)\n",
    "print(sentence)"
   ]
  },
  {
   "cell_type": "code",
   "execution_count": 57,
   "metadata": {},
   "outputs": [
    {
     "name": "stdout",
     "output_type": "stream",
     "text": [
      "My name is Penan and age is 23\n",
      "My name is Penan and age is 23\n"
     ]
    }
   ],
   "source": [
    "# class \n",
    "class Person:\n",
    "    def __init__(self, name, age):\n",
    "        self.name = name\n",
    "        self.age = age\n",
    "    \n",
    "p1 = Person(\"Penan\", '23')\n",
    "sentence = 'My name is {0.name} and age is {1.age}'.format(p1, p1)\n",
    "print(sentence)\n",
    "\n",
    "# More simpler\n",
    "class Person:\n",
    "    def __init__(self, name, age):\n",
    "        self.name = name\n",
    "        self.age = age\n",
    "    \n",
    "p1 = Person(\"Penan\", '23')\n",
    "sentence = 'My name is {0.name} and age is {0.age}'.format(p1)\n",
    "print(sentence)"
   ]
  },
  {
   "cell_type": "code",
   "execution_count": 58,
   "metadata": {},
   "outputs": [
    {
     "name": "stdout",
     "output_type": "stream",
     "text": [
      "My name is Penan and age is 23\n"
     ]
    }
   ],
   "source": [
    "# Unpacking Dictionary to make it more readable\n",
    "Person = {\"name\":\"Penan\", 'age': 23}\n",
    "sentence = \"My name is {name} and age is {age}\".format(**Person)\n",
    "print(sentence)"
   ]
  },
  {
   "cell_type": "code",
   "execution_count": 60,
   "metadata": {},
   "outputs": [
    {
     "name": "stdout",
     "output_type": "stream",
     "text": [
      "Birthdate is December 01, 2017\n"
     ]
    }
   ],
   "source": [
    "# Date\n",
    "# https://docs.python.org/2/library/datetime.html#strftime-and-strptime-behavior\n",
    "import datetime\n",
    "date = datetime.datetime(2017,12,1)\n",
    "print(\"Birthdate is {:%B %d, %Y}\".format(date)) # December 1, 2017\n"
   ]
  },
  {
   "cell_type": "markdown",
   "metadata": {},
   "source": [
    "<img src=\"format_date.png\">"
   ]
  },
  {
   "cell_type": "code",
   "execution_count": null,
   "metadata": {},
   "outputs": [],
   "source": []
  }
 ],
 "metadata": {
  "kernelspec": {
   "display_name": "Python 3",
   "language": "python",
   "name": "python3"
  },
  "language_info": {
   "codemirror_mode": {
    "name": "ipython",
    "version": 3
   },
   "file_extension": ".py",
   "mimetype": "text/x-python",
   "name": "python",
   "nbconvert_exporter": "python",
   "pygments_lexer": "ipython3",
   "version": "3.7.3"
  },
  "toc": {
   "base_numbering": 1,
   "nav_menu": {},
   "number_sections": true,
   "sideBar": true,
   "skip_h1_title": false,
   "title_cell": "Table of Contents",
   "title_sidebar": "Contents",
   "toc_cell": false,
   "toc_position": {},
   "toc_section_display": true,
   "toc_window_display": false
  },
  "varInspector": {
   "cols": {
    "lenName": 16,
    "lenType": 16,
    "lenVar": 40
   },
   "kernels_config": {
    "python": {
     "delete_cmd_postfix": "",
     "delete_cmd_prefix": "del ",
     "library": "var_list.py",
     "varRefreshCmd": "print(var_dic_list())"
    },
    "r": {
     "delete_cmd_postfix": ") ",
     "delete_cmd_prefix": "rm(",
     "library": "var_list.r",
     "varRefreshCmd": "cat(var_dic_list()) "
    }
   },
   "types_to_exclude": [
    "module",
    "function",
    "builtin_function_or_method",
    "instance",
    "_Feature"
   ],
   "window_display": false
  }
 },
 "nbformat": 4,
 "nbformat_minor": 2
}

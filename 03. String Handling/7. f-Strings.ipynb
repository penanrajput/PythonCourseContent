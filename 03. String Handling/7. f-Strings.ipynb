{
 "cells": [
  {
   "cell_type": "code",
   "execution_count": 1,
   "metadata": {},
   "outputs": [
    {
     "data": {
      "text/plain": [
       "'Hello, John!'"
      ]
     },
     "execution_count": 1,
     "metadata": {},
     "output_type": "execute_result"
    }
   ],
   "source": [
    "name = \"John\"\n",
    "f'Hello, {name}!'"
   ]
  },
  {
   "cell_type": "code",
   "execution_count": 3,
   "metadata": {},
   "outputs": [
    {
     "data": {
      "text/plain": [
       "'my name is Mike and age is 30'"
      ]
     },
     "execution_count": 3,
     "metadata": {},
     "output_type": "execute_result"
    }
   ],
   "source": [
    "name = \"Mike\"\n",
    "age = 30\n",
    "f\"my name is {name} and age is {age}\""
   ]
  },
  {
   "cell_type": "code",
   "execution_count": 4,
   "metadata": {},
   "outputs": [
    {
     "data": {
      "text/plain": [
       "'list is [1, 2, 3]'"
      ]
     },
     "execution_count": 4,
     "metadata": {},
     "output_type": "execute_result"
    }
   ],
   "source": [
    "name = [1, 2, 3]\n",
    "f'list is {name}'"
   ]
  },
  {
   "cell_type": "code",
   "execution_count": 8,
   "metadata": {},
   "outputs": [
    {
     "data": {
      "text/plain": [
       "'name is Sachin and age is 50'"
      ]
     },
     "execution_count": 8,
     "metadata": {},
     "output_type": "execute_result"
    }
   ],
   "source": [
    "# implementation of f'' in function\n",
    "def sentence(name, age):\n",
    "    return f'name is {name} and age is {age}'\n",
    "sentence(\"Sachin\", 50)"
   ]
  },
  {
   "cell_type": "markdown",
   "metadata": {},
   "source": [
    "### Advantage of fstring\n",
    "* easy to use\n",
    "* you dont always look for place holder {}"
   ]
  },
  {
   "cell_type": "code",
   "execution_count": null,
   "metadata": {},
   "outputs": [
    {
     "name": "stdout",
     "output_type": "stream",
     "text": [
      "40 * 100 is 4000\n"
     ]
    }
   ],
   "source": [
    "# Direct mathematical calculational\n",
    "sentence = f\"40 * 100 is {40*100}\"\n",
    "print(sentence)"
   ]
  },
  {
   "cell_type": "code",
   "execution_count": null,
   "metadata": {},
   "outputs": [
    {
     "name": "stdout",
     "output_type": "stream",
     "text": [
      "value is 01  and  value is 001\n",
      "value is 02  and  value is 002\n",
      "value is 03  and  value is 003\n",
      "value is 04  and  value is 004\n",
      "value is 05  and  value is 005\n",
      "value is 06  and  value is 006\n",
      "value is 07  and  value is 007\n",
      "value is 08  and  value is 008\n",
      "value is 09  and  value is 009\n",
      "value is 10  and  value is 010\n"
     ]
    }
   ],
   "source": [
    "# Integer 0's padding\n",
    "for _ in range(1, 11):\n",
    "    sentence = f'value is {_:02}'\n",
    "    sentence2 = f'value is {_:03}'\n",
    "    print(sentence, \" and \", sentence2)"
   ]
  },
  {
   "cell_type": "code",
   "execution_count": null,
   "metadata": {},
   "outputs": [
    {
     "name": "stdout",
     "output_type": "stream",
     "text": [
      "The value of pi is 3.14\n",
      "The value of pi is 3.142\n",
      "The value of pi is 3.1416\n"
     ]
    }
   ],
   "source": [
    "# Float \n",
    "pi = 3.14159265358979323\n",
    "\n",
    "sentence = f\"The value of pi is {pi:.2f}\"\n",
    "print(sentence)\n",
    "\n",
    "sentence = f\"The value of pi is {pi:.3f}\"\n",
    "print(sentence)\n",
    "\n",
    "sentence = f\"The value of pi is {pi:.4f}\"\n",
    "print(sentence)"
   ]
  },
  {
   "cell_type": "code",
   "execution_count": null,
   "metadata": {},
   "outputs": [
    {
     "name": "stdout",
     "output_type": "stream",
     "text": [
      "My name is Penan and age is 23 and Nickname is Penan\n"
     ]
    }
   ],
   "source": [
    "# String  {0} {1} {0}\n",
    "\n",
    "name = \"Penan\"\n",
    "age = '23'\n",
    "\n",
    "sentence = f\"My name is {name} and age is {age} and Nickname is {name}\"\n",
    "print(sentence)"
   ]
  },
  {
   "cell_type": "code",
   "execution_count": null,
   "metadata": {},
   "outputs": [
    {
     "name": "stdout",
     "output_type": "stream",
     "text": [
      "the value is 1,000,000\n",
      "the value is 1,000,000.00\n"
     ]
    }
   ],
   "source": [
    "# comma separated values\n",
    "sentence = f\"the value is {1000**2:,}\"\n",
    "print(sentence)\n",
    "\n",
    "sentence = f\"the value is {1000**2:,.2f}\"\n",
    "print(sentence)"
   ]
  },
  {
   "cell_type": "code",
   "execution_count": null,
   "metadata": {},
   "outputs": [
    {
     "name": "stdout",
     "output_type": "stream",
     "text": [
      "My name is Penan and age is 23\n"
     ]
    }
   ],
   "source": [
    "# Dictionary\n",
    "\n",
    "person = {'name':'Penan', \"age\":'23'}\n",
    "sentence = f\"My name is {person['name']} and age is {person['age']}\"\n",
    "print(sentence)"
   ]
  },
  {
   "cell_type": "code",
   "execution_count": null,
   "metadata": {},
   "outputs": [
    {
     "name": "stdout",
     "output_type": "stream",
     "text": [
      "My name is Jenn and age is 23\n"
     ]
    }
   ],
   "source": [
    "# List\n",
    "\n",
    "l = [\"Jenn\", 23]\n",
    "sentence = f\"My name is {l[0]} and age is {l[1]}\"\n",
    "print(sentence)"
   ]
  },
  {
   "cell_type": "code",
   "execution_count": null,
   "metadata": {
    "ExecuteTime": {
     "end_time": "2019-07-06T13:20:03.413864Z",
     "start_time": "2019-07-06T13:20:03.409855Z"
    }
   },
   "outputs": [
    {
     "name": "stdout",
     "output_type": "stream",
     "text": [
      "My name is Penan and age is 23\n"
     ]
    }
   ],
   "source": [
    "# class \n",
    "\n",
    "class Person:\n",
    "    def __init__(self, name, age):\n",
    "        self.name = name\n",
    "        self.age = age\n",
    "    \n",
    "p1 = Person(\"Penan\", '23')\n",
    "sentence = f'My name is {p1.name} and age is {p1.age}'\n",
    "print(sentence)"
   ]
  },
  {
   "cell_type": "markdown",
   "metadata": {
    "ExecuteTime": {
     "end_time": "2019-07-06T13:20:45.733542Z",
     "start_time": "2019-07-06T13:20:45.730534Z"
    }
   },
   "source": [
    "<img src=\"format_date.png\">"
   ]
  },
  {
   "cell_type": "code",
   "execution_count": null,
   "metadata": {
    "ExecuteTime": {
     "end_time": "2019-07-06T13:19:53.621627Z",
     "start_time": "2019-07-06T13:19:53.618619Z"
    }
   },
   "outputs": [
    {
     "name": "stdout",
     "output_type": "stream",
     "text": [
      "Birthdate is December 01, 2017\n"
     ]
    }
   ],
   "source": [
    "# Date\n",
    "# https://docs.python.org/2/library/datetime.html#strftime-and-strptime-behavior\n",
    "import datetime\n",
    "date = datetime.datetime(2017,12,1)\n",
    "print(f\"Birthdate is {date:%B %d, %Y}\") # December 1, 2017"
   ]
  }
 ],
 "metadata": {
  "kernelspec": {
   "display_name": "Python 3",
   "language": "python",
   "name": "python3"
  },
  "language_info": {
   "codemirror_mode": {
    "name": "ipython",
    "version": 3
   },
   "file_extension": ".py",
   "mimetype": "text/x-python",
   "name": "python",
   "nbconvert_exporter": "python",
   "pygments_lexer": "ipython3",
   "version": "3.10.2"
  }
 },
 "nbformat": 4,
 "nbformat_minor": 2
}

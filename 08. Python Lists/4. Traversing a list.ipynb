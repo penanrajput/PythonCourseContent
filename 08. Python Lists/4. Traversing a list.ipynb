{
 "cells": [
  {
   "cell_type": "code",
   "execution_count": 10,
   "metadata": {},
   "outputs": [],
   "source": [
    "num = [1.1, 1.2, 1.3, 1.4, 1.5, 1.6, 1.7, 1.8, 1.9, 2.0] # list of float"
   ]
  },
  {
   "cell_type": "code",
   "execution_count": 11,
   "metadata": {},
   "outputs": [
    {
     "name": "stdout",
     "output_type": "stream",
     "text": [
      "[1.1, 1.2, 1.3, 1.4, 1.5, 1.6, 1.7, 1.8, 1.9, 2.0]\n"
     ]
    }
   ],
   "source": [
    "print(num)"
   ]
  },
  {
   "cell_type": "code",
   "execution_count": 12,
   "metadata": {},
   "outputs": [
    {
     "name": "stdout",
     "output_type": "stream",
     "text": [
      "list element : 1.1\n",
      "list element : 1.2\n",
      "list element : 1.3\n",
      "list element : 1.4\n",
      "list element : 1.5\n",
      "list element : 1.6\n",
      "list element : 1.7\n",
      "list element : 1.8\n",
      "list element : 1.9\n",
      "list element : 2.0\n"
     ]
    }
   ],
   "source": [
    "# traversing using For loop\n",
    "for i in num:\n",
    "    print(f\"list element : {i}\")"
   ]
  },
  {
   "cell_type": "code",
   "execution_count": 20,
   "metadata": {},
   "outputs": [
    {
     "name": "stdout",
     "output_type": "stream",
     "text": [
      "list element :  1.1\n",
      "list element :  1.2\n",
      "list element :  1.3\n",
      "list element :  1.4\n",
      "list element :  1.5\n",
      "list element :  1.6\n",
      "list element :  1.7\n",
      "list element :  1.8\n",
      "list element :  1.9\n",
      "list element :  2.0\n"
     ]
    }
   ],
   "source": [
    "# while loop\n",
    "i = 0 \n",
    "while i in range(len(num)):\n",
    "    print(\"list element : \", num[i])\n",
    "    i=i+1"
   ]
  },
  {
   "cell_type": "code",
   "execution_count": 21,
   "metadata": {},
   "outputs": [],
   "source": [
    "# Using list comprehension (Possibly the most concrete way)."
   ]
  },
  {
   "cell_type": "code",
   "execution_count": 26,
   "metadata": {},
   "outputs": [
    {
     "name": "stdout",
     "output_type": "stream",
     "text": [
      "list element :  1.1\n",
      "list element :  1.2\n",
      "list element :  1.3\n",
      "list element :  1.4\n",
      "list element :  1.5\n",
      "list element :  1.6\n",
      "list element :  1.7\n",
      "list element :  1.8\n",
      "list element :  1.9\n",
      "list element :  2.0\n"
     ]
    },
    {
     "data": {
      "text/plain": [
       "[None, None, None, None, None, None, None, None, None, None]"
      ]
     },
     "execution_count": 26,
     "metadata": {},
     "output_type": "execute_result"
    }
   ],
   "source": [
    "[print(\"list element : \", i) for i in num]"
   ]
  },
  {
   "cell_type": "code",
   "execution_count": 27,
   "metadata": {},
   "outputs": [
    {
     "name": "stdout",
     "output_type": "stream",
     "text": [
      "0 element is 1.1\n",
      "1 element is 1.2\n",
      "2 element is 1.3\n",
      "3 element is 1.4\n",
      "4 element is 1.5\n",
      "5 element is 1.6\n",
      "6 element is 1.7\n",
      "7 element is 1.8\n",
      "8 element is 1.9\n",
      "9 element is 2.0\n"
     ]
    }
   ],
   "source": [
    "# Using enumerate()\n",
    "for i, value in enumerate(num):\n",
    "    print(f\"{i} element is {value}\")"
   ]
  },
  {
   "cell_type": "code",
   "execution_count": 30,
   "metadata": {},
   "outputs": [],
   "source": [
    "# Even method #2 can be used to find the index, \n",
    "# but method #1 can’t (Unless an extra variable\n",
    "# is incremented every iteration) and method #5 \n",
    "# gives a concise representation of this\n",
    "# indexing."
   ]
  },
  {
   "cell_type": "code",
   "execution_count": 31,
   "metadata": {},
   "outputs": [],
   "source": [
    "# Using Numpy"
   ]
  },
  {
   "cell_type": "code",
   "execution_count": 2,
   "metadata": {},
   "outputs": [
    {
     "ename": "ModuleNotFoundError",
     "evalue": "No module named 'numpy'",
     "output_type": "error",
     "traceback": [
      "\u001b[1;31m---------------------------------------------------------------------------\u001b[0m",
      "\u001b[1;31mModuleNotFoundError\u001b[0m                       Traceback (most recent call last)",
      "\u001b[1;32m<ipython-input-2-50e16fbd903a>\u001b[0m in \u001b[0;36m<module>\u001b[1;34m\u001b[0m\n\u001b[0;32m      8\u001b[0m \u001b[1;31m# Python program for\u001b[0m\u001b[1;33m\u001b[0m\u001b[1;33m\u001b[0m\u001b[1;33m\u001b[0m\u001b[0m\n\u001b[0;32m      9\u001b[0m \u001b[1;31m# iterating over array\u001b[0m\u001b[1;33m\u001b[0m\u001b[1;33m\u001b[0m\u001b[1;33m\u001b[0m\u001b[0m\n\u001b[1;32m---> 10\u001b[1;33m \u001b[1;32mimport\u001b[0m \u001b[0mnumpy\u001b[0m \u001b[1;32mas\u001b[0m \u001b[0mgeek\u001b[0m\u001b[1;33m\u001b[0m\u001b[1;33m\u001b[0m\u001b[0m\n\u001b[0m\u001b[0;32m     11\u001b[0m \u001b[1;33m\u001b[0m\u001b[0m\n\u001b[0;32m     12\u001b[0m \u001b[1;31m# creating an array using\u001b[0m\u001b[1;33m\u001b[0m\u001b[1;33m\u001b[0m\u001b[1;33m\u001b[0m\u001b[0m\n",
      "\u001b[1;31mModuleNotFoundError\u001b[0m: No module named 'numpy'"
     ]
    }
   ],
   "source": [
    "# For very large n-dimensional lists (for example an image array), it is sometimes better to use an external library such as numpy.\n",
    "\n",
    "# filter_none\n",
    "# edit\n",
    "# play_arrow\n",
    "\n",
    "# brightness_4\n",
    "# Python program for \n",
    "# iterating over array \n",
    "import numpy as geek \n",
    "   \n",
    "# creating an array using   \n",
    "# arrange method \n",
    "a = geek.arange(9) \n",
    "   \n",
    "# shape array with 3 rows   \n",
    "# and 4 columns \n",
    "a = a.reshape(3, 3) \n",
    "   \n",
    "# iterating an array \n",
    "for x in geek.nditer(a): \n",
    "    print(x) "
   ]
  }
 ],
 "metadata": {
  "kernelspec": {
   "display_name": "Python 3",
   "language": "python",
   "name": "python3"
  },
  "language_info": {
   "codemirror_mode": {
    "name": "ipython",
    "version": 3
   },
   "file_extension": ".py",
   "mimetype": "text/x-python",
   "name": "python",
   "nbconvert_exporter": "python",
   "pygments_lexer": "ipython3",
   "version": "3.7.3"
  },
  "toc": {
   "base_numbering": 1,
   "nav_menu": {},
   "number_sections": true,
   "sideBar": true,
   "skip_h1_title": false,
   "title_cell": "Table of Contents",
   "title_sidebar": "Contents",
   "toc_cell": false,
   "toc_position": {},
   "toc_section_display": true,
   "toc_window_display": false
  },
  "varInspector": {
   "cols": {
    "lenName": 16,
    "lenType": 16,
    "lenVar": 40
   },
   "kernels_config": {
    "python": {
     "delete_cmd_postfix": "",
     "delete_cmd_prefix": "del ",
     "library": "var_list.py",
     "varRefreshCmd": "print(var_dic_list())"
    },
    "r": {
     "delete_cmd_postfix": ") ",
     "delete_cmd_prefix": "rm(",
     "library": "var_list.r",
     "varRefreshCmd": "cat(var_dic_list()) "
    }
   },
   "types_to_exclude": [
    "module",
    "function",
    "builtin_function_or_method",
    "instance",
    "_Feature"
   ],
   "window_display": false
  }
 },
 "nbformat": 4,
 "nbformat_minor": 2
}
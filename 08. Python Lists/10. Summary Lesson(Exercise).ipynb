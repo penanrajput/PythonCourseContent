{
 "metadata": {
  "language_info": {
   "codemirror_mode": {
    "name": "ipython",
    "version": 3
   },
   "file_extension": ".py",
   "mimetype": "text/x-python",
   "name": "python",
   "nbconvert_exporter": "python",
   "pygments_lexer": "ipython3",
   "version": "3.8.0-final"
  },
  "orig_nbformat": 2,
  "kernelspec": {
   "name": "python3",
   "display_name": "Python 3"
  }
 },
 "nbformat": 4,
 "nbformat_minor": 2,
 "cells": [
  {
   "cell_type": "code",
   "execution_count": 1,
   "metadata": {},
   "outputs": [],
   "source": [
    "# Creation of list(declaration) using list constructor\n",
    "fruits = []"
   ]
  },
  {
   "cell_type": "code",
   "execution_count": 3,
   "metadata": {},
   "outputs": [
    {
     "output_type": "execute_result",
     "data": {
      "text/plain": [
       "['apple', 'mango', 'pinnapple']"
      ]
     },
     "metadata": {},
     "execution_count": 3
    }
   ],
   "source": [
    "# Creation of list(initialisaiton) using list constructor\n",
    "fruits = ['apple', 'mango', 'pinnapple']\n",
    "fruits"
   ]
  },
  {
   "cell_type": "code",
   "execution_count": 4,
   "metadata": {},
   "outputs": [],
   "source": [
    "# Mutable\n",
    "# add, delete, modify items are allowed"
   ]
  },
  {
   "source": [
    "![Add elements to list](add_elements_in_list.png)"
   ],
   "cell_type": "markdown",
   "metadata": {}
  },
  {
   "source": [
    "## Add "
   ],
   "cell_type": "markdown",
   "metadata": {}
  },
  {
   "source": [
    "[//]: # ([add-items-in-list [append(item)  adds 1 item in last]  [extend(list) adds 1+ items in last] [insert(item) adds 1 item at given index] [+operator adds 2+ lists]])\n",
    " \n",
    "![Syntax tree](add_elements_in_list_syntax.png)"
   ],
   "cell_type": "markdown",
   "metadata": {}
  },
  {
   "cell_type": "code",
   "execution_count": 7,
   "metadata": {},
   "outputs": [
    {
     "output_type": "execute_result",
     "data": {
      "text/plain": [
       "['apple', 'mango', 'pinnapple', 'banana']"
      ]
     },
     "metadata": {},
     "execution_count": 7
    }
   ],
   "source": [
    "# add items\n",
    "fruits = ['apple', 'mango', 'pinnapple']\n",
    "# Single item is added (use of append)\n",
    "fruits.append(\"banana\");\n",
    "fruits"
   ]
  },
  {
   "cell_type": "code",
   "execution_count": 13,
   "metadata": {},
   "outputs": [
    {
     "output_type": "execute_result",
     "data": {
      "text/plain": [
       "['apple', 'mango', 'pinnapple', 'fruit1', 'fruit2']"
      ]
     },
     "metadata": {},
     "execution_count": 13
    }
   ],
   "source": [
    "# add items\n",
    "fruits = ['apple', 'mango', 'pinnapple']\n",
    "# Multiple items are added (use of extend)\n",
    "fruits.extend([\"fruit1\", \"fruit2\"])\n",
    "fruits"
   ]
  },
  {
   "cell_type": "code",
   "execution_count": 16,
   "metadata": {},
   "outputs": [
    {
     "output_type": "execute_result",
     "data": {
      "text/plain": [
       "['apple', 'fruit', 'mango', 'pinnapple']"
      ]
     },
     "metadata": {},
     "execution_count": 16
    }
   ],
   "source": [
    "# add item\n",
    "fruits = ['apple', 'mango', 'pinnapple']\n",
    "# Add element at given \"index\" (use of insert)\n",
    "fruits.insert(1, \"fruit\")\n",
    "fruits"
   ]
  },
  {
   "source": [
    "Given :  \n",
    "``` python\n",
    "fruits = ['apple', 'mango', 'pinnapple']\n",
    "```\n",
    "    * Q1. add element first\n",
    "    * Q2. add element last"
   ],
   "cell_type": "markdown",
   "metadata": {}
  },
  {
   "cell_type": "code",
   "execution_count": 21,
   "metadata": {},
   "outputs": [
    {
     "output_type": "execute_result",
     "data": {
      "text/plain": [
       "['fruit1', 'apple', 'mango', 'pinnapple']"
      ]
     },
     "metadata": {},
     "execution_count": 21
    }
   ],
   "source": [
    "# add element at index 0, at first \n",
    "fruits = ['apple', 'mango', 'pinnapple']\n",
    "fruits.insert(0, \"fruit1\")\n",
    "fruits"
   ]
  },
  {
   "cell_type": "code",
   "execution_count": 21,
   "metadata": {},
   "outputs": [
    {
     "output_type": "execute_result",
     "data": {
      "text/plain": [
       "['apple', 'mango', 'pinnapple', 'fruit1']"
      ]
     },
     "metadata": {},
     "execution_count": 21
    }
   ],
   "source": [
    "# add element at at last\n",
    "fruits = ['apple', 'mango', 'pinnapple']\n",
    "fruits.append(\"fruit1\")\n",
    "fruits"
   ]
  },
  {
   "cell_type": "code",
   "execution_count": 22,
   "metadata": {},
   "outputs": [
    {
     "output_type": "execute_result",
     "data": {
      "text/plain": [
       "[1, 3, 5, 7, 9, 11, 2, 4, 6, 8, 10, 12]"
      ]
     },
     "metadata": {},
     "execution_count": 22
    }
   ],
   "source": [
    "# Concatenatio of two or more lists\n",
    "l1 = [1, 3, 5, 7, 9, 11]\n",
    "l2 = [2, 4, 6, 8, 10, 12]\n",
    "l1+l2"
   ]
  },
  {
   "source": [
    "## Delete "
   ],
   "cell_type": "markdown",
   "metadata": {}
  },
  {
   "source": [
    "![](delete_list_syntax.png)"
   ],
   "cell_type": "markdown",
   "metadata": {}
  },
  {
   "source": [
    "* [delete [by-index[del-keyword[1-item indexing][2-items slicing]] ][by-value [remove-function [1-item]]]]"
   ],
   "cell_type": "markdown",
   "metadata": {}
  },
  {
   "cell_type": "code",
   "execution_count": 17,
   "metadata": {},
   "outputs": [
    {
     "output_type": "execute_result",
     "data": {
      "text/plain": [
       "['apple', 'pinnapple']"
      ]
     },
     "metadata": {},
     "execution_count": 17
    }
   ],
   "source": [
    "# delete items (by index) (use del keyword)\n",
    "fruits =  ['apple', 'mango', 'pinnapple']\n",
    "# delete mango\n",
    "del fruits[1]\n",
    "fruits"
   ]
  },
  {
   "cell_type": "code",
   "execution_count": 19,
   "metadata": {},
   "outputs": [
    {
     "output_type": "execute_result",
     "data": {
      "text/plain": [
       "['apple', 'pinnapple']"
      ]
     },
     "metadata": {},
     "execution_count": 19
    }
   ],
   "source": [
    "# delete items (by name) (use remove keyword)\n",
    "fruits =  ['apple', 'mango', 'pinnapple']\n",
    "# delete mango\n",
    "fruits.remove('mango')\n",
    "fruits"
   ]
  },
  {
   "cell_type": "code",
   "execution_count": 29,
   "metadata": {},
   "outputs": [
    {
     "output_type": "execute_result",
     "data": {
      "text/plain": [
       "['pinnapple', 'banana', 'orange']"
      ]
     },
     "metadata": {},
     "execution_count": 29
    }
   ],
   "source": [
    "# you can delete multiple items (by index)  in continuos index (use of slicing )\n",
    "f = ['apple', 'mango', 'pinnapple', 'banana', 'orange']\n",
    "del f[0:2]"
   ]
  },
  {
   "cell_type": "code",
   "execution_count": 32,
   "metadata": {},
   "outputs": [
    {
     "output_type": "execute_result",
     "data": {
      "text/plain": [
       "['mango', 'banana']"
      ]
     },
     "metadata": {},
     "execution_count": 32
    }
   ],
   "source": [
    "# you can delete multiple items (by index) in non-continuos index (use of slicing )\n",
    "f = ['apple', 'mango', 'pinnapple', 'banana', 'orange']\n",
    "# delete apple pinaaple orange\n",
    "del f[0]\n",
    "del f[1]\n",
    "del f[2]\n",
    "f"
   ]
  },
  {
   "cell_type": "code",
   "execution_count": 33,
   "metadata": {},
   "outputs": [
    {
     "output_type": "execute_result",
     "data": {
      "text/plain": [
       "['apple', 'mango', 'pinnapple', 'banana']"
      ]
     },
     "metadata": {},
     "execution_count": 33
    }
   ],
   "source": [
    "# delete last element \n",
    "fruits = ['apple', 'mango', 'pinnapple', 'banana', 'orange']\n",
    "fruits.pop()\n",
    "fruits"
   ]
  },
  {
   "cell_type": "code",
   "execution_count": 34,
   "metadata": {},
   "outputs": [],
   "source": [
    "# delete first element \n",
    "f = ['apple', 'mango', 'pinnapple', 'banana', 'orange']\n",
    "del f[0]"
   ]
  },
  {
   "cell_type": "code",
   "execution_count": 36,
   "metadata": {},
   "outputs": [],
   "source": [
    "# modify "
   ]
  },
  {
   "cell_type": "code",
   "execution_count": 16,
   "metadata": {},
   "outputs": [
    {
     "output_type": "stream",
     "name": "stdout",
     "text": [
      "append, clear, copy, count, extend, index, insert, pop, remove, reverse, sort, "
     ]
    }
   ],
   "source": [
    "f = []\n",
    "for i in dir(f):\n",
    "    if(not(i.startswith(\"__\"))):\n",
    "        print(i, end = \", \")"
   ]
  },
  {
   "cell_type": "code",
   "execution_count": null,
   "metadata": {},
   "outputs": [],
   "source": []
  }
 ]
}
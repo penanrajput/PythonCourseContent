{
 "cells": [
  {
   "cell_type": "code",
   "execution_count": 3,
   "metadata": {},
   "outputs": [
    {
     "name": "stdout",
     "output_type": "stream",
     "text": [
      "[0, 1, 3, 4, 5, 6, 7, 8, 9]\n"
     ]
    }
   ],
   "source": [
    "\n",
    "# using del keyword\n",
    "num = [0, 1, 2, 3, 4, 5, 6, 7, 8, 9]\n",
    "del num[2]\n",
    "print(num)"
   ]
  },
  {
   "cell_type": "markdown",
   "metadata": {},
   "source": [
    "# removing the item from list"
   ]
  },
  {
   "cell_type": "markdown",
   "metadata": {},
   "source": [
    "## removing by INDICES"
   ]
  },
  {
   "cell_type": "code",
   "execution_count": 2,
   "metadata": {},
   "outputs": [
    {
     "data": {
      "text/plain": [
       "5"
      ]
     },
     "execution_count": 2,
     "metadata": {},
     "output_type": "execute_result"
    }
   ],
   "source": [
    "# using pop function of list\n",
    "# syntax : list_name.pop(index)\n",
    "\n",
    "num = [0, 1, 2, 3, 4, 5, 6, 7, 8, 9]\n",
    "num.pop(5)"
   ]
  },
  {
   "cell_type": "markdown",
   "metadata": {},
   "source": [
    "## removing by item"
   ]
  },
  {
   "cell_type": "code",
   "execution_count": 11,
   "metadata": {},
   "outputs": [
    {
     "name": "stdout",
     "output_type": "stream",
     "text": [
      "[1, 4, 9, 16, 25, 25, 36]\n"
     ]
    }
   ],
   "source": [
    "# we use remove inbuilt function\n",
    "#syntax. <list_name>.remove(<list_element>)\n",
    "# it removes first the elements matched\n",
    "\n",
    "# num = range(0, 5) \n",
    "num = [25, 1, 4, 9, 16, 25, 25, 36]\n",
    "num.remove(25)\n",
    "print(num)"
   ]
  },
  {
   "cell_type": "code",
   "execution_count": 13,
   "metadata": {},
   "outputs": [
    {
     "name": "stdout",
     "output_type": "stream",
     "text": [
      "['Rose', 'Lily', 'Iris', 'Magenta']\n"
     ]
    }
   ],
   "source": [
    "# some sophisticated and easy example\n",
    "names = [\"Rose\", \"Lily\", \"Iris\", \"Magenta\", \"Magenta\"]\n",
    "names.remove(\"Magenta\")\n",
    "print(names)"
   ]
  },
  {
   "cell_type": "code",
   "execution_count": 15,
   "metadata": {},
   "outputs": [],
   "source": [
    "# removing the duplicates\n",
    "names = [\"Rose\", \"Rose\", \"Rose\",  \"Lily\",  \"Lily\",  \"Lily\",  \"Lily\",  \"Lily\" \"Iris\", \"Magenta\", \"Magenta\"]\n",
    "names"
   ]
  },
  {
   "cell_type": "code",
   "execution_count": null,
   "metadata": {},
   "outputs": [],
   "source": []
  }
 ],
 "metadata": {
  "kernelspec": {
   "display_name": "Python 3",
   "language": "python",
   "name": "python3"
  },
  "language_info": {
   "codemirror_mode": {
    "name": "ipython",
    "version": 3
   },
   "file_extension": ".py",
   "mimetype": "text/x-python",
   "name": "python",
   "nbconvert_exporter": "python",
   "pygments_lexer": "ipython3",
   "version": "3.7.3"
  }
 },
 "nbformat": 4,
 "nbformat_minor": 2
}